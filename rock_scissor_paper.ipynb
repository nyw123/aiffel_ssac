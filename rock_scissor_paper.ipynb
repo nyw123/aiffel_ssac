{
 "cells": [
  {
   "cell_type": "markdown",
   "source": [
    "#### 가위, 바위, 보 데이터를 읽을 수 있는 함수 "
   ],
   "metadata": {}
  },
  {
   "cell_type": "code",
   "execution_count": 74,
   "source": [
    "def load_data(img_path):\r\n",
    "    number_of_data = 300   # 폴더 안에 있는 가위바위보 이미지 개수 총합\r\n",
    "    img_size = 28   # 이미지 크기\r\n",
    "    color = 3   # 흑백 이미지 = 0, 칼라 이미지 = 3\r\n",
    "    \r\n",
    "    # 이미지 데이터와 라벨(가위 : 0, 바위 : 1, 보 : 2) 데이터를 담을 행렬(matrix) 영역을 생성합니다.\r\n",
    "    imgs = np.zeros(number_of_data*img_size*img_size*color,dtype=np.int32).reshape(number_of_data,img_size,img_size,color)\r\n",
    "    labels = np.zeros(number_of_data,dtype=np.int32)\r\n",
    "    \r\n",
    "    # 확장자 불러오기\r\n",
    "    temp = glob.glob(img_path + \"/scissor/*.jpeg\")\r\n",
    "    if len(temp) == 0:\r\n",
    "        temp = glob.glob(img_path+\"/scissor/*.jpg\")   \r\n",
    "        if len(temp) == 0:\r\n",
    "            extension = \"png\"\r\n",
    "        else:\r\n",
    "            extension = \"jpg\"\r\n",
    "    else:\r\n",
    "        extension = \"jpeg\"\r\n",
    "\r\n",
    "    idx = 0\r\n",
    "    for file in glob.iglob(img_path+'/scissor/*.{}'.format(extension)):\r\n",
    "        img = np.array(Image.open(file),dtype=np.int32)\r\n",
    "        imgs[idx,:,:,:] = img    # 데이터 영역에 이미지 행렬을 복사\r\n",
    "        labels[idx] = 0   # 가위 : 0\r\n",
    "        idx = idx + 1\r\n",
    "\r\n",
    "    for file in glob.iglob(img_path+'/rock/*.{}'.format(extension)):\r\n",
    "        img = np.array(Image.open(file),dtype=np.int32)\r\n",
    "        imgs[idx,:,:,:] = img    # 데이터 영역에 이미지 행렬을 복사\r\n",
    "        labels[idx] = 1   # 바위 : 1\r\n",
    "        idx = idx + 1       \r\n",
    "    \r\n",
    "    for file in glob.iglob(img_path+'/paper/*.{}'.format(extension)):\r\n",
    "        img = np.array(Image.open(file),dtype=np.int32)\r\n",
    "        imgs[idx,:,:,:] = img    # 데이터 영역에 이미지 행렬을 복사\r\n",
    "        labels[idx] = 2   # 보 : 2\r\n",
    "        idx = idx + 1\r\n",
    "\r\n",
    "    print(\"이미지 개수는\",idx,\"입니다.\")\r\n",
    "    return imgs, labels\r\n",
    "\r\n",
    "image_dir_path = os.getenv(\"HOME\") + \"/aiffel/exploration/rock_scissor_paper/trainData\"\r\n",
    "(x_train, y_train) = load_data(image_dir_path)\r\n",
    "x_train_norm = x_train/255.0   # 입력은 0~1 사이의 값으로 정규화\r\n",
    "\r\n",
    "print(\"x_train shape: {}\".format(x_train.shape))\r\n",
    "print(\"y_train shape: {}\".format(y_train.shape))\r\n"
   ],
   "outputs": [
    {
     "output_type": "stream",
     "name": "stdout",
     "text": [
      "이미지 개수는 300 입니다.\n",
      "x_train shape: (300, 28, 28, 3)\n",
      "y_train shape: (300,)\n"
     ]
    }
   ],
   "metadata": {}
  },
  {
   "cell_type": "code",
   "execution_count": 75,
   "source": [
    "import tensorflow as tf\r\n",
    "from tensorflow import keras\r\n",
    "import numpy as np\r\n",
    "\r\n",
    "model=keras.models.Sequential()\r\n",
    "model.add(keras.layers.Conv2D(16, (3,3), activation='relu', input_shape=(28,28,3)))\r\n",
    "model.add(keras.layers.MaxPool2D(2,2))\r\n",
    "model.add(keras.layers.Conv2D(32, (3,3), activation='relu'))\r\n",
    "model.add(keras.layers.MaxPooling2D((2,2)))\r\n",
    "model.add(keras.layers.Flatten())\r\n",
    "model.add(keras.layers.Dense(100, activation='relu'))\r\n",
    "model.add(keras.layers.Dense(3, activation='softmax'))\r\n",
    "\r\n",
    "print('Model에 추가된 Layer 개수: ', len(model.layers))\r\n",
    "\r\n",
    "model.summary()"
   ],
   "outputs": [
    {
     "output_type": "stream",
     "name": "stdout",
     "text": [
      "Model에 추가된 Layer 개수:  7\n",
      "Model: \"sequential_7\"\n",
      "_________________________________________________________________\n",
      "Layer (type)                 Output Shape              Param #   \n",
      "=================================================================\n",
      "conv2d_14 (Conv2D)           (None, 26, 26, 16)        448       \n",
      "_________________________________________________________________\n",
      "max_pooling2d_14 (MaxPooling (None, 13, 13, 16)        0         \n",
      "_________________________________________________________________\n",
      "conv2d_15 (Conv2D)           (None, 11, 11, 32)        4640      \n",
      "_________________________________________________________________\n",
      "max_pooling2d_15 (MaxPooling (None, 5, 5, 32)          0         \n",
      "_________________________________________________________________\n",
      "flatten_7 (Flatten)          (None, 800)               0         \n",
      "_________________________________________________________________\n",
      "dense_14 (Dense)             (None, 100)               80100     \n",
      "_________________________________________________________________\n",
      "dense_15 (Dense)             (None, 3)                 303       \n",
      "=================================================================\n",
      "Total params: 85,491\n",
      "Trainable params: 85,491\n",
      "Non-trainable params: 0\n",
      "_________________________________________________________________\n"
     ]
    }
   ],
   "metadata": {}
  },
  {
   "cell_type": "code",
   "execution_count": 76,
   "source": [
    "import matplotlib.pyplot as plt\r\n",
    "\r\n",
    "x_train_reshaped=x_train_norm.reshape( -1, 28, 28, 3)  # 데이터갯수에 -1을 쓰면 reshape시 자동계산됩니다.\r\n",
    "\r\n",
    "model.compile(optimizer='adam',\r\n",
    "             loss='sparse_categorical_crossentropy',\r\n",
    "             metrics=['accuracy'])\r\n",
    "\r\n",
    "results = model.fit(x_train_reshaped, y_train, epochs=20)\r\n"
   ],
   "outputs": [
    {
     "output_type": "stream",
     "name": "stdout",
     "text": [
      "Epoch 1/20\n",
      "10/10 [==============================] - 0s 2ms/step - loss: 1.1273 - accuracy: 0.3433\n",
      "Epoch 2/20\n",
      "10/10 [==============================] - 0s 1ms/step - loss: 1.1084 - accuracy: 0.3367\n",
      "Epoch 3/20\n",
      "10/10 [==============================] - 0s 1ms/step - loss: 1.0772 - accuracy: 0.3967\n",
      "Epoch 4/20\n",
      "10/10 [==============================] - 0s 1ms/step - loss: 1.0483 - accuracy: 0.6933\n",
      "Epoch 5/20\n",
      "10/10 [==============================] - 0s 1ms/step - loss: 1.0065 - accuracy: 0.6433\n",
      "Epoch 6/20\n",
      "10/10 [==============================] - 0s 1ms/step - loss: 0.9406 - accuracy: 0.7133\n",
      "Epoch 7/20\n",
      "10/10 [==============================] - 0s 2ms/step - loss: 0.8264 - accuracy: 0.7433\n",
      "Epoch 8/20\n",
      "10/10 [==============================] - 0s 1ms/step - loss: 0.6863 - accuracy: 0.7467\n",
      "Epoch 9/20\n",
      "10/10 [==============================] - 0s 1ms/step - loss: 0.5879 - accuracy: 0.7633\n",
      "Epoch 10/20\n",
      "10/10 [==============================] - 0s 1ms/step - loss: 0.4780 - accuracy: 0.7833\n",
      "Epoch 11/20\n",
      "10/10 [==============================] - 0s 1ms/step - loss: 0.4122 - accuracy: 0.8167\n",
      "Epoch 12/20\n",
      "10/10 [==============================] - 0s 1ms/step - loss: 0.3849 - accuracy: 0.8233\n",
      "Epoch 13/20\n",
      "10/10 [==============================] - 0s 1ms/step - loss: 0.3623 - accuracy: 0.8167\n",
      "Epoch 14/20\n",
      "10/10 [==============================] - 0s 1ms/step - loss: 0.3590 - accuracy: 0.8500\n",
      "Epoch 15/20\n",
      "10/10 [==============================] - 0s 1ms/step - loss: 0.3240 - accuracy: 0.8400\n",
      "Epoch 16/20\n",
      "10/10 [==============================] - 0s 1ms/step - loss: 0.3226 - accuracy: 0.8400\n",
      "Epoch 17/20\n",
      "10/10 [==============================] - 0s 1ms/step - loss: 0.2843 - accuracy: 0.8900\n",
      "Epoch 18/20\n",
      "10/10 [==============================] - 0s 1ms/step - loss: 0.2749 - accuracy: 0.8633\n",
      "Epoch 19/20\n",
      "10/10 [==============================] - 0s 1ms/step - loss: 0.2883 - accuracy: 0.8733\n",
      "Epoch 20/20\n",
      "10/10 [==============================] - 0s 1ms/step - loss: 0.2564 - accuracy: 0.9067\n"
     ]
    }
   ],
   "metadata": {}
  },
  {
   "cell_type": "code",
   "execution_count": 77,
   "source": [
    "# x_test, y_test를 만들기\r\n",
    "image_dir_path = os.getenv(\"HOME\") + \"/aiffel/exploration/rock_scissor_paper/testData\"\r\n",
    "(x_test, y_test) = load_data(image_dir_path)\r\n",
    "x_test_norm = x_test/255.0   # 입력은 0~1 사이의 값으로 정규화\r\n",
    "\r\n",
    "x_test_reshaped = x_test_norm.reshape( -1, 28, 28, 3)  # 데이터갯수에 -1을 쓰면 reshape시 자동계산됩니다.\r\n",
    "\r\n",
    "# 모델 시험\r\n",
    "test_loss, test_accuracy = model.evaluate(x_test_reshaped, y_test, verbose=2)\r\n",
    "print(\"test_loss: {} \".format(test_loss))\r\n",
    "print(\"test_accuracy: {}\".format(test_accuracy))"
   ],
   "outputs": [
    {
     "output_type": "stream",
     "name": "stdout",
     "text": [
      "이미지 개수는 300 입니다.\n",
      "10/10 - 0s - loss: 2.8366 - accuracy: 0.2367\n",
      "test_loss: 2.8365931510925293 \n",
      "test_accuracy: 0.23666666448116302\n"
     ]
    }
   ],
   "metadata": {}
  },
  {
   "cell_type": "markdown",
   "source": [
    "# 성능이 나빠서 데이터의 양을 추가"
   ],
   "metadata": {}
  },
  {
   "cell_type": "markdown",
   "source": [
    "## 1) 데이터 늘리기"
   ],
   "metadata": {}
  },
  {
   "cell_type": "code",
   "execution_count": 78,
   "source": [
    "# 폴더 내에 있는 모든 이미지 불러오기\r\n",
    "image_dir_path = os.getenv(\"HOME\") + \"/aiffel/exploration/rock_scissor_paper/data_6600\"\r\n",
    "dir_list = os.listdir(image_dir_path)\r\n",
    "\r\n",
    "first = True\r\n",
    "for dir in dir_list:\r\n",
    "    if first == True:\r\n",
    "        (x_data, y_data) = load_data(image_dir_path + \"/{}\".format(dir))\r\n",
    "        first = False\r\n",
    "    else:\r\n",
    "        (x_data_temp, y_data_temp) = load_data(image_dir_path + \"/{}\".format(dir))\r\n",
    "        x_data = np.vstack((x_data, x_data_temp))     \r\n",
    "        y_data = np.hstack((y_data, y_data_temp))\r\n",
    "\r\n",
    "print(\"x_data shape: {}\".format(x_data.shape))\r\n",
    "print(\"y_data shape: {}\".format(y_data.shape))"
   ],
   "outputs": [
    {
     "output_type": "stream",
     "name": "stdout",
     "text": [
      "이미지 개수는 300 입니다.\n",
      "이미지 개수는 300 입니다.\n",
      "이미지 개수는 300 입니다.\n",
      "이미지 개수는 300 입니다.\n",
      "이미지 개수는 300 입니다.\n",
      "이미지 개수는 300 입니다.\n",
      "이미지 개수는 100 입니다.\n",
      "이미지 개수는 300 입니다.\n",
      "이미지 개수는 300 입니다.\n",
      "이미지 개수는 200 입니다.\n",
      "이미지 개수는 300 입니다.\n",
      "이미지 개수는 300 입니다.\n",
      "이미지 개수는 300 입니다.\n",
      "이미지 개수는 300 입니다.\n",
      "이미지 개수는 300 입니다.\n",
      "이미지 개수는 300 입니다.\n",
      "이미지 개수는 300 입니다.\n",
      "이미지 개수는 300 입니다.\n",
      "이미지 개수는 300 입니다.\n",
      "이미지 개수는 300 입니다.\n",
      "이미지 개수는 300 입니다.\n",
      "이미지 개수는 300 입니다.\n",
      "x_data shape: (6600, 28, 28, 3)\n",
      "y_data shape: (6600,)\n"
     ]
    }
   ],
   "metadata": {}
  },
  {
   "cell_type": "markdown",
   "source": [
    "## 2) 데이터 나누고 정규화"
   ],
   "metadata": {}
  },
  {
   "cell_type": "code",
   "execution_count": 79,
   "source": [
    "from sklearn.model_selection import train_test_split\r\n",
    "\r\n",
    "x_train, x_test, y_train, y_test = train_test_split(x_data, y_data, test_size = 0.1, shuffle = True, random_state = 42)\r\n",
    "x_train_norm = x_train / 255.0\r\n",
    "x_test_norm = x_test / 255.0\r\n",
    "\r\n",
    "print(x_train.shape)\r\n",
    "print(y_train.shape)\r\n",
    "print(x_test.shape)\r\n",
    "print(y_test.shape)"
   ],
   "outputs": [
    {
     "output_type": "stream",
     "name": "stdout",
     "text": [
      "(5940, 28, 28, 3)\n",
      "(5940,)\n",
      "(660, 28, 28, 3)\n",
      "(660,)\n"
     ]
    }
   ],
   "metadata": {}
  },
  {
   "cell_type": "markdown",
   "source": [
    "## 3) 모델 학습"
   ],
   "metadata": {}
  },
  {
   "cell_type": "code",
   "execution_count": 80,
   "source": [
    "x_train_reshaped=x_train_norm.reshape( -1, 28, 28, 3)  # 데이터갯수에 -1을 쓰면 reshape시 자동계산됩니다.\r\n",
    "\r\n",
    "model.compile(optimizer='adam',\r\n",
    "             loss='sparse_categorical_crossentropy',\r\n",
    "             metrics=['accuracy'])\r\n",
    "\r\n",
    "results = model.fit(x_train_reshaped, y_train, epochs=20)\r\n",
    "\r\n",
    "'''\r\n",
    "# epoch에 따른 훈련 데이터 정확성 그래프\r\n",
    "plt.plot(results.history['accuracy'])\r\n",
    "#plt.plot(results.history['val_acc'])\r\n",
    "plt.title('model accuracy')\r\n",
    "plt.ylabel('accuracy')\r\n",
    "plt.xlabel('epoch')\r\n",
    "plt.legend(['train'], loc='upper left')\r\n",
    "plt.show()  \r\n",
    "'''"
   ],
   "outputs": [
    {
     "output_type": "stream",
     "name": "stdout",
     "text": [
      "Epoch 1/20\n",
      "186/186 [==============================] - 0s 1ms/step - loss: 1.0433 - accuracy: 0.5162\n",
      "Epoch 2/20\n",
      "186/186 [==============================] - 0s 1ms/step - loss: 0.6913 - accuracy: 0.7047\n",
      "Epoch 3/20\n",
      "186/186 [==============================] - 0s 1ms/step - loss: 0.4771 - accuracy: 0.8165\n",
      "Epoch 4/20\n",
      "186/186 [==============================] - 0s 1ms/step - loss: 0.3499 - accuracy: 0.8699\n",
      "Epoch 5/20\n",
      "186/186 [==============================] - 0s 1ms/step - loss: 0.2534 - accuracy: 0.9072\n",
      "Epoch 6/20\n",
      "186/186 [==============================] - 0s 1ms/step - loss: 0.1950 - accuracy: 0.9291\n",
      "Epoch 7/20\n",
      "186/186 [==============================] - 0s 1ms/step - loss: 0.1720 - accuracy: 0.9382\n",
      "Epoch 8/20\n",
      "186/186 [==============================] - 0s 1ms/step - loss: 0.1176 - accuracy: 0.9611\n",
      "Epoch 9/20\n",
      "186/186 [==============================] - 0s 1ms/step - loss: 0.0996 - accuracy: 0.9697\n",
      "Epoch 10/20\n",
      "186/186 [==============================] - 0s 1ms/step - loss: 0.0838 - accuracy: 0.9732\n",
      "Epoch 11/20\n",
      "186/186 [==============================] - 0s 1ms/step - loss: 0.0650 - accuracy: 0.9801\n",
      "Epoch 12/20\n",
      "186/186 [==============================] - 0s 1ms/step - loss: 0.0700 - accuracy: 0.9793\n",
      "Epoch 13/20\n",
      "186/186 [==============================] - 0s 1ms/step - loss: 0.0675 - accuracy: 0.9798\n",
      "Epoch 14/20\n",
      "186/186 [==============================] - 0s 1ms/step - loss: 0.0492 - accuracy: 0.9872\n",
      "Epoch 15/20\n",
      "186/186 [==============================] - 0s 1ms/step - loss: 0.0339 - accuracy: 0.9914\n",
      "Epoch 16/20\n",
      "186/186 [==============================] - 0s 1ms/step - loss: 0.0271 - accuracy: 0.9936\n",
      "Epoch 17/20\n",
      "186/186 [==============================] - 0s 1ms/step - loss: 0.0271 - accuracy: 0.9933\n",
      "Epoch 18/20\n",
      "186/186 [==============================] - 0s 1ms/step - loss: 0.0181 - accuracy: 0.9971\n",
      "Epoch 19/20\n",
      "186/186 [==============================] - 0s 1ms/step - loss: 0.0144 - accuracy: 0.9980\n",
      "Epoch 20/20\n",
      "186/186 [==============================] - 0s 1ms/step - loss: 0.0135 - accuracy: 0.9975\n"
     ]
    },
    {
     "output_type": "execute_result",
     "data": {
      "text/plain": [
       "\"\\n# epoch에 따른 훈련 데이터 정확성 그래프\\nplt.plot(results.history['accuracy'])\\n#plt.plot(results.history['val_acc'])\\nplt.title('model accuracy')\\nplt.ylabel('accuracy')\\nplt.xlabel('epoch')\\nplt.legend(['train'], loc='upper left')\\nplt.show()\\n\""
      ]
     },
     "metadata": {},
     "execution_count": 80
    }
   ],
   "metadata": {}
  },
  {
   "cell_type": "markdown",
   "source": [
    "## 4) 모델 평가"
   ],
   "metadata": {}
  },
  {
   "cell_type": "code",
   "execution_count": 81,
   "source": [
    "x_test_reshaped=x_test_norm.reshape( -1, 28, 28, 3)  # 데이터갯수에 -1을 쓰면 reshape시 자동계산됩니다.\r\n",
    "\r\n",
    "# 모델 시험\r\n",
    "test_loss, test_accuracy = model.evaluate(x_test_reshaped, y_test, verbose=2)\r\n",
    "print(\"test_loss: {} \".format(test_loss))\r\n",
    "print(\"test_accuracy: {}\".format(test_accuracy))"
   ],
   "outputs": [
    {
     "output_type": "stream",
     "name": "stdout",
     "text": [
      "21/21 - 0s - loss: 0.0796 - accuracy: 0.9818\n",
      "test_loss: 0.07961215078830719 \n",
      "test_accuracy: 0.9818181991577148\n"
     ]
    }
   ],
   "metadata": {}
  },
  {
   "cell_type": "markdown",
   "source": [
    "## [느낀점]\r\n",
    "정확도가 제자리걸음이라 퍼실님께 도움을 요청했는데 데이터의 양을 추가하면 정확도가 높아진다고 힌트를 주셔서 양을 늘렸더니 성능이 향상되었다.\r\n",
    "\r\n",
    "데이터의 양이 학습에 중요한것을 배웠다."
   ],
   "metadata": {}
  },
  {
   "cell_type": "markdown",
   "source": [],
   "metadata": {}
  }
 ],
 "metadata": {
  "kernelspec": {
   "display_name": "aiffel",
   "language": "python",
   "name": "aiffel"
  },
  "language_info": {
   "codemirror_mode": {
    "name": "ipython",
    "version": 3
   },
   "file_extension": ".py",
   "mimetype": "text/x-python",
   "name": "python",
   "nbconvert_exporter": "python",
   "pygments_lexer": "ipython3",
   "version": "3.7.9"
  }
 },
 "nbformat": 4,
 "nbformat_minor": 4
}