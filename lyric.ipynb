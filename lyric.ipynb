{
 "cells": [
  {
   "cell_type": "code",
   "execution_count": 12,
   "source": [
    "import os, re \r\n",
    "import numpy as np\r\n",
    "import tensorflow as tf\r\n",
    "\r\n",
    "# 파일을 읽기모드로 열고\r\n",
    "# 라인 단위로 끊어서 list 형태로 읽어옵니다.\r\n",
    "file_path = os.getenv('HOME') + '/aiffel/lyricist/data/shakespeare.txt'\r\n",
    "with open(file_path, \"r\") as f:\r\n",
    "    raw_corpus = f.read().splitlines()\r\n",
    "\r\n",
    "# 앞에서부터 10라인만 화면에 출력해 볼까요?\r\n",
    "print(raw_corpus[:9])"
   ],
   "outputs": [
    {
     "output_type": "stream",
     "name": "stdout",
     "text": [
      "['First Citizen:', 'Before we proceed any further, hear me speak.', '', 'All:', 'Speak, speak.', '', 'First Citizen:', 'You are all resolved rather to die than to famish?', '']\n"
     ]
    }
   ],
   "metadata": {}
  },
  {
   "cell_type": "code",
   "execution_count": 13,
   "source": [
    "for idx, sentence in enumerate(raw_corpus):\r\n",
    "    if len(sentence) == 0: continue   # 길이가 0인 문장은 건너뜁니다.\r\n",
    "    if sentence[-1] == \":\": continue  # 문장의 끝이 : 인 문장은 건너뜁니다.\r\n",
    "\r\n",
    "    if idx > 9: break   # 일단 문장 10개만 확인해 볼 겁니다.\r\n",
    "        \r\n",
    "    print(sentence)"
   ],
   "outputs": [
    {
     "output_type": "stream",
     "name": "stdout",
     "text": [
      "Before we proceed any further, hear me speak.\n",
      "Speak, speak.\n",
      "You are all resolved rather to die than to famish?\n"
     ]
    }
   ],
   "metadata": {}
  },
  {
   "cell_type": "code",
   "execution_count": 14,
   "source": [
    "# 입력된 문장을\r\n",
    "#     1. 소문자로 바꾸고, 양쪽 공백을 지웁니다\r\n",
    "#     2. 특수문자 양쪽에 공백을 넣고\r\n",
    "#     3. 여러개의 공백은 하나의 공백으로 바꿉니다\r\n",
    "#     4. a-zA-Z?.!,¿가 아닌 모든 문자를 하나의 공백으로 바꿉니다\r\n",
    "#     5. 다시 양쪽 공백을 지웁니다\r\n",
    "#     6. 문장 시작에는 <start>, 끝에는 <end>를 추가합니다\r\n",
    "# 이 순서로 처리해주면 문제가 되는 상황을 방지할 수 있겠네요!\r\n",
    "def preprocess_sentence(sentence):\r\n",
    "    sentence = sentence.lower().strip() # 1\r\n",
    "    sentence = re.sub(r\"([?.!,¿])\", r\" \\1 \", sentence) # 2\r\n",
    "    sentence = re.sub(r'[\" \"]+', \" \", sentence) # 3\r\n",
    "    sentence = re.sub(r\"[^a-zA-Z?.!,¿]+\", \" \", sentence) # 4\r\n",
    "    sentence = sentence.strip() # 5\r\n",
    "    sentence = '<start> ' + sentence + ' <end>' # 6\r\n",
    "    return sentence\r\n",
    "\r\n",
    "# 이 문장이 어떻게 필터링되는지 확인해 보세요.\r\n",
    "print(preprocess_sentence(\"This @_is ;;;sample        sentence.\"))"
   ],
   "outputs": [
    {
     "output_type": "stream",
     "name": "stdout",
     "text": [
      "<start> this is sample sentence . <end>\n"
     ]
    }
   ],
   "metadata": {}
  },
  {
   "cell_type": "code",
   "execution_count": 15,
   "source": [
    "corpus = []\r\n",
    "\r\n",
    "for sentence in raw_corpus:\r\n",
    "    # 우리가 원하지 않는 문장은 건너뜁니다\r\n",
    "    if len(sentence) == 0: continue\r\n",
    "    if sentence[-1] == \":\": continue\r\n",
    "    \r\n",
    "    # 정제를 하고 담아주세요\r\n",
    "    preprocessed_sentence = preprocess_sentence(sentence)\r\n",
    "    corpus.append(preprocessed_sentence)\r\n",
    "        \r\n",
    "# 정제된 결과를 10개만 확인해보죠\r\n",
    "corpus[:10]"
   ],
   "outputs": [
    {
     "output_type": "execute_result",
     "data": {
      "text/plain": [
       "['<start> before we proceed any further , hear me speak . <end>',\n",
       " '<start> speak , speak . <end>',\n",
       " '<start> you are all resolved rather to die than to famish ? <end>',\n",
       " '<start> resolved . resolved . <end>',\n",
       " '<start> first , you know caius marcius is chief enemy to the people . <end>',\n",
       " '<start> we know t , we know t . <end>',\n",
       " '<start> let us kill him , and we ll have corn at our own price . <end>',\n",
       " '<start> is t a verdict ? <end>',\n",
       " '<start> no more talking on t let it be done away , away ! <end>',\n",
       " '<start> one word , good citizens . <end>']"
      ]
     },
     "metadata": {},
     "execution_count": 15
    }
   ],
   "metadata": {}
  },
  {
   "cell_type": "code",
   "execution_count": 16,
   "source": [
    "# 토큰화 할 때 텐서플로우의 Tokenizer와 pad_sequences를 사용합니다\r\n",
    "# 더 잘 알기 위해 아래 문서들을 참고하면 좋습니다\r\n",
    "# https://www.tensorflow.org/api_docs/python/tf/keras/preprocessing/text/Tokenizer\r\n",
    "# https://www.tensorflow.org/api_docs/python/tf/keras/preprocessing/sequence/pad_sequences\r\n",
    "def tokenize(corpus):\r\n",
    "    # 7000단어를 기억할 수 있는 tokenizer를 만들겁니다\r\n",
    "    # 우리는 이미 문장을 정제했으니 filters가 필요없어요\r\n",
    "    # 7000단어에 포함되지 못한 단어는 '<unk>'로 바꿀거에요\r\n",
    "    tokenizer = tf.keras.preprocessing.text.Tokenizer(\r\n",
    "        num_words=7000, \r\n",
    "        filters=' ',\r\n",
    "        oov_token=\"<unk>\"\r\n",
    "    )\r\n",
    "    # corpus를 이용해 tokenizer 내부의 단어장을 완성합니다\r\n",
    "    tokenizer.fit_on_texts(corpus)\r\n",
    "    # 준비한 tokenizer를 이용해 corpus를 Tensor로 변환합니다\r\n",
    "    tensor = tokenizer.texts_to_sequences(corpus)   \r\n",
    "    # 입력 데이터의 시퀀스 길이를 일정하게 맞춰줍니다\r\n",
    "    # 만약 시퀀스가 짧다면 문장 뒤에 패딩을 붙여 길이를 맞춰줍니다.\r\n",
    "    # 문장 앞에 패딩을 붙여 길이를 맞추고 싶다면 padding='pre'를 사용합니다\r\n",
    "    tensor = tf.keras.preprocessing.sequence.pad_sequences(tensor, padding='post')  \r\n",
    "    \r\n",
    "    print(tensor,tokenizer)\r\n",
    "    return tensor, tokenizer\r\n",
    "\r\n",
    "tensor, tokenizer = tokenize(corpus)"
   ],
   "outputs": [
    {
     "output_type": "stream",
     "name": "stdout",
     "text": [
      "[[   2  143   40 ...    0    0    0]\n",
      " [   2  110    4 ...    0    0    0]\n",
      " [   2   11   50 ...    0    0    0]\n",
      " ...\n",
      " [   2  149 4553 ...    0    0    0]\n",
      " [   2   34   71 ...    0    0    0]\n",
      " [   2  945   34 ...    0    0    0]] <keras_preprocessing.text.Tokenizer object at 0x7f86cef77690>\n"
     ]
    }
   ],
   "metadata": {}
  },
  {
   "cell_type": "code",
   "execution_count": 17,
   "source": [
    "# tensor에서 마지막 토큰을 잘라내서 소스 문장을 생성합니다\r\n",
    "# 마지막 토큰은 <end>가 아니라 <pad>일 가능성이 높습니다.\r\n",
    "src_input = tensor[:, :-1]  \r\n",
    "# tensor에서 <start>를 잘라내서 타겟 문장을 생성합니다.\r\n",
    "tgt_input = tensor[:, 1:]    \r\n",
    "\r\n",
    "print(src_input[0])\r\n",
    "print(tgt_input[0])"
   ],
   "outputs": [
    {
     "output_type": "stream",
     "name": "stdout",
     "text": [
      "[  2 143  40 933 140 591   4 124  24 110   5   3   0   0   0   0   0   0\n",
      "   0   0]\n",
      "[143  40 933 140 591   4 124  24 110   5   3   0   0   0   0   0   0   0\n",
      "   0   0]\n"
     ]
    }
   ],
   "metadata": {}
  },
  {
   "cell_type": "code",
   "execution_count": 18,
   "source": [
    "BUFFER_SIZE = len(src_input)\r\n",
    "BATCH_SIZE = 256\r\n",
    "steps_per_epoch = len(src_input) // BATCH_SIZE\r\n",
    "\r\n",
    " # tokenizer가 구축한 단어사전 내 7000개와, 여기 포함되지 않은 0:<pad>를 포함하여 7001개\r\n",
    "VOCAB_SIZE = tokenizer.num_words + 1   \r\n",
    "\r\n",
    "# 준비한 데이터 소스로부터 데이터셋을 만듭니다\r\n",
    "# 데이터셋에 대해서는 아래 문서를 참고하세요\r\n",
    "# 자세히 알아둘수록 도움이 많이 되는 중요한 문서입니다\r\n",
    "# https://www.tensorflow.org/api_docs/python/tf/data/Dataset\r\n",
    "dataset = tf.data.Dataset.from_tensor_slices((src_input, tgt_input))\r\n",
    "dataset = dataset.shuffle(BUFFER_SIZE)\r\n",
    "dataset = dataset.batch(BATCH_SIZE, drop_remainder=True)\r\n",
    "dataset"
   ],
   "outputs": [
    {
     "output_type": "execute_result",
     "data": {
      "text/plain": [
       "<BatchDataset shapes: ((256, 20), (256, 20)), types: (tf.int32, tf.int32)>"
      ]
     },
     "metadata": {},
     "execution_count": 18
    }
   ],
   "metadata": {}
  },
  {
   "cell_type": "code",
   "execution_count": 65,
   "source": [
    "class TextGenerator(tf.keras.Model):\r\n",
    "    def __init__(self, vocab_size, embedding_size, hidden_size):\r\n",
    "        super().__init__()\r\n",
    "        \r\n",
    "        self.embedding = tf.keras.layers.Embedding(vocab_size, embedding_size)\r\n",
    "        self.rnn_1 = tf.keras.layers.LSTM(hidden_size, return_sequences=True)\r\n",
    "        self.rnn_2 = tf.keras.layers.LSTM(hidden_size, return_sequences=True)\r\n",
    "        self.linear = tf.keras.layers.Dense(vocab_size)\r\n",
    "        \r\n",
    "    def call(self, x):\r\n",
    "        out = self.embedding(x)\r\n",
    "        out = self.rnn_1(out)\r\n",
    "        out = self.rnn_2(out)\r\n",
    "        out = self.linear(out)\r\n",
    "        \r\n",
    "        return out\r\n",
    "    \r\n",
    "embedding_size = 128\r\n",
    "hidden_size = 1024\r\n",
    "model = TextGenerator(tokenizer.num_words + 1, embedding_size , hidden_size)"
   ],
   "outputs": [],
   "metadata": {}
  },
  {
   "cell_type": "code",
   "execution_count": 20,
   "source": [
    "# 데이터셋에서 데이터 한 배치만 불러오는 방법입니다.\r\n",
    "# 지금은 동작 원리에 너무 빠져들지 마세요~\r\n",
    "for src_sample, tgt_sample in dataset.take(1): break\r\n",
    "\r\n",
    "# 한 배치만 불러온 데이터를 모델에 넣어봅니다\r\n",
    "model(src_sample)"
   ],
   "outputs": [
    {
     "output_type": "execute_result",
     "data": {
      "text/plain": [
       "<tf.Tensor: shape=(256, 20, 7001), dtype=float32, numpy=\n",
       "array([[[ 1.08742734e-05,  5.99184095e-05,  4.80442977e-04, ...,\n",
       "          1.84724398e-04, -2.44788644e-05,  4.37384806e-05],\n",
       "        [-1.05528001e-04, -1.20581244e-04,  6.91066612e-04, ...,\n",
       "          2.27122466e-04, -2.34005885e-04, -2.55881168e-04],\n",
       "        [-4.91161656e-04, -1.04417311e-04,  7.50367704e-04, ...,\n",
       "          4.19394491e-04, -5.32279315e-04, -7.69473496e-04],\n",
       "        ...,\n",
       "        [ 1.29488099e-03,  1.05529011e-03, -1.58248018e-04, ...,\n",
       "          2.83851265e-03, -1.05201569e-03, -4.16524650e-04],\n",
       "        [ 1.64137012e-03,  1.26616575e-03, -2.09075763e-04, ...,\n",
       "          3.25974938e-03, -1.41977158e-03, -3.66497057e-04],\n",
       "        [ 1.92260172e-03,  1.44085602e-03, -2.79926200e-04, ...,\n",
       "          3.63796996e-03, -1.71026890e-03, -3.01924476e-04]],\n",
       "\n",
       "       [[ 1.08742734e-05,  5.99184095e-05,  4.80442977e-04, ...,\n",
       "          1.84724398e-04, -2.44788644e-05,  4.37384806e-05],\n",
       "        [ 5.34999126e-05,  2.87860224e-04,  8.59526335e-04, ...,\n",
       "          1.78879083e-04,  2.56656698e-04,  5.85115449e-05],\n",
       "        [ 5.90409290e-05,  6.13532786e-04,  7.54236244e-04, ...,\n",
       "          5.28455013e-04,  5.85953239e-04, -1.07880824e-05],\n",
       "        ...,\n",
       "        [ 8.05266493e-04,  3.17808095e-04, -2.04501284e-05, ...,\n",
       "          1.26271765e-03, -1.17822737e-03, -5.82993031e-04],\n",
       "        [ 1.15111878e-03,  5.84289257e-04, -1.01333870e-04, ...,\n",
       "          1.76642032e-03, -1.55024719e-03, -4.33731300e-04],\n",
       "        [ 1.44204963e-03,  8.19796755e-04, -1.99672417e-04, ...,\n",
       "          2.25582835e-03, -1.85516593e-03, -3.00015905e-04]],\n",
       "\n",
       "       [[ 1.08742734e-05,  5.99184095e-05,  4.80442977e-04, ...,\n",
       "          1.84724398e-04, -2.44788644e-05,  4.37384806e-05],\n",
       "        [ 9.36056531e-05,  1.18506352e-04,  6.45591645e-04, ...,\n",
       "          1.42586912e-04,  1.04268838e-04, -9.53197450e-05],\n",
       "        [-1.09532505e-06,  2.02887968e-04,  9.06417205e-04, ...,\n",
       "          1.59321527e-04,  8.02435079e-06, -3.44634114e-04],\n",
       "        ...,\n",
       "        [ 2.47779256e-03,  2.02324055e-03, -4.90432081e-04, ...,\n",
       "          4.39418061e-03, -2.23929365e-03, -2.72024154e-05],\n",
       "        [ 2.56031356e-03,  2.05465686e-03, -5.65001334e-04, ...,\n",
       "          4.57939925e-03, -2.24459358e-03,  2.71830158e-05],\n",
       "        [ 2.62557669e-03,  2.08049431e-03, -6.28801994e-04, ...,\n",
       "          4.73058270e-03, -2.23181280e-03,  6.79121731e-05]],\n",
       "\n",
       "       ...,\n",
       "\n",
       "       [[ 1.08742734e-05,  5.99184095e-05,  4.80442977e-04, ...,\n",
       "          1.84724398e-04, -2.44788644e-05,  4.37384806e-05],\n",
       "        [ 1.73071399e-04,  1.99015849e-04,  6.88827131e-04, ...,\n",
       "          3.28087510e-04,  2.62357607e-05,  5.09255278e-06],\n",
       "        [ 1.83574055e-04,  6.54155621e-04,  6.27568283e-04, ...,\n",
       "          3.97025375e-04,  2.07164248e-05, -1.31190682e-04],\n",
       "        ...,\n",
       "        [ 2.68957787e-03,  1.87398680e-03, -6.15841069e-04, ...,\n",
       "          4.20810143e-03, -2.44378997e-03, -4.36841583e-05],\n",
       "        [ 2.74179946e-03,  1.90257188e-03, -6.74608804e-04, ...,\n",
       "          4.40546265e-03, -2.44825543e-03,  2.66852949e-05],\n",
       "        [ 2.77998880e-03,  1.93250249e-03, -7.24651443e-04, ...,\n",
       "          4.56969952e-03, -2.43025133e-03,  7.79576585e-05]],\n",
       "\n",
       "       [[ 1.08742734e-05,  5.99184095e-05,  4.80442977e-04, ...,\n",
       "          1.84724398e-04, -2.44788644e-05,  4.37384806e-05],\n",
       "        [-9.45885913e-05,  3.53838142e-04,  7.62056734e-04, ...,\n",
       "          4.35565482e-04,  5.77787723e-05, -1.08912172e-04],\n",
       "        [-6.63925530e-05,  1.92538209e-04,  9.86720435e-04, ...,\n",
       "          7.32985442e-04,  2.65257986e-05, -4.23620106e-04],\n",
       "        ...,\n",
       "        [ 1.25947210e-03, -2.45658244e-04, -7.26076600e-04, ...,\n",
       "          1.78964657e-03, -1.90447480e-03, -1.95206457e-03],\n",
       "        [ 1.52094080e-03,  2.97229071e-05, -7.37324997e-04, ...,\n",
       "          2.29335343e-03, -2.23703263e-03, -1.69491116e-03],\n",
       "        [ 1.73650309e-03,  2.89464137e-04, -7.67205958e-04, ...,\n",
       "          2.75755743e-03, -2.48881383e-03, -1.42727559e-03]],\n",
       "\n",
       "       [[ 1.08742734e-05,  5.99184095e-05,  4.80442977e-04, ...,\n",
       "          1.84724398e-04, -2.44788644e-05,  4.37384806e-05],\n",
       "        [ 1.74382818e-04, -3.34746910e-05,  9.39309364e-04, ...,\n",
       "          1.72061860e-04,  1.02034493e-04, -3.41534978e-05],\n",
       "        [ 3.51236027e-04, -4.19433709e-05,  1.06142811e-03, ...,\n",
       "          5.75287049e-06, -2.93986050e-05,  8.57845807e-05],\n",
       "        ...,\n",
       "        [ 2.31217733e-03,  9.75815696e-04, -7.48505990e-04, ...,\n",
       "          1.42964197e-03, -1.84733281e-03, -1.13548303e-03],\n",
       "        [ 2.48634769e-03,  1.19217369e-03, -7.26928993e-04, ...,\n",
       "          2.04023137e-03, -2.09787395e-03, -9.74607421e-04],\n",
       "        [ 2.61610816e-03,  1.36551994e-03, -7.25107151e-04, ...,\n",
       "          2.58719875e-03, -2.28597387e-03, -8.20296525e-04]]],\n",
       "      dtype=float32)>"
      ]
     },
     "metadata": {},
     "execution_count": 20
    }
   ],
   "metadata": {}
  },
  {
   "cell_type": "code",
   "execution_count": 21,
   "source": [
    "model.summary()"
   ],
   "outputs": [
    {
     "output_type": "stream",
     "name": "stdout",
     "text": [
      "Model: \"text_generator\"\n",
      "_________________________________________________________________\n",
      "Layer (type)                 Output Shape              Param #   \n",
      "=================================================================\n",
      "embedding (Embedding)        multiple                  1792256   \n",
      "_________________________________________________________________\n",
      "lstm (LSTM)                  multiple                  5246976   \n",
      "_________________________________________________________________\n",
      "lstm_1 (LSTM)                multiple                  8392704   \n",
      "_________________________________________________________________\n",
      "dense (Dense)                multiple                  7176025   \n",
      "=================================================================\n",
      "Total params: 22,607,961\n",
      "Trainable params: 22,607,961\n",
      "Non-trainable params: 0\n",
      "_________________________________________________________________\n"
     ]
    }
   ],
   "metadata": {}
  },
  {
   "cell_type": "code",
   "execution_count": 12,
   "source": [
    "def generate_text(model, tokenizer, init_sentence=\"<start>\", max_len=20):\r\n",
    "    # 테스트를 위해서 입력받은 init_sentence도 텐서로 변환합니다\r\n",
    "    test_input = tokenizer.texts_to_sequences([init_sentence])\r\n",
    "    test_tensor = tf.convert_to_tensor(test_input, dtype=tf.int64)\r\n",
    "    end_token = tokenizer.word_index[\"<end>\"]\r\n",
    "\r\n",
    "    # 단어 하나씩 예측해 문장을 만듭니다\r\n",
    "    #    1. 입력받은 문장의 텐서를 입력합니다\r\n",
    "    #    2. 예측된 값 중 가장 높은 확률인 word index를 뽑아냅니다\r\n",
    "    #    3. 2에서 예측된 word index를 문장 뒤에 붙입니다\r\n",
    "    #    4. 모델이 <end>를 예측했거나, max_len에 도달했다면 문장 생성을 마칩니다\r\n",
    "    while True:\r\n",
    "        # 1\r\n",
    "        predict = model(test_tensor) \r\n",
    "        # 2\r\n",
    "        predict_word = tf.argmax(tf.nn.softmax(predict, axis=-1), axis=-1)[:, -1] \r\n",
    "        # 3 \r\n",
    "        test_tensor = tf.concat([test_tensor, tf.expand_dims(predict_word, axis=0)], axis=-1)\r\n",
    "        # 4\r\n",
    "        if predict_word.numpy()[0] == end_token: break\r\n",
    "        if test_tensor.shape[1] >= max_len: break\r\n",
    "\r\n",
    "    generated = \"\"\r\n",
    "    # tokenizer를 이용해 word index를 단어로 하나씩 변환합니다 \r\n",
    "    for word_index in test_tensor[0].numpy():\r\n",
    "        generated += tokenizer.index_word[word_index] + \" \"\r\n",
    "\r\n",
    "    return generated"
   ],
   "outputs": [],
   "metadata": {}
  },
  {
   "cell_type": "code",
   "execution_count": 24,
   "source": [
    "generate_text(model, tokenizer, init_sentence=\"<start> he\")"
   ],
   "outputs": [
    {
     "output_type": "execute_result",
     "data": {
      "text/plain": [
       "'<start> he hath not dared to make a puppet of him . <end> '"
      ]
     },
     "metadata": {},
     "execution_count": 24
    }
   ],
   "metadata": {}
  },
  {
   "cell_type": "markdown",
   "source": [
    "---"
   ],
   "metadata": {}
  },
  {
   "cell_type": "markdown",
   "source": [
    "# 제출용"
   ],
   "metadata": {}
  },
  {
   "cell_type": "code",
   "execution_count": 1,
   "source": [
    "import glob\r\n",
    "import os\r\n",
    "import re\r\n",
    "txt_file_path = os.getenv('HOME')+'/aiffel/lyricist/data/lyrics/*'\r\n",
    "\r\n",
    "txt_list = glob.glob(txt_file_path)\r\n",
    "\r\n",
    "raw_corpus = []\r\n",
    "\r\n",
    "# 여러개의 txt 파일을 모두 읽어서 raw_corpus 에 담습니다.\r\n",
    "for txt_file in txt_list:\r\n",
    "    with open(txt_file, \"r\") as f:\r\n",
    "        raw = f.read().splitlines()\r\n",
    "        raw_corpus.extend(raw)\r\n",
    "\r\n",
    "print(\"데이터 크기:\", len(raw_corpus))\r\n",
    "print(\"Examples:\\n\", raw_corpus[:3])"
   ],
   "outputs": [
    {
     "output_type": "stream",
     "name": "stdout",
     "text": [
      "데이터 크기: 187088\n",
      "Examples:\n",
      " ['[Hook]', \"I've been down so long, it look like up to me\", 'They look up to me']\n"
     ]
    }
   ],
   "metadata": {}
  },
  {
   "cell_type": "code",
   "execution_count": 2,
   "source": [
    "import re\r\n",
    "\r\n",
    "def preprocess_sentence(sentence):\r\n",
    "    sentence = sentence.lower().strip()       # 소문자로 바꾸고 양쪽 공백을 삭제\r\n",
    "\r\n",
    "    # 아래 3단계를 거쳐 sentence는 스페이스 1개를 delimeter(구분자)로 하는 소문자 단어 시퀀스로 바뀝니다.\r\n",
    "    sentence = re.sub(r\"([?.!,¿])\", r\" \\1 \", sentence)        # 패턴의 특수문자를 만나면 특수문자 양쪽에 공백을 추가\r\n",
    "    sentence = re.sub(r'[\" \"]+', \" \", sentence)                  # 공백 패턴을 만나면 스페이스 1개로 치환\r\n",
    "    sentence = re.sub(r\"[^a-zA-Z?.!,¿]+\", \" \", sentence)  # a-zA-Z?.!,¿ 패턴을 제외한 모든 문자(공백문자까지도)를 스페이스 1개로 치환\r\n",
    "\r\n",
    "    sentence = sentence.strip()\r\n",
    "\r\n",
    "    sentence = '<start> ' + sentence + ' <end>'      # 이전 스텝에서 본 것처럼 문장 앞뒤로 <start>와 <end>를 단어처럼 붙여 줍니다\r\n",
    "\r\n",
    "    return sentence\r\n",
    "\r\n",
    "print(preprocess_sentence(\"This @_is ;;;sample        sentence.\"))   # 이 문장이 어떻게 필터링되는지 확인해 보세요.\r\n",
    "print(preprocess_sentence(\"Thissentence.\"))   # 이 문장이 어떻게 필터링되는지 확인해 보세요.\r\n",
    "print(preprocess_sentence(\"I eat lunch\"))"
   ],
   "outputs": [
    {
     "output_type": "stream",
     "name": "stdout",
     "text": [
      "<start> this is sample sentence . <end>\n",
      "<start> thissentence . <end>\n",
      "<start> i eat lunch <end>\n"
     ]
    }
   ],
   "metadata": {}
  },
  {
   "cell_type": "code",
   "execution_count": 3,
   "source": [
    "corpus = []\r\n",
    "\r\n",
    "for sentence in raw_corpus:\r\n",
    "    if len(sentence) == 0: continue # 길이가 0인 문장은 건너뜁니다\r\n",
    "    if len(sentence) > 50: continue # 길이가 너무 긴것은 건너뜁니다\r\n",
    "    if sentence[-1] == \":\": continue # 문장의 끝이 :인 문장은 건너뜁니다\r\n",
    "        \r\n",
    "    corpus.append(preprocess_sentence(sentence))\r\n",
    "        \r\n",
    "corpus[:10]"
   ],
   "outputs": [
    {
     "output_type": "execute_result",
     "data": {
      "text/plain": [
       "['<start> hook <end>',\n",
       " '<start> i ve been down so long , it look like up to me <end>',\n",
       " '<start> they look up to me <end>',\n",
       " '<start> i got fake people showin fake love to me <end>',\n",
       " '<start> straight up to my face , straight up to my face <end>',\n",
       " '<start> i ve been down so long , it look like up to me <end>',\n",
       " '<start> they look up to me <end>',\n",
       " '<start> i got fake people showin fake love to me <end>',\n",
       " '<start> somethin ain t right when we talkin <end>',\n",
       " '<start> somethin ain t right when we talkin <end>']"
      ]
     },
     "metadata": {},
     "execution_count": 3
    }
   ],
   "metadata": {}
  },
  {
   "cell_type": "code",
   "execution_count": 4,
   "source": [
    "import tensorflow as tf \r\n",
    "\r\n",
    "def tokenize(corpus):\r\n",
    "    # 텐서플로우에서 제공하는 Tokenizer 패키지를 생성\r\n",
    "    tokenizer = tf.keras.preprocessing.text.Tokenizer(\r\n",
    "        num_words=13000,  # 전체 단어의 개수 \r\n",
    "        filters=' ',    # 별도로 전처리 로직을 추가할 수 있습니다. 이번에는 사용하지 않겠습니다.\r\n",
    "        oov_token=\"<unk>\"  # out-of-vocabulary, 사전에 없었던 단어는 어떤 토큰으로 대체할지\r\n",
    "    )\r\n",
    "    tokenizer.fit_on_texts(corpus)   # 우리가 구축한 corpus로부터 Tokenizer가 사전을 자동구축하게 됩니다.\r\n",
    "\r\n",
    "    # 이후 tokenizer를 활용하여 모델에 입력할 데이터셋을 구축하게 됩니다.\r\n",
    "    tensor = tokenizer.texts_to_sequences(corpus)   # tokenizer는 구축한 사전으로부터 corpus를 해석해 Tensor로 변환합니다.\r\n",
    "\r\n",
    "    # 입력 데이터의 시퀀스 길이를 일정하게 맞추기 위한 padding  메소드를 제공합니다.\r\n",
    "    # maxlen의 디폴트값은 None입니다. 이 경우 corpus의 가장 긴 문장을 기준으로 시퀀스 길이가 맞춰집니다.\r\n",
    "    # maxlen=15를 설정해서 토큰의 개수가 15개를 최대로 설정, 15개 초과하는 데이터는 제외\r\n",
    "    tensor = tf.keras.preprocessing.sequence.pad_sequences(tensor, padding='post', maxlen=15)\r\n",
    "\r\n",
    "    print(tensor,tokenizer)\r\n",
    "    return tensor, tokenizer\r\n",
    "\r\n",
    "tensor, tokenizer = tokenize(corpus)"
   ],
   "outputs": [
    {
     "output_type": "stream",
     "name": "stdout",
     "text": [
      "[[   2  941    3 ...    0    0    0]\n",
      " [   2    4   94 ...   10   12    3]\n",
      " [   2   46  134 ...    0    0    0]\n",
      " ...\n",
      " [   2  198    3 ...    0    0    0]\n",
      " [   2  442    9 ...    0    0    0]\n",
      " [   2    9 1610 ...    0    0    0]] <keras_preprocessing.text.Tokenizer object at 0x7f0428242a90>\n"
     ]
    }
   ],
   "metadata": {}
  },
  {
   "cell_type": "code",
   "execution_count": 5,
   "source": [
    "for idx in tokenizer.index_word:\r\n",
    "    print(idx, \":\", tokenizer.index_word[idx])\r\n",
    "\r\n",
    "    if idx >= 10: break"
   ],
   "outputs": [
    {
     "output_type": "stream",
     "name": "stdout",
     "text": [
      "1 : <unk>\n",
      "2 : <start>\n",
      "3 : <end>\n",
      "4 : i\n",
      "5 : ,\n",
      "6 : the\n",
      "7 : you\n",
      "8 : and\n",
      "9 : a\n",
      "10 : to\n"
     ]
    }
   ],
   "metadata": {}
  },
  {
   "cell_type": "code",
   "execution_count": 6,
   "source": [
    "\r\n",
    "src_input = tensor[:, :-1]  # tensor에서 마지막 토큰을 잘라내서 소스 문장을 생성합니다. 마지막 토큰은 <end>가 아니라 <pad>일 가능성이 높습니다.\r\n",
    "tgt_input = tensor[:, 1:]    # tensor에서 <start>를 잘라내서 타겟 문장을 생성합니다.\r\n",
    "\r\n",
    "print(src_input[0])\r\n",
    "print(tgt_input[0])\r\n",
    "print(len(src_input))\r\n",
    "print(len(tgt_input))"
   ],
   "outputs": [
    {
     "output_type": "stream",
     "name": "stdout",
     "text": [
      "[  2 941   3   0   0   0   0   0   0   0   0   0   0   0]\n",
      "[941   3   0   0   0   0   0   0   0   0   0   0   0   0]\n",
      "142443\n",
      "142443\n"
     ]
    }
   ],
   "metadata": {}
  },
  {
   "cell_type": "code",
   "execution_count": 7,
   "source": [
    "from sklearn.model_selection import train_test_split\r\n",
    "\r\n",
    "enc_train, enc_val, dec_train, dec_val = train_test_split(src_input,\r\n",
    "                                                          tgt_input,\r\n",
    "                                                          test_size=0.2,\r\n",
    "                                                          shuffle=True)\r\n",
    "\r\n",
    "print(\"Source Train:\", enc_train.shape) # 소스 문장\r\n",
    "print(\"Target Train:\", dec_train.shape) # 타겟 문장"
   ],
   "outputs": [
    {
     "output_type": "stream",
     "name": "stdout",
     "text": [
      "Source Train: (113954, 14)\n",
      "Target Train: (113954, 14)\n"
     ]
    }
   ],
   "metadata": {}
  },
  {
   "cell_type": "code",
   "execution_count": 8,
   "source": [
    "BUFFER_SIZE = len(src_input)\r\n",
    "BATCH_SIZE = 256\r\n",
    "steps_per_epoch = len(src_input) // BATCH_SIZE\r\n",
    "\r\n",
    "VOCAB_SIZE = tokenizer.num_words + 1    # tokenizer가 구축한 단어사전 내 13000개와, 여기 포함되지 않은 0:<pad>를 포함하여 13001개\r\n",
    "\r\n",
    "dataset1 = tf.data.Dataset.from_tensor_slices((enc_train, dec_train)).shuffle(BUFFER_SIZE)\r\n",
    "dataset1 = dataset1.batch(BATCH_SIZE, drop_remainder=True)\r\n",
    "print(dataset1)\r\n",
    "\r\n",
    "dataset2 = tf.data.Dataset.from_tensor_slices((enc_val, dec_val)).shuffle(BUFFER_SIZE)\r\n",
    "dataset2 = dataset2.batch(BATCH_SIZE, drop_remainder=True)\r\n",
    "print(dataset2)"
   ],
   "outputs": [
    {
     "output_type": "stream",
     "name": "stdout",
     "text": [
      "<BatchDataset shapes: ((256, 14), (256, 14)), types: (tf.int32, tf.int32)>\n",
      "<BatchDataset shapes: ((256, 14), (256, 14)), types: (tf.int32, tf.int32)>\n"
     ]
    }
   ],
   "metadata": {}
  },
  {
   "cell_type": "code",
   "execution_count": 67,
   "source": [
    "class TextGenerator(tf.keras.Model):\r\n",
    "    def __init__(self, vocab_size, embedding_size, hidden_size):\r\n",
    "        super(TextGenerator, self).__init__()\r\n",
    "        \r\n",
    "        self.embedding = tf.keras.layers.Embedding(vocab_size, embedding_size)\r\n",
    "        self.rnn_1 = tf.keras.layers.LSTM(hidden_size, return_sequences=True)\r\n",
    "        self.rnn_2 = tf.keras.layers.LSTM(hidden_size, return_sequences=True)\r\n",
    "        self.linear = tf.keras.layers.Dense(vocab_size)\r\n",
    "        \r\n",
    "    def call(self, x):\r\n",
    "        out = self.embedding(x)\r\n",
    "        out = self.rnn_1(out)\r\n",
    "        out = self.rnn_2(out)\r\n",
    "        out = self.linear(out)\r\n",
    "        \r\n",
    "        return out\r\n",
    "    \r\n",
    "embedding_size = 128\r\n",
    "\"\"\"\r\n",
    "embedding_size: 워드벡터의 차원수 즉, 단어가 추상적으로 표현되는 크기.\r\n",
    "> 입력 텐서에는 단어 사전의 인덱스가 들어 있고, Embedding 레이어는 이 인덱스 값을 해당 인덱스의 워드 벡터로 바꿔 줍니다. \r\n",
    "이 워드 벡터는 의미 벡터 공간에서 단어의 추상적 표현(representation)으로 사용\r\n",
    "embedding_size가 너무 커도 너무 작아도 문제 --> 여기서는 128로 설정\r\n",
    "\"\"\"\r\n",
    "hidden_size = 1536\r\n",
    "\"\"\"\r\n",
    "hidden_size: LSTM 레이어의 hidden state 의 차원수.\r\n",
    "> 얼마나 많은 일꾼을 둘 것인지? 너무 많다면 배가 산으로 가고 너무 적으면 성능이 낮다. 여기서는 1536로 적당히 설정\r\n",
    "\"\"\"\r\n",
    "model = TextGenerator(tokenizer.num_words + 1, embedding_size , hidden_size)"
   ],
   "outputs": [],
   "metadata": {}
  },
  {
   "cell_type": "code",
   "execution_count": 68,
   "source": [
    "for src_sample, tgt_sample in dataset1.take(1): break\r\n",
    "print(model(src_sample))"
   ],
   "outputs": [
    {
     "output_type": "stream",
     "name": "stdout",
     "text": [
      "tf.Tensor(\n",
      "[[[ 2.20218877e-04  8.04887459e-05 -6.37062913e-05 ... -6.80291560e-05\n",
      "    1.17088974e-04 -9.67511660e-05]\n",
      "  [ 3.26413574e-04  2.21211958e-04 -9.19321319e-05 ... -7.76991292e-05\n",
      "    1.39612021e-04 -6.19124039e-05]\n",
      "  [ 3.57318611e-04  3.09291645e-04 -1.73720895e-04 ... -2.28864301e-04\n",
      "    7.16243594e-05  7.26423559e-06]\n",
      "  ...\n",
      "  [ 2.54288370e-05  8.71402968e-04 -3.04060486e-05 ...  5.16583154e-04\n",
      "   -1.09667715e-03  4.44058358e-04]\n",
      "  [ 7.37406572e-06  1.10738317e-03  8.65218972e-05 ...  5.07884950e-04\n",
      "   -1.26956648e-03  5.06662123e-04]\n",
      "  [ 6.54198402e-06  1.34107040e-03  1.68208062e-04 ...  3.94971285e-04\n",
      "   -1.54239393e-03  5.24863077e-04]]\n",
      "\n",
      " [[ 2.20218877e-04  8.04887459e-05 -6.37062913e-05 ... -6.80291560e-05\n",
      "    1.17088974e-04 -9.67511660e-05]\n",
      "  [ 4.05864121e-04  2.86609109e-04 -1.48143721e-04 ... -8.84152032e-05\n",
      "    2.03907344e-04 -1.42528603e-04]\n",
      "  [ 5.69025287e-04  5.64218208e-04 -2.01871677e-04 ... -5.81187305e-05\n",
      "    2.58521730e-04 -1.46547492e-04]\n",
      "  ...\n",
      "  [ 9.77213145e-04  1.53688188e-06  3.17803817e-04 ...  5.94297133e-04\n",
      "    1.12986781e-04  1.10415707e-03]\n",
      "  [ 9.06487287e-04  5.00186761e-05  3.65866435e-04 ...  8.26289004e-04\n",
      "    1.15928895e-04  1.19732937e-03]\n",
      "  [ 7.77530833e-04  2.73324491e-04  3.70160560e-04 ...  8.30573379e-04\n",
      "   -1.55394519e-04  1.15310098e-03]]\n",
      "\n",
      " [[ 2.20218877e-04  8.04887459e-05 -6.37062913e-05 ... -6.80291560e-05\n",
      "    1.17088974e-04 -9.67511660e-05]\n",
      "  [ 5.03042887e-04 -1.14942435e-04  1.15096205e-04 ... -5.30656507e-05\n",
      "    2.29298312e-04 -2.06381694e-04]\n",
      "  [ 4.99099318e-04 -1.43446581e-04  5.79885818e-05 ... -8.70288375e-07\n",
      "    1.45105689e-04 -1.95428598e-04]\n",
      "  ...\n",
      "  [ 3.47618596e-04  1.21484045e-03  1.01098536e-04 ... -8.26081610e-04\n",
      "   -1.97700248e-03  9.08046641e-05]\n",
      "  [ 3.54441523e-04  1.42681738e-03  2.48308716e-05 ... -9.45577456e-04\n",
      "   -2.32991576e-03  1.41538039e-04]\n",
      "  [ 3.54445598e-04  1.59429491e-03 -6.48153728e-05 ... -1.05519395e-03\n",
      "   -2.65197270e-03  2.12459112e-04]]\n",
      "\n",
      " ...\n",
      "\n",
      " [[ 2.20218877e-04  8.04887459e-05 -6.37062913e-05 ... -6.80291560e-05\n",
      "    1.17088974e-04 -9.67511660e-05]\n",
      "  [ 2.76287174e-04  3.22852429e-04  3.84925152e-05 ...  8.07035176e-05\n",
      "   -9.86637815e-07 -2.35436615e-04]\n",
      "  [ 3.40262341e-05  4.23500256e-04 -7.86176970e-05 ...  3.58597375e-04\n",
      "   -1.61655753e-05 -1.86305871e-04]\n",
      "  ...\n",
      "  [-1.50104708e-04  1.38701173e-03  7.04206002e-04 ...  1.01449186e-05\n",
      "   -1.08679943e-03  2.72208737e-04]\n",
      "  [-1.24128986e-04  1.55396864e-03  6.14797755e-04 ... -2.30159989e-04\n",
      "   -1.53216335e-03  2.94276775e-04]\n",
      "  [-1.01094782e-04  1.68435753e-03  4.96873865e-04 ... -4.50040039e-04\n",
      "   -1.94638013e-03  3.35196732e-04]]\n",
      "\n",
      " [[ 2.20218877e-04  8.04887459e-05 -6.37062913e-05 ... -6.80291560e-05\n",
      "    1.17088974e-04 -9.67511660e-05]\n",
      "  [ 3.33536183e-04 -4.61052332e-05 -1.45934697e-04 ... -9.91425695e-05\n",
      "    4.50067346e-05 -1.10794645e-04]\n",
      "  [ 2.44061826e-04 -1.69958294e-04 -5.72928911e-05 ... -7.32260087e-05\n",
      "    1.09473760e-04 -1.78630053e-05]\n",
      "  ...\n",
      "  [ 7.81456474e-05  1.85995875e-03 -1.91343599e-04 ... -1.01743580e-03\n",
      "   -2.90000252e-03  3.60051199e-04]\n",
      "  [ 6.70273657e-05  1.92834972e-03 -2.85613176e-04 ... -1.14835566e-03\n",
      "   -3.16595798e-03  4.46638849e-04]\n",
      "  [ 5.79983498e-05  1.97545532e-03 -3.73605464e-04 ... -1.26611663e-03\n",
      "   -3.38898925e-03  5.33658022e-04]]\n",
      "\n",
      " [[ 2.20218877e-04  8.04887459e-05 -6.37062913e-05 ... -6.80291560e-05\n",
      "    1.17088974e-04 -9.67511660e-05]\n",
      "  [ 2.89709773e-04  1.74975416e-04  7.20408134e-05 ...  3.52885763e-05\n",
      "    2.28564779e-04 -2.93833637e-05]\n",
      "  [ 1.31324327e-04  4.26048646e-04  1.43623809e-04 ...  2.23307492e-04\n",
      "    1.75790687e-04 -9.75688308e-05]\n",
      "  ...\n",
      "  [ 3.74840893e-05  2.11656420e-03 -4.14602662e-04 ... -8.89817893e-04\n",
      "   -2.95645744e-03 -2.93311896e-05]\n",
      "  [ 4.22990270e-05  2.14191084e-03 -4.89932019e-04 ... -1.03092240e-03\n",
      "   -3.21597466e-03  1.04657433e-04]\n",
      "  [ 4.50549633e-05  2.15421454e-03 -5.57065476e-04 ... -1.15609681e-03\n",
      "   -3.43320612e-03  2.38512046e-04]]], shape=(256, 14, 13001), dtype=float32)\n"
     ]
    }
   ],
   "metadata": {}
  },
  {
   "cell_type": "code",
   "execution_count": 69,
   "source": [
    "#Loss\r\n",
    "optimizer = tf.keras.optimizers.Adam()\r\n",
    "loss = tf.keras.losses.SparseCategoricalCrossentropy(\r\n",
    "    from_logits=True,\r\n",
    "    reduction='none'\r\n",
    ")\r\n",
    "\r\n",
    "model.compile(loss=loss, \r\n",
    "              optimizer=optimizer,\r\n",
    "              metrics=['accuracy'])\r\n",
    "\r\n",
    "\r\n",
    "model.compile(loss=loss, optimizer=optimizer)\r\n",
    "model.fit(dataset1, epochs=10, validation_data=dataset2)"
   ],
   "outputs": [
    {
     "output_type": "stream",
     "name": "stdout",
     "text": [
      "Epoch 1/10\n",
      "445/445 [==============================] - 275s 613ms/step - loss: 3.9140 - val_loss: 3.0113\n",
      "Epoch 2/10\n",
      "445/445 [==============================] - 275s 619ms/step - loss: 2.9325 - val_loss: 2.8148\n",
      "Epoch 3/10\n",
      "445/445 [==============================] - 274s 615ms/step - loss: 2.7379 - val_loss: 2.7037\n",
      "Epoch 4/10\n",
      "445/445 [==============================] - 273s 613ms/step - loss: 2.5964 - val_loss: 2.6170\n",
      "Epoch 5/10\n",
      "445/445 [==============================] - 274s 616ms/step - loss: 2.4699 - val_loss: 2.5460\n",
      "Epoch 6/10\n",
      "445/445 [==============================] - 272s 612ms/step - loss: 2.3553 - val_loss: 2.4897\n",
      "Epoch 7/10\n",
      "445/445 [==============================] - 274s 616ms/step - loss: 2.2531 - val_loss: 2.4446\n",
      "Epoch 8/10\n",
      "445/445 [==============================] - 272s 612ms/step - loss: 2.1580 - val_loss: 2.4091\n",
      "Epoch 9/10\n",
      "445/445 [==============================] - 276s 620ms/step - loss: 2.0649 - val_loss: 2.3736\n",
      "Epoch 10/10\n",
      "445/445 [==============================] - 274s 615ms/step - loss: 1.9835 - val_loss: 2.3441\n"
     ]
    },
    {
     "output_type": "execute_result",
     "data": {
      "text/plain": [
       "<tensorflow.python.keras.callbacks.History at 0x7f852952b990>"
      ]
     },
     "metadata": {},
     "execution_count": 69
    }
   ],
   "metadata": {}
  },
  {
   "cell_type": "markdown",
   "source": [
    "# VAL_LOSS가 2.2 이하로 떨어지지 않아서 embedding_size와 hidden_size 조절"
   ],
   "metadata": {}
  },
  {
   "cell_type": "code",
   "execution_count": 9,
   "source": [
    "\r\n",
    "embedding_size = 256\r\n",
    "hidden_size = 2048\r\n",
    "model = TextGenerator(tokenizer.num_words + 1, embedding_size , hidden_size)"
   ],
   "outputs": [],
   "metadata": {}
  },
  {
   "cell_type": "code",
   "execution_count": 10,
   "source": [
    "#Loss\r\n",
    "optimizer = tf.keras.optimizers.Adam()\r\n",
    "loss = tf.keras.losses.SparseCategoricalCrossentropy(\r\n",
    "    from_logits=True,\r\n",
    "    reduction='none'\r\n",
    ")\r\n",
    "\r\n",
    "model.compile(loss=loss, \r\n",
    "              optimizer=optimizer,\r\n",
    "              metrics=['accuracy'])\r\n",
    "\r\n",
    "\r\n",
    "model.compile(loss=loss, optimizer=optimizer)\r\n",
    "model.fit(dataset1, epochs=10, validation_data=dataset2)"
   ],
   "outputs": [
    {
     "output_type": "stream",
     "name": "stdout",
     "text": [
      "Epoch 1/10\n",
      "445/445 [==============================] - 417s 886ms/step - loss: 3.9100 - val_loss: 2.9598\n",
      "Epoch 2/10\n",
      "445/445 [==============================] - 398s 895ms/step - loss: 2.8731 - val_loss: 2.7538\n",
      "Epoch 3/10\n",
      "445/445 [==============================] - 405s 910ms/step - loss: 2.6526 - val_loss: 2.6165\n",
      "Epoch 4/10\n",
      "445/445 [==============================] - 396s 891ms/step - loss: 2.4644 - val_loss: 2.5050\n",
      "Epoch 5/10\n",
      "445/445 [==============================] - 393s 883ms/step - loss: 2.2903 - val_loss: 2.4181\n",
      "Epoch 6/10\n",
      "445/445 [==============================] - 401s 901ms/step - loss: 2.1269 - val_loss: 2.3461\n",
      "Epoch 7/10\n",
      "445/445 [==============================] - 396s 889ms/step - loss: 1.9707 - val_loss: 2.2838\n",
      "Epoch 8/10\n",
      "445/445 [==============================] - 394s 885ms/step - loss: 1.8205 - val_loss: 2.2332\n",
      "Epoch 9/10\n",
      "445/445 [==============================] - 394s 885ms/step - loss: 1.6745 - val_loss: 2.1875\n",
      "Epoch 10/10\n",
      "445/445 [==============================] - 396s 888ms/step - loss: 1.5412 - val_loss: 2.1530\n"
     ]
    },
    {
     "output_type": "execute_result",
     "data": {
      "text/plain": [
       "<tensorflow.python.keras.callbacks.History at 0x7f03a27a68d0>"
      ]
     },
     "metadata": {},
     "execution_count": 10
    }
   ],
   "metadata": {}
  },
  {
   "cell_type": "code",
   "execution_count": null,
   "source": [],
   "outputs": [],
   "metadata": {}
  },
  {
   "cell_type": "code",
   "execution_count": 13,
   "source": [
    "generate_text(model, tokenizer, init_sentence=\"<start> i love\", max_len=20)"
   ],
   "outputs": [
    {
     "output_type": "execute_result",
     "data": {
      "text/plain": [
       "'<start> i love you <end> '"
      ]
     },
     "metadata": {},
     "execution_count": 13
    }
   ],
   "metadata": {}
  },
  {
   "cell_type": "markdown",
   "source": [
    "### 에포크10인데도 시간이 엄청 오래걸렸고 자연어처리는 어렵다는것을 다시한번 느꼈다"
   ],
   "metadata": {}
  },
  {
   "cell_type": "code",
   "execution_count": null,
   "source": [],
   "outputs": [],
   "metadata": {}
  }
 ],
 "metadata": {
  "kernelspec": {
   "display_name": "Python 3",
   "language": "python",
   "name": "python3"
  },
  "language_info": {
   "codemirror_mode": {
    "name": "ipython",
    "version": 3
   },
   "file_extension": ".py",
   "mimetype": "text/x-python",
   "name": "python",
   "nbconvert_exporter": "python",
   "pygments_lexer": "ipython3",
   "version": "3.7.9"
  }
 },
 "nbformat": 4,
 "nbformat_minor": 5
}