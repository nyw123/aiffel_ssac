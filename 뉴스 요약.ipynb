{
 "cells": [
  {
   "cell_type": "code",
   "execution_count": 18,
   "id": "international-hampton",
   "metadata": {},
   "outputs": [
    {
     "name": "stderr",
     "output_type": "stream",
     "text": [
      "[nltk_data] Downloading package stopwords to /aiffel/nltk_data...\n",
      "[nltk_data]   Unzipping corpora/stopwords.zip.\n"
     ]
    }
   ],
   "source": [
    "import nltk\n",
    "nltk.download('stopwords')\n",
    "\n",
    "import numpy as np\n",
    "import pandas as pd\n",
    "import os\n",
    "import re\n",
    "import matplotlib.pyplot as plt\n",
    "from nltk.corpus import stopwords\n",
    "from bs4 import BeautifulSoup \n",
    "from tensorflow.keras.preprocessing.text import Tokenizer \n",
    "from tensorflow.keras.preprocessing.sequence import pad_sequences\n",
    "import urllib.request"
   ]
  },
  {
   "cell_type": "markdown",
   "id": "whole-popularity",
   "metadata": {},
   "source": [
    "Step 1. 데이터 수집하기"
   ]
  },
  {
   "cell_type": "code",
   "execution_count": 61,
   "id": "attached-chase",
   "metadata": {},
   "outputs": [],
   "source": [
    "import urllib.request\n",
    "import pandas as pd\n",
    "urllib.request.urlretrieve(\"https://raw.githubusercontent.com/sunnysai12345/News_Summary/master/news_summary_more.csv\", filename=\"news_summary_more.csv\")\n",
    "data = pd.read_csv('news_summary_more.csv', encoding='iso-8859-1')"
   ]
  },
  {
   "cell_type": "code",
   "execution_count": 62,
   "id": "medium-onion",
   "metadata": {},
   "outputs": [
    {
     "data": {
      "text/plain": [
       "'upGrad learner switches to career in ML & Al with 90% salary hike'"
      ]
     },
     "execution_count": 62,
     "metadata": {},
     "output_type": "execute_result"
    }
   ],
   "source": [
    "data.iloc[0]['headlines']"
   ]
  },
  {
   "cell_type": "code",
   "execution_count": 63,
   "id": "military-instrumentation",
   "metadata": {},
   "outputs": [
    {
     "data": {
      "text/plain": [
       "\"Saurav Kant, an alumnus of upGrad and IIIT-B's PG Program in Machine learning and Artificial Intelligence, was a Sr Systems Engineer at Infosys with almost 5 years of work experience. The program and upGrad's 360-degree career support helped him transition to a Data Scientist at Tech Mahindra with 90% salary hike. upGrad's Online Power Learning has powered 3 lakh+ careers.\""
      ]
     },
     "execution_count": 63,
     "metadata": {},
     "output_type": "execute_result"
    }
   ],
   "source": [
    "data.iloc[0]['text']"
   ]
  },
  {
   "cell_type": "code",
   "execution_count": 64,
   "id": "canadian-breakfast",
   "metadata": {},
   "outputs": [
    {
     "data": {
      "text/html": [
       "<div>\n",
       "<style scoped>\n",
       "    .dataframe tbody tr th:only-of-type {\n",
       "        vertical-align: middle;\n",
       "    }\n",
       "\n",
       "    .dataframe tbody tr th {\n",
       "        vertical-align: top;\n",
       "    }\n",
       "\n",
       "    .dataframe thead th {\n",
       "        text-align: right;\n",
       "    }\n",
       "</style>\n",
       "<table border=\"1\" class=\"dataframe\">\n",
       "  <thead>\n",
       "    <tr style=\"text-align: right;\">\n",
       "      <th></th>\n",
       "      <th>Summary</th>\n",
       "      <th>Text</th>\n",
       "    </tr>\n",
       "  </thead>\n",
       "  <tbody>\n",
       "    <tr>\n",
       "      <th>0</th>\n",
       "      <td>upGrad learner switches to career in ML &amp; Al w...</td>\n",
       "      <td>Saurav Kant, an alumnus of upGrad and IIIT-B's...</td>\n",
       "    </tr>\n",
       "    <tr>\n",
       "      <th>1</th>\n",
       "      <td>Delhi techie wins free food from Swiggy for on...</td>\n",
       "      <td>Kunal Shah's credit card bill payment platform...</td>\n",
       "    </tr>\n",
       "    <tr>\n",
       "      <th>2</th>\n",
       "      <td>New Zealand end Rohit Sharma-led India's 12-ma...</td>\n",
       "      <td>New Zealand defeated India by 8 wickets in the...</td>\n",
       "    </tr>\n",
       "    <tr>\n",
       "      <th>3</th>\n",
       "      <td>Aegon life iTerm insurance plan helps customer...</td>\n",
       "      <td>With Aegon Life iTerm Insurance plan, customer...</td>\n",
       "    </tr>\n",
       "    <tr>\n",
       "      <th>4</th>\n",
       "      <td>Have known Hirani for yrs, what if MeToo claim...</td>\n",
       "      <td>Speaking about the sexual harassment allegatio...</td>\n",
       "    </tr>\n",
       "  </tbody>\n",
       "</table>\n",
       "</div>"
      ],
      "text/plain": [
       "                                             Summary  \\\n",
       "0  upGrad learner switches to career in ML & Al w...   \n",
       "1  Delhi techie wins free food from Swiggy for on...   \n",
       "2  New Zealand end Rohit Sharma-led India's 12-ma...   \n",
       "3  Aegon life iTerm insurance plan helps customer...   \n",
       "4  Have known Hirani for yrs, what if MeToo claim...   \n",
       "\n",
       "                                                Text  \n",
       "0  Saurav Kant, an alumnus of upGrad and IIIT-B's...  \n",
       "1  Kunal Shah's credit card bill payment platform...  \n",
       "2  New Zealand defeated India by 8 wickets in the...  \n",
       "3  With Aegon Life iTerm Insurance plan, customer...  \n",
       "4  Speaking about the sexual harassment allegatio...  "
      ]
     },
     "execution_count": 64,
     "metadata": {},
     "output_type": "execute_result"
    }
   ],
   "source": [
    "data = data.rename({'headlines' : 'Summary', 'text' : 'Text'}, axis='columns')\n",
    "data.head(5)"
   ]
  },
  {
   "cell_type": "markdown",
   "id": "demographic-question",
   "metadata": {},
   "source": [
    "Step 2. 데이터 전처리하기 (추상적 요약)"
   ]
  },
  {
   "cell_type": "code",
   "execution_count": 67,
   "id": "comparative-mortality",
   "metadata": {},
   "outputs": [
    {
     "name": "stdout",
     "output_type": "stream",
     "text": [
      "텍스트의 최소 길이 : 1\n",
      "텍스트의 최대 길이 : 91\n",
      "텍스트의 평균 길이 : 58.2385341612382\n",
      "요약의 최소 길이 : 1\n",
      "요약의 최대 길이 : 18\n",
      "요약의 평균 길이 : 9.553906972490116\n"
     ]
    },
    {
     "data": {
      "image/png": "[encoded data removed]",
      "text/plain": [
       "<Figure size 432x288 with 2 Axes>"
      ]
     },
     "metadata": {
      "needs_background": "light"
     },
     "output_type": "display_data"
    },
    {
     "data": {
      "image/png": "[encoded data removed]",
      "text/plain": [
       "<Figure size 432x288 with 1 Axes>"
      ]
     },
     "metadata": {
      "needs_background": "light"
     },
     "output_type": "display_data"
    },
    {
     "data": {
      "image/png": "[encoded data removed]",
      "text/plain": [
       "<Figure size 432x288 with 1 Axes>"
      ]
     },
     "metadata": {
      "needs_background": "light"
     },
     "output_type": "display_data"
    }
   ],
   "source": [
    "# 길이 분포 출력\n",
    "import matplotlib.pyplot as plt\n",
    "\n",
    "text_len = [len(s.split()) for s in data['Text']]\n",
    "summary_len = [len(s.split()) for s in data['Summary']]\n",
    "\n",
    "print('텍스트의 최소 길이 : {}'.format(np.min(text_len)))\n",
    "print('텍스트의 최대 길이 : {}'.format(np.max(text_len)))\n",
    "print('텍스트의 평균 길이 : {}'.format(np.mean(text_len)))\n",
    "print('요약의 최소 길이 : {}'.format(np.min(summary_len)))\n",
    "print('요약의 최대 길이 : {}'.format(np.max(summary_len)))\n",
    "print('요약의 평균 길이 : {}'.format(np.mean(summary_len)))\n",
    "\n",
    "plt.subplot(1,2,1)\n",
    "plt.boxplot(summary_len)\n",
    "plt.title('Summary')\n",
    "plt.subplot(1,2,2)\n",
    "plt.boxplot(text_len)\n",
    "plt.title('Text')\n",
    "plt.tight_layout()\n",
    "plt.show()\n",
    "\n",
    "plt.title('Summary')\n",
    "plt.hist(summary_len, bins = 40)\n",
    "plt.xlabel('length of samples')\n",
    "plt.ylabel('number of samples')\n",
    "plt.show()\n",
    "\n",
    "plt.title('Text')\n",
    "plt.hist(text_len, bins = 40)\n",
    "plt.xlabel('length of samples')\n",
    "plt.ylabel('number of samples')\n",
    "plt.show()"
   ]
  },
  {
   "cell_type": "code",
   "execution_count": 71,
   "id": "absent-cherry",
   "metadata": {},
   "outputs": [],
   "source": [
    "text_max_len = 59\n",
    "summary_max_len = 9"
   ]
  },
  {
   "cell_type": "code",
   "execution_count": 72,
   "id": "statistical-formation",
   "metadata": {},
   "outputs": [],
   "source": [
    "# 훈련 데이터와 샘플의 길이를 입력하면, 데이터의 몇 %가 해당하는지 계산하는 함수를 만들어서 좀 더 정확하게 판단해볼게요.\n",
    "def below_threshold_len(max_len, nested_list):\n",
    "    cnt = 0\n",
    "    for s in nested_list:\n",
    "        if(len(s.split()) <= max_len):\n",
    "            cnt = cnt + 1\n",
    "    print('전체 샘플 중 길이가 %s 이하인 샘플의 비율: %s'%(max_len, (cnt / len(nested_list))))"
   ]
  },
  {
   "cell_type": "code",
   "execution_count": 73,
   "id": "organizational-trauma",
   "metadata": {},
   "outputs": [
    {
     "name": "stdout",
     "output_type": "stream",
     "text": [
      "전체 샘플 중 길이가 59 이하인 샘플의 비율: 0.562565421083119\n",
      "전체 샘플 중 길이가 9 이하인 샘플의 비율: 0.49329783233910224\n"
     ]
    }
   ],
   "source": [
    "# 적용\n",
    "below_threshold_len(text_max_len, data['Text'])\n",
    "below_threshold_len(summary_max_len,  data['Summary'])"
   ]
  },
  {
   "cell_type": "code",
   "execution_count": 74,
   "id": "eastern-converter",
   "metadata": {},
   "outputs": [
    {
     "name": "stdout",
     "output_type": "stream",
     "text": [
      "전체 샘플수 : 29631\n"
     ]
    }
   ],
   "source": [
    "data = data[data['Text'].apply(lambda x: len(x.split()) <= text_max_len)]\n",
    "data = data[data['Summary'].apply(lambda x: len(x.split()) <= summary_max_len)]\n",
    "print('전체 샘플수 :',(len(data)))"
   ]
  },
  {
   "cell_type": "code",
   "execution_count": 75,
   "id": "comprehensive-phoenix",
   "metadata": {},
   "outputs": [
    {
     "data": {
      "text/html": [
       "<div>\n",
       "<style scoped>\n",
       "    .dataframe tbody tr th:only-of-type {\n",
       "        vertical-align: middle;\n",
       "    }\n",
       "\n",
       "    .dataframe tbody tr th {\n",
       "        vertical-align: top;\n",
       "    }\n",
       "\n",
       "    .dataframe thead th {\n",
       "        text-align: right;\n",
       "    }\n",
       "</style>\n",
       "<table border=\"1\" class=\"dataframe\">\n",
       "  <thead>\n",
       "    <tr style=\"text-align: right;\">\n",
       "      <th></th>\n",
       "      <th>Summary</th>\n",
       "      <th>Text</th>\n",
       "      <th>Len</th>\n",
       "      <th>decoder_input</th>\n",
       "      <th>decoder_target</th>\n",
       "    </tr>\n",
       "  </thead>\n",
       "  <tbody>\n",
       "    <tr>\n",
       "      <th>11</th>\n",
       "      <td>81-yr-old woman conducts physical training in ...</td>\n",
       "      <td>Isha Ghosh, an 81-year-old member of Bharat Sc...</td>\n",
       "      <td>57</td>\n",
       "      <td>sostoken 81-yr-old woman conducts physical tra...</td>\n",
       "      <td>81-yr-old woman conducts physical training in ...</td>\n",
       "    </tr>\n",
       "    <tr>\n",
       "      <th>21</th>\n",
       "      <td>ISRO unveils Bengaluru centre for manned space...</td>\n",
       "      <td>The Indian Space Research Organisation on Wedn...</td>\n",
       "      <td>58</td>\n",
       "      <td>sostoken ISRO unveils Bengaluru centre for man...</td>\n",
       "      <td>ISRO unveils Bengaluru centre for manned space...</td>\n",
       "    </tr>\n",
       "    <tr>\n",
       "      <th>22</th>\n",
       "      <td>12 killed, 170 injured in Saudi Arabia floods</td>\n",
       "      <td>At least 12 people have been killed and 170 ot...</td>\n",
       "      <td>57</td>\n",
       "      <td>sostoken 12 killed, 170 injured in Saudi Arabi...</td>\n",
       "      <td>12 killed, 170 injured in Saudi Arabia floods ...</td>\n",
       "    </tr>\n",
       "    <tr>\n",
       "      <th>28</th>\n",
       "      <td>19-year-old Shubman Gill becomes India's 227th...</td>\n",
       "      <td>Batsman Shubman Gill has become the 227th cric...</td>\n",
       "      <td>55</td>\n",
       "      <td>sostoken 19-year-old Shubman Gill becomes Indi...</td>\n",
       "      <td>19-year-old Shubman Gill becomes India's 227th...</td>\n",
       "    </tr>\n",
       "    <tr>\n",
       "      <th>29</th>\n",
       "      <td>2 seat cushions from 'missing plane carrying f...</td>\n",
       "      <td>Investigators searching for a lost plane carry...</td>\n",
       "      <td>59</td>\n",
       "      <td>sostoken 2 seat cushions from 'missing plane c...</td>\n",
       "      <td>2 seat cushions from 'missing plane carrying f...</td>\n",
       "    </tr>\n",
       "  </tbody>\n",
       "</table>\n",
       "</div>"
      ],
      "text/plain": [
       "                                              Summary  \\\n",
       "11  81-yr-old woman conducts physical training in ...   \n",
       "21  ISRO unveils Bengaluru centre for manned space...   \n",
       "22      12 killed, 170 injured in Saudi Arabia floods   \n",
       "28  19-year-old Shubman Gill becomes India's 227th...   \n",
       "29  2 seat cushions from 'missing plane carrying f...   \n",
       "\n",
       "                                                 Text  Len  \\\n",
       "11  Isha Ghosh, an 81-year-old member of Bharat Sc...   57   \n",
       "21  The Indian Space Research Organisation on Wedn...   58   \n",
       "22  At least 12 people have been killed and 170 ot...   57   \n",
       "28  Batsman Shubman Gill has become the 227th cric...   55   \n",
       "29  Investigators searching for a lost plane carry...   59   \n",
       "\n",
       "                                        decoder_input  \\\n",
       "11  sostoken 81-yr-old woman conducts physical tra...   \n",
       "21  sostoken ISRO unveils Bengaluru centre for man...   \n",
       "22  sostoken 12 killed, 170 injured in Saudi Arabi...   \n",
       "28  sostoken 19-year-old Shubman Gill becomes Indi...   \n",
       "29  sostoken 2 seat cushions from 'missing plane c...   \n",
       "\n",
       "                                       decoder_target  \n",
       "11  81-yr-old woman conducts physical training in ...  \n",
       "21  ISRO unveils Bengaluru centre for manned space...  \n",
       "22  12 killed, 170 injured in Saudi Arabia floods ...  \n",
       "28  19-year-old Shubman Gill becomes India's 227th...  \n",
       "29  2 seat cushions from 'missing plane carrying f...  "
      ]
     },
     "execution_count": 75,
     "metadata": {},
     "output_type": "execute_result"
    }
   ],
   "source": [
    "# 시작 토큰과 종료 토큰 추가\n",
    "# 시작 토큰은 'sostoken', 종료 토큰은 'eostoken'이라 임의로 명명\n",
    "#요약 데이터에 시작 토큰과 종료 토큰을 추가한다.\n",
    "\n",
    "data['decoder_input'] = data['Summary'].apply(lambda x : 'sostoken '+ x)\n",
    "data['decoder_target'] = data['Summary'].apply(lambda x : x + ' eostoken')\n",
    "data.head()"
   ]
  },
  {
   "cell_type": "code",
   "execution_count": 76,
   "id": "color-analyst",
   "metadata": {},
   "outputs": [],
   "source": [
    "# 인코더의 입력, 디코더의 입력과 레이블을 각각 다시 Numpy 타입으로 저장\n",
    "\n",
    "encoder_input = np.array(data['Text']) # 인코더의 입력\n",
    "decoder_input = np.array(data['decoder_input']) # 디코더의 입력\n",
    "decoder_target = np.array(data['decoder_target']) # 디코더의 레이블"
   ]
  },
  {
   "cell_type": "code",
   "execution_count": 77,
   "id": "lyric-xerox",
   "metadata": {},
   "outputs": [
    {
     "data": {
      "text/plain": [
       "array(['Isha Ghosh, an 81-year-old member of Bharat Scouts and Guides (BSG), has been imparting physical and mental training to schoolchildren in Jharkhand for several decades. Chaibasa-based Ghosh reportedly walks seven kilometres daily and spends eight hours conducting physical training, apart from climbing and yoga sessions. She says, \"One should do something for society till one\\'s last breath.\"',\n",
       "       \"The Indian Space Research Organisation on Wednesday unveiled Human Space Flight Centre in Bengaluru for its Ã¢Â\\x82Â¹10,000-crore manned space mission 'Gaganyaan' scheduled for 2021. ISRO said the centre will be responsible for development of engineering systems for crew survival in space and crew selection and training. It'll also pursue activities for sustained human space flight missions, ISRO added.\",\n",
       "       'At least 12 people have been killed and 170 others have been injured in Saudi Arabia this week due to flooding from heavy rain. The emergency services rescued 271 people from the flooded areas, more than half of them in Tabuk. Heavy rains hit mainly western and northwestern parts of Saudi Arabia, near its border with Jordan.',\n",
       "       ...,\n",
       "       \"Pakistan has started building a nearly 2,400-kilometer fence along its border with Afghanistan, according to reports. This comes after Afghan militants reportedly killed six Pakistani soldiers stationed at security checkpoints earlier this month. Pakistan's new fence is aimed at enhancing aerial surveillance of the border to prevent future terror attacks and the transfer of weapons and ammunition.\",\n",
       "       \"A CRPF jawan was on Tuesday axed to death with sharp-edged weapons by Maoists at a local village fair in Chhattisgarh's insurgency-hit Bijapur district. As per preliminary information, Maoists attacked the jawan while he had gone to visit the fair along with his family, a police official said. A combing operation was launched to nab the assailants, he added.\",\n",
       "       \"According to reports, a new version of the 1999 science fiction film 'The Matrix' is in development. Michael B Jordan will reportedly play the lead role in the film. Screenwriter Zak Penn is in talks to write the script of the film, reports added. Actor Keanu Reeves starred in the original film, which was followed by two sequels. \"],\n",
       "      dtype=object)"
      ]
     },
     "execution_count": 77,
     "metadata": {},
     "output_type": "execute_result"
    }
   ],
   "source": [
    "encoder_input_ = np.array(data['Text']) # 컬럼 하나를 선택해 Series를 ndarray로 표현\n",
    "encoder_input_"
   ]
  },
  {
   "cell_type": "code",
   "execution_count": 78,
   "id": "electronic-intention",
   "metadata": {},
   "outputs": [
    {
     "name": "stdout",
     "output_type": "stream",
     "text": [
      "[18695 21088 12551 ... 14090  4967   875]\n"
     ]
    }
   ],
   "source": [
    "# 직접 코딩을 통해서 분리\n",
    "indices = np.arange(encoder_input.shape[0])\n",
    "np.random.shuffle(indices)\n",
    "print(indices)"
   ]
  },
  {
   "cell_type": "code",
   "execution_count": 79,
   "id": "macro-peninsula",
   "metadata": {},
   "outputs": [],
   "source": [
    "encoder_input = encoder_input[indices]\n",
    "decoder_input = decoder_input[indices]\n",
    "decoder_target = decoder_target[indices]"
   ]
  },
  {
   "cell_type": "code",
   "execution_count": 80,
   "id": "figured-momentum",
   "metadata": {},
   "outputs": [
    {
     "name": "stdout",
     "output_type": "stream",
     "text": [
      "테스트 데이터의 수 : 5926\n"
     ]
    }
   ],
   "source": [
    "# 전체 데이터의 크기에서 0.2를 곱해서 테스트 데이터의 크기를 정의\n",
    "\n",
    "n_of_val = int(len(encoder_input)*0.2)\n",
    "print('테스트 데이터의 수 :',n_of_val)"
   ]
  },
  {
   "cell_type": "code",
   "execution_count": 83,
   "id": "institutional-investor",
   "metadata": {},
   "outputs": [
    {
     "name": "stdout",
     "output_type": "stream",
     "text": [
      "훈련 데이터의 개수 : 23705\n",
      "훈련 레이블의 개수 : 23705\n",
      "테스트 데이터의 개수 : 5926\n",
      "테스트 레이블의 개수 : 5926\n"
     ]
    }
   ],
   "source": [
    "# 이렇게 정의한 테스트 데이터의 갯수를 이용해 전체 데이터를 양분\n",
    "\n",
    "encoder_input_train = encoder_input[:-n_of_val]\n",
    "decoder_input_train = decoder_input[:-n_of_val]\n",
    "decoder_target_train = decoder_target[:-n_of_val]\n",
    "\n",
    "encoder_input_test = encoder_input[-n_of_val:]\n",
    "decoder_input_test = decoder_input[-n_of_val:]\n",
    "decoder_target_test = decoder_target[-n_of_val:]\n",
    "\n",
    "print('훈련 데이터의 개수 :', len(encoder_input_train))\n",
    "print('훈련 레이블의 개수 :',len(decoder_input_train))\n",
    "print('테스트 데이터의 개수 :',len(encoder_input_test))\n",
    "print('테스트 레이블의 개수 :',len(decoder_input_test))"
   ]
  },
  {
   "cell_type": "code",
   "execution_count": 84,
   "id": "worst-sitting",
   "metadata": {},
   "outputs": [],
   "source": [
    "src_tokenizer = Tokenizer() # 토크나이저 정의\n",
    "src_tokenizer.fit_on_texts(encoder_input_train) # 입력된 데이터로부터 단어 집합 생성"
   ]
  },
  {
   "cell_type": "code",
   "execution_count": 85,
   "id": "surface-bloom",
   "metadata": {},
   "outputs": [
    {
     "name": "stdout",
     "output_type": "stream",
     "text": [
      "단어 집합(vocabulary)의 크기 : 54903\n",
      "등장 빈도가 6번 이하인 희귀 단어의 수: 41627\n",
      "단어 집합에서 희귀 단어를 제외시킬 경우의 단어 집합의 크기 13276\n",
      "단어 집합에서 희귀 단어의 비율: 75.8191719942444\n",
      "전체 등장 빈도에서 희귀 단어 등장 빈도 비율: 5.865333001662717\n"
     ]
    }
   ],
   "source": [
    "# 빈도수가 낮은 단어들은 훈련 데이터에서 제외\n",
    "# 등장 빈도수가 7회 미만인 단어 확인\n",
    "# src_tokenizer.word_counts.items()에는 단어와 각 단어의 등장 빈도수가 저장되어져 있는데, \n",
    "# 이를 통해서 통계적인 정보를 얻을 수 있어요.\n",
    "\n",
    "threshold = 7\n",
    "total_cnt = len(src_tokenizer.word_index) # 단어의 수\n",
    "rare_cnt = 0 # 등장 빈도수가 threshold보다 작은 단어의 개수를 카운트\n",
    "total_freq = 0 # 훈련 데이터의 전체 단어 빈도수 총 합\n",
    "rare_freq = 0 # 등장 빈도수가 threshold보다 작은 단어의 등장 빈도수의 총 합\n",
    "\n",
    "# 단어와 빈도수의 쌍(pair)을 key와 value로 받는다.\n",
    "for key, value in src_tokenizer.word_counts.items():\n",
    "    total_freq = total_freq + value\n",
    "\n",
    "    # 단어의 등장 빈도수가 threshold보다 작으면\n",
    "    if(value < threshold):\n",
    "        rare_cnt = rare_cnt + 1\n",
    "        rare_freq = rare_freq + value\n",
    "\n",
    "print('단어 집합(vocabulary)의 크기 :',total_cnt)\n",
    "print('등장 빈도가 %s번 이하인 희귀 단어의 수: %s'%(threshold - 1, rare_cnt))\n",
    "print('단어 집합에서 희귀 단어를 제외시킬 경우의 단어 집합의 크기 %s'%(total_cnt - rare_cnt))\n",
    "print(\"단어 집합에서 희귀 단어의 비율:\", (rare_cnt / total_cnt)*100)\n",
    "print(\"전체 등장 빈도에서 희귀 단어 등장 빈도 비율:\", (rare_freq / total_freq)*100)"
   ]
  },
  {
   "cell_type": "code",
   "execution_count": 86,
   "id": "basic-locator",
   "metadata": {},
   "outputs": [],
   "source": [
    "# 등장 빈도가 6회 이하인 단어 집합의 크기 = 2080\n",
    "src_vocab = 11000\n",
    "src_tokenizer = Tokenizer(num_words = src_vocab) # 단어 집합의 크기를 2080으로 제한\n",
    "src_tokenizer.fit_on_texts(encoder_input_train) # 단어 집합 재생성."
   ]
  },
  {
   "cell_type": "code",
   "execution_count": 87,
   "id": "conservative-serve",
   "metadata": {
    "scrolled": true
   },
   "outputs": [
    {
     "name": "stdout",
     "output_type": "stream",
     "text": [
      "[[3574, 65, 47, 1234, 4700, 194, 7, 20, 670, 20, 65, 2874, 2705, 1837, 146, 940, 670, 2, 69, 5, 175, 3062, 409, 1666, 6, 69, 5, 1, 7593, 1738, 3115, 940, 670, 2, 3, 1666, 5581, 141, 6, 3, 855, 1389, 26, 3, 855, 31, 146, 7594, 5909], [1, 134, 84, 283, 7595, 2086, 7, 109, 196, 38, 1282, 382, 450, 3575, 6, 33, 5910, 47, 1072, 776, 1499, 4000, 9278, 2, 3448, 43, 2318, 210, 1623, 1, 2086, 196, 3575, 2, 595, 22, 7285, 10, 1, 4701, 23, 25, 665, 2, 2262, 6, 196, 9278, 41, 2, 7596, 1105, 575, 770, 4477, 39, 7], [1390, 2967, 96, 1489, 8, 214, 291, 92, 2, 208, 33, 70, 753, 7597, 208, 181, 6, 1981, 771, 676, 81, 1154, 993, 1, 96, 8, 11, 1, 261, 12, 170, 14, 3639, 219, 6, 973, 1434, 16, 455, 103, 4794, 1060, 1090, 284, 4, 1867, 1, 38, 59, 96, 8, 3, 347, 4261, 5, 1, 676, 108, 3174, 177, 24]]\n"
     ]
    }
   ],
   "source": [
    "# 텍스트 시퀀스를 정수 시퀀스로 변환\n",
    "encoder_input_train = src_tokenizer.texts_to_sequences(encoder_input_train)\n",
    "encoder_input_test = src_tokenizer.texts_to_sequences(encoder_input_test)\n",
    "\n",
    "#잘 진행되었는지 샘플 출력\n",
    "print(encoder_input_train[:3])"
   ]
  },
  {
   "cell_type": "code",
   "execution_count": 88,
   "id": "unauthorized-locator",
   "metadata": {},
   "outputs": [],
   "source": [
    "# Summary 데이터에 대해서도 동일한 작업을 수행\n",
    "# 케라스의 토크나이저를 사용하여 decoder_input_train을 입력으로 전체 단어 집합과 각 단어에 대한 빈도수를 계산\n",
    "\n",
    "tar_tokenizer = Tokenizer()\n",
    "tar_tokenizer.fit_on_texts(decoder_input_train)"
   ]
  },
  {
   "cell_type": "code",
   "execution_count": 89,
   "id": "underlying-witch",
   "metadata": {},
   "outputs": [
    {
     "name": "stdout",
     "output_type": "stream",
     "text": [
      "단어 집합(vocabulary)의 크기 : 24540\n",
      "등장 빈도가 5번 이하인 희귀 단어의 수: 19182\n",
      "단어 집합에서 희귀 단어를 제외시킬 경우의 단어 집합의 크기 5358\n",
      "단어 집합에서 희귀 단어의 비율: 78.16625916870416\n",
      "전체 등장 빈도에서 희귀 단어 등장 빈도 비율: 14.661840300450061\n"
     ]
    }
   ],
   "source": [
    "# 단어 집합이 생성되는 동시에 각 단어에 고유한 정수가 부여\n",
    "# tar_tokenizer.word_index에 저장\n",
    "# tar_tokenizer.word_counts.items()에는 단어와 각 단어의 등장 빈도수가 저장되어져 있는데, \n",
    "# 이를 통해서 통계적인 정보를 얻어서, 등장 빈도수가 6회 미만인 단어들이 이 데이터에서 얼만큼의 비중을 차지하는지 확인\n",
    "\n",
    "threshold = 6\n",
    "total_cnt = len(tar_tokenizer.word_index) # 단어의 수\n",
    "rare_cnt = 0 # 등장 빈도수가 threshold보다 작은 단어의 개수를 카운트\n",
    "total_freq = 0 # 훈련 데이터의 전체 단어 빈도수 총 합\n",
    "rare_freq = 0 # 등장 빈도수가 threshold보다 작은 단어의 등장 빈도수의 총 합\n",
    "\n",
    "# 단어와 빈도수의 쌍(pair)을 key와 value로 받는다.\n",
    "for key, value in tar_tokenizer.word_counts.items():\n",
    "    total_freq = total_freq + value\n",
    "\n",
    "    # 단어의 등장 빈도수가 threshold보다 작으면\n",
    "    if(value < threshold):\n",
    "        rare_cnt = rare_cnt + 1\n",
    "        rare_freq = rare_freq + value\n",
    "\n",
    "print('단어 집합(vocabulary)의 크기 :',total_cnt)\n",
    "print('등장 빈도가 %s번 이하인 희귀 단어의 수: %s'%(threshold - 1, rare_cnt))\n",
    "print('단어 집합에서 희귀 단어를 제외시킬 경우의 단어 집합의 크기 %s'%(total_cnt - rare_cnt))\n",
    "print(\"단어 집합에서 희귀 단어의 비율:\", (rare_cnt / total_cnt)*100)\n",
    "print(\"전체 등장 빈도에서 희귀 단어 등장 빈도 비율:\", (rare_freq / total_freq)*100)"
   ]
  },
  {
   "cell_type": "code",
   "execution_count": 90,
   "id": "patent-martin",
   "metadata": {
    "scrolled": true
   },
   "outputs": [
    {
     "name": "stdout",
     "output_type": "stream",
     "text": [
      "input\n",
      "input  [[1, 56, 4234, 1729, 58, 2440, 646, 867, 2287], [1, 1374, 58, 1093, 3, 1730, 2441], [1, 1375, 2027, 23, 45, 197, 274, 204, 837], [1, 1323, 121, 4735, 355, 1574, 5, 3257, 85], [1, 1575, 3841, 1174, 1650, 60, 958, 1175, 35]]\n",
      "target\n",
      "decoder  [[56, 4234, 1729, 58, 2440, 646, 867, 2287, 2], [1374, 58, 1093, 3, 1730, 2441, 2], [1375, 2027, 23, 45, 197, 274, 204, 837, 2], [1323, 121, 4735, 355, 1574, 5, 3257, 85, 2], [1575, 3841, 1174, 1650, 60, 958, 1175, 35, 2]]\n"
     ]
    }
   ],
   "source": [
    "tar_vocab = 5000\n",
    "tar_tokenizer = Tokenizer(num_words = tar_vocab) \n",
    "tar_tokenizer.fit_on_texts(decoder_input_train)\n",
    "tar_tokenizer.fit_on_texts(decoder_target_train)\n",
    "\n",
    "# 텍스트 시퀀스를 정수 시퀀스로 변환\n",
    "decoder_input_train = tar_tokenizer.texts_to_sequences(decoder_input_train) \n",
    "decoder_target_train = tar_tokenizer.texts_to_sequences(decoder_target_train)\n",
    "decoder_input_test = tar_tokenizer.texts_to_sequences(decoder_input_test)\n",
    "decoder_target_test = tar_tokenizer.texts_to_sequences(decoder_target_test)\n",
    "\n",
    "#잘 변환되었는지 확인\n",
    "print('input')\n",
    "print('input ',decoder_input_train[:5])\n",
    "print('target')\n",
    "print('decoder ',decoder_target_train[:5])"
   ]
  },
  {
   "cell_type": "code",
   "execution_count": 91,
   "id": "informal-flood",
   "metadata": {},
   "outputs": [
    {
     "name": "stdout",
     "output_type": "stream",
     "text": [
      "삭제할 훈련 데이터의 개수 : 2\n",
      "삭제할 테스트 데이터의 개수 : 0\n",
      "훈련 데이터의 개수 : 23703\n",
      "훈련 레이블의 개수 : 23703\n",
      "테스트 데이터의 개수 : 5926\n",
      "테스트 레이블의 개수 : 5926\n"
     ]
    },
    {
     "name": "stderr",
     "output_type": "stream",
     "text": [
      "/opt/conda/lib/python3.7/site-packages/numpy/core/_asarray.py:83: VisibleDeprecationWarning: Creating an ndarray from ragged nested sequences (which is a list-or-tuple of lists-or-tuples-or ndarrays with different lengths or shapes) is deprecated. If you meant to do this, you must specify 'dtype=object' when creating the ndarray\n",
      "  return array(a, dtype, copy=False, order=order)\n"
     ]
    }
   ],
   "source": [
    "# 훈련 데이터와 테스트 데이터에 대해서 요약문의 길이가 1인 경우의 인덱스를 각각 drop_train과 drop_test에 라는 변수에 저장해볼게요. 이 샘플들은 모두 삭제\n",
    "\n",
    "drop_train = [index for index, sentence in enumerate(decoder_input_train) if len(sentence) == 1]\n",
    "drop_test = [index for index, sentence in enumerate(decoder_input_test) if len(sentence) == 1]\n",
    "\n",
    "print('삭제할 훈련 데이터의 개수 :',len(drop_train))\n",
    "print('삭제할 테스트 데이터의 개수 :',len(drop_test))\n",
    "\n",
    "encoder_input_train = np.delete(encoder_input_train, drop_train, axis=0)\n",
    "decoder_input_train = np.delete(decoder_input_train, drop_train, axis=0)\n",
    "decoder_target_train = np.delete(decoder_target_train, drop_train, axis=0)\n",
    "\n",
    "encoder_input_test = np.delete(encoder_input_test, drop_test, axis=0)\n",
    "decoder_input_test = np.delete(decoder_input_test, drop_test, axis=0)\n",
    "decoder_target_test = np.delete(decoder_target_test, drop_test, axis=0)\n",
    "\n",
    "print('훈련 데이터의 개수 :', len(encoder_input_train))\n",
    "print('훈련 레이블의 개수 :',len(decoder_input_train))\n",
    "print('테스트 데이터의 개수 :',len(encoder_input_test))\n",
    "print('테스트 레이블의 개수 :',len(decoder_input_test))"
   ]
  },
  {
   "cell_type": "code",
   "execution_count": 92,
   "id": "liable-theater",
   "metadata": {},
   "outputs": [],
   "source": [
    "# 패딩\n",
    "# 최대 길이보다 짧은 데이터들은 뒤의 공간에 숫자 0을 넣어 최대 길이로 길이를 맞춰줄게요.\n",
    "\n",
    "encoder_input_train = pad_sequences(encoder_input_train, maxlen = text_max_len, padding='post')\n",
    "encoder_input_test = pad_sequences(encoder_input_test, maxlen = text_max_len, padding='post')\n",
    "decoder_input_train = pad_sequences(decoder_input_train, maxlen = summary_max_len, padding='post')\n",
    "decoder_target_train = pad_sequences(decoder_target_train, maxlen = summary_max_len, padding='post')\n",
    "decoder_input_test = pad_sequences(decoder_input_test, maxlen = summary_max_len, padding='post')\n",
    "decoder_target_test = pad_sequences(decoder_target_test, maxlen = summary_max_len, padding='post')"
   ]
  },
  {
   "cell_type": "markdown",
   "id": "critical-tribute",
   "metadata": {},
   "source": [
    "Step 3. 어텐션 메커니즘 사용하기 (추상적 요약)"
   ]
  },
  {
   "cell_type": "markdown",
   "id": "parallel-mixer",
   "metadata": {},
   "source": [
    "seqtoseq"
   ]
  },
  {
   "cell_type": "code",
   "execution_count": 116,
   "id": "former-strengthening",
   "metadata": {},
   "outputs": [
    {
     "name": "stdout",
     "output_type": "stream",
     "text": [
      "WARNING:tensorflow:Layer lstm_4 will not use cuDNN kernel since it doesn't meet the cuDNN kernel criteria. It will use generic GPU kernel as fallback when running on GPU\n",
      "WARNING:tensorflow:Layer lstm_5 will not use cuDNN kernel since it doesn't meet the cuDNN kernel criteria. It will use generic GPU kernel as fallback when running on GPU\n",
      "WARNING:tensorflow:Layer lstm_6 will not use cuDNN kernel since it doesn't meet the cuDNN kernel criteria. It will use generic GPU kernel as fallback when running on GPU\n"
     ]
    }
   ],
   "source": [
    "from tensorflow.keras.layers import Input, LSTM, Embedding, Dense, Concatenate\n",
    "from tensorflow.keras.models import Model\n",
    "from tensorflow.keras.callbacks import EarlyStopping, ModelCheckpoint\n",
    "\n",
    "\n",
    "# 인코더 설계 시작\n",
    "embedding_dim = 128\n",
    "hidden_size = 256\n",
    "\n",
    "# 인코더\n",
    "encoder_inputs = Input(shape=(text_max_len,))\n",
    "\n",
    "# 인코더의 임베딩 층 \n",
    "enc_emb = Embedding(src_vocab, embedding_dim)(encoder_inputs)\n",
    "\n",
    "# 인코더의 LSTM 1\n",
    "encoder_lstm1 = LSTM(hidden_size, return_sequences=True, return_state=True ,dropout = 0.4, recurrent_dropout = 0.4)\n",
    "encoder_output1, state_h1, state_c1 = encoder_lstm1(enc_emb)\n",
    "\n",
    "# 인코더의 LSTM 2\n",
    "encoder_lstm2 = LSTM(hidden_size, return_sequences=True, return_state=True, dropout=0.4, recurrent_dropout=0.4)\n",
    "encoder_output2, state_h2, state_c2 = encoder_lstm2(encoder_output1)\n",
    "\n",
    "# 인코더의 LSTM 3\n",
    "encoder_lstm3 = LSTM(hidden_size, return_state=True, return_sequences=True, dropout=0.4, recurrent_dropout=0.4)\n",
    "encoder_outputs, state_h, state_c= encoder_lstm3(encoder_output2)"
   ]
  },
  {
   "cell_type": "code",
   "execution_count": 117,
   "id": "stuck-procurement",
   "metadata": {},
   "outputs": [
    {
     "name": "stdout",
     "output_type": "stream",
     "text": [
      "WARNING:tensorflow:Layer lstm_7 will not use cuDNN kernel since it doesn't meet the cuDNN kernel criteria. It will use generic GPU kernel as fallback when running on GPU\n"
     ]
    }
   ],
   "source": [
    "# 디코더 설계\n",
    "# LSTM의 입력을 정의할 때, initial_state의 인자값으로 인코더의 hidden state와 cell state의 값을 넣어줘야 함\n",
    "\n",
    "decoder_inputs = Input(shape=(None,))\n",
    "\n",
    "# 디코더의 임베딩 층\n",
    "dec_emb_layer = Embedding(tar_vocab, embedding_dim)\n",
    "dec_emb = dec_emb_layer(decoder_inputs)\n",
    "\n",
    "# 디코더의 LSTM\n",
    "decoder_lstm = LSTM(hidden_size, return_sequences = True, return_state = True, dropout = 0.4, recurrent_dropout=0.2)\n",
    "decoder_outputs, _, _ = decoder_lstm(dec_emb, initial_state = [state_h, state_c])"
   ]
  },
  {
   "cell_type": "code",
   "execution_count": 118,
   "id": "durable-resolution",
   "metadata": {},
   "outputs": [
    {
     "name": "stdout",
     "output_type": "stream",
     "text": [
      "Model: \"model_4\"\n",
      "__________________________________________________________________________________________________\n",
      "Layer (type)                    Output Shape         Param #     Connected to                     \n",
      "==================================================================================================\n",
      "input_8 (InputLayer)            [(None, 59)]         0                                            \n",
      "__________________________________________________________________________________________________\n",
      "embedding_2 (Embedding)         (None, 59, 128)      1408000     input_8[0][0]                    \n",
      "__________________________________________________________________________________________________\n",
      "lstm_4 (LSTM)                   [(None, 59, 256), (N 394240      embedding_2[0][0]                \n",
      "__________________________________________________________________________________________________\n",
      "input_9 (InputLayer)            [(None, None)]       0                                            \n",
      "__________________________________________________________________________________________________\n",
      "lstm_5 (LSTM)                   [(None, 59, 256), (N 525312      lstm_4[0][0]                     \n",
      "__________________________________________________________________________________________________\n",
      "embedding_3 (Embedding)         (None, None, 128)    640000      input_9[0][0]                    \n",
      "__________________________________________________________________________________________________\n",
      "lstm_6 (LSTM)                   [(None, 59, 256), (N 525312      lstm_5[0][0]                     \n",
      "__________________________________________________________________________________________________\n",
      "lstm_7 (LSTM)                   [(None, None, 256),  394240      embedding_3[0][0]                \n",
      "                                                                 lstm_6[0][1]                     \n",
      "                                                                 lstm_6[0][2]                     \n",
      "__________________________________________________________________________________________________\n",
      "dense_2 (Dense)                 (None, None, 5000)   1285000     lstm_7[0][0]                     \n",
      "==================================================================================================\n",
      "Total params: 5,172,104\n",
      "Trainable params: 5,172,104\n",
      "Non-trainable params: 0\n",
      "__________________________________________________________________________________________________\n"
     ]
    }
   ],
   "source": [
    "# 디코더의 출력층\n",
    "decoder_softmax_layer = Dense(tar_vocab, activation = 'softmax')\n",
    "decoder_softmax_outputs = decoder_softmax_layer(decoder_outputs) \n",
    "\n",
    "# 모델 정의\n",
    "model = Model([encoder_inputs, decoder_inputs], decoder_softmax_outputs)\n",
    "model.summary()"
   ]
  },
  {
   "cell_type": "markdown",
   "id": "separated-belfast",
   "metadata": {},
   "source": [
    "attention"
   ]
  },
  {
   "cell_type": "code",
   "execution_count": 107,
   "id": "detected-mineral",
   "metadata": {},
   "outputs": [],
   "source": [
    "urllib.request.urlretrieve(\"https://raw.githubusercontent.com/thushv89/attention_keras/master/src/layers/attention.py\",\n",
    "                           filename=\"attention.py\")\n",
    "from attention import AttentionLayer"
   ]
  },
  {
   "cell_type": "code",
   "execution_count": 108,
   "id": "chief-accident",
   "metadata": {},
   "outputs": [
    {
     "name": "stdout",
     "output_type": "stream",
     "text": [
      "Model: \"model_2\"\n",
      "__________________________________________________________________________________________________\n",
      "Layer (type)                    Output Shape         Param #     Connected to                     \n",
      "==================================================================================================\n",
      "input_2 (InputLayer)            [(None, 59)]         0                                            \n",
      "__________________________________________________________________________________________________\n",
      "embedding (Embedding)           (None, 59, 128)      1408000     input_2[0][0]                    \n",
      "__________________________________________________________________________________________________\n",
      "lstm (LSTM)                     [(None, 59, 256), (N 394240      embedding[0][0]                  \n",
      "__________________________________________________________________________________________________\n",
      "input_3 (InputLayer)            [(None, None)]       0                                            \n",
      "__________________________________________________________________________________________________\n",
      "lstm_1 (LSTM)                   [(None, 59, 256), (N 525312      lstm[0][0]                       \n",
      "__________________________________________________________________________________________________\n",
      "embedding_1 (Embedding)         (None, None, 128)    640000      input_3[0][0]                    \n",
      "__________________________________________________________________________________________________\n",
      "lstm_2 (LSTM)                   [(None, 59, 256), (N 525312      lstm_1[0][0]                     \n",
      "__________________________________________________________________________________________________\n",
      "lstm_3 (LSTM)                   [(None, None, 256),  394240      embedding_1[0][0]                \n",
      "                                                                 lstm_2[0][1]                     \n",
      "                                                                 lstm_2[0][2]                     \n",
      "__________________________________________________________________________________________________\n",
      "attention_layer (AttentionLayer ((None, None, 256),  131328      lstm_2[0][0]                     \n",
      "                                                                 lstm_3[0][0]                     \n",
      "__________________________________________________________________________________________________\n",
      "concat_layer (Concatenate)      (None, None, 512)    0           lstm_3[0][0]                     \n",
      "                                                                 attention_layer[0][0]            \n",
      "__________________________________________________________________________________________________\n",
      "dense_1 (Dense)                 (None, None, 5000)   2565000     concat_layer[0][0]               \n",
      "==================================================================================================\n",
      "Total params: 6,583,432\n",
      "Trainable params: 6,583,432\n",
      "Non-trainable params: 0\n",
      "__________________________________________________________________________________________________\n"
     ]
    }
   ],
   "source": [
    "# 어텐션 층(어텐션 함수)\n",
    "attn_layer = AttentionLayer(name='attention_layer')\n",
    "\n",
    "# 인코더와 디코더의 모든 time step의 hidden state를 어텐션 층에 전달하고 결과를 리턴\n",
    "attn_out, attn_states = attn_layer([encoder_outputs, decoder_outputs])\n",
    "\n",
    "# 어텐션의 결과와 디코더의 hidden state들을 연결\n",
    "decoder_concat_input = Concatenate(axis = -1, name='concat_layer')([decoder_outputs, attn_out])\n",
    "\n",
    "# 디코더의 출력층\n",
    "decoder_softmax_layer = Dense(tar_vocab, activation='softmax')\n",
    "decoder_softmax_outputs = decoder_softmax_layer(decoder_concat_input)\n",
    "\n",
    "# 모델 정의\n",
    "model = Model([encoder_inputs, decoder_inputs], decoder_softmax_outputs)\n",
    "model.summary()\n",
    "Model: \"model_1\""
   ]
  },
  {
   "cell_type": "code",
   "execution_count": 97,
   "id": "foreign-thomson",
   "metadata": {},
   "outputs": [
    {
     "name": "stdout",
     "output_type": "stream",
     "text": [
      "Epoch 1/20\n",
      "93/93 [==============================] - 91s 878ms/step - loss: 6.1911 - val_loss: 5.7482\n",
      "Epoch 2/20\n",
      "93/93 [==============================] - 74s 797ms/step - loss: 5.7930 - val_loss: 5.6037\n",
      "Epoch 3/20\n",
      "93/93 [==============================] - 74s 794ms/step - loss: 5.6500 - val_loss: 5.5427\n",
      "Epoch 4/20\n",
      "93/93 [==============================] - 72s 779ms/step - loss: 5.5692 - val_loss: 5.4958\n",
      "Epoch 5/20\n",
      "93/93 [==============================] - 72s 776ms/step - loss: 5.4988 - val_loss: 5.4309\n",
      "Epoch 6/20\n",
      "93/93 [==============================] - 74s 799ms/step - loss: 5.4185 - val_loss: 5.3754\n",
      "Epoch 7/20\n",
      "93/93 [==============================] - 72s 776ms/step - loss: 5.3324 - val_loss: 5.3325\n",
      "Epoch 8/20\n",
      "93/93 [==============================] - 72s 780ms/step - loss: 5.2700 - val_loss: 5.2957\n",
      "Epoch 9/20\n",
      "93/93 [==============================] - 72s 775ms/step - loss: 5.2454 - val_loss: 5.2454\n",
      "Epoch 10/20\n",
      "93/93 [==============================] - 73s 784ms/step - loss: 5.1109 - val_loss: 5.1691\n",
      "Epoch 11/20\n",
      "93/93 [==============================] - 72s 776ms/step - loss: 5.0061 - val_loss: 5.0808\n",
      "Epoch 12/20\n",
      "93/93 [==============================] - 73s 781ms/step - loss: 4.9073 - val_loss: 5.0610\n",
      "Epoch 13/20\n",
      "93/93 [==============================] - 73s 781ms/step - loss: 4.8135 - val_loss: 4.9802\n",
      "Epoch 14/20\n",
      "93/93 [==============================] - 73s 787ms/step - loss: 4.7494 - val_loss: 4.9194\n",
      "Epoch 15/20\n",
      "93/93 [==============================] - 74s 796ms/step - loss: 4.6590 - val_loss: 4.8711\n",
      "Epoch 16/20\n",
      "93/93 [==============================] - 74s 802ms/step - loss: 4.5710 - val_loss: 4.8298\n",
      "Epoch 17/20\n",
      "93/93 [==============================] - 73s 785ms/step - loss: 4.4871 - val_loss: 4.7880\n",
      "Epoch 18/20\n",
      "93/93 [==============================] - 73s 791ms/step - loss: 4.4138 - val_loss: 4.7546\n",
      "Epoch 19/20\n",
      "93/93 [==============================] - 74s 800ms/step - loss: 4.3371 - val_loss: 4.7166\n",
      "Epoch 20/20\n",
      "93/93 [==============================] - 76s 823ms/step - loss: 4.2732 - val_loss: 4.6896\n"
     ]
    }
   ],
   "source": [
    "model.compile(optimizer='rmsprop', loss='sparse_categorical_crossentropy')\n",
    "es = EarlyStopping(monitor='val_loss', mode='min', verbose=1, patience = 2)\n",
    "history = model.fit(x = [encoder_input_train, decoder_input_train], y = decoder_target_train, \\\n",
    "          validation_data = ([encoder_input_test, decoder_input_test], decoder_target_test),\n",
    "          batch_size = 256, callbacks=[es], epochs = 20)"
   ]
  },
  {
   "cell_type": "code",
   "execution_count": 101,
   "id": "plastic-lecture",
   "metadata": {},
   "outputs": [],
   "source": [
    "src_index_to_word = src_tokenizer.index_word # 원문 단어 집합에서 정수 -> 단어를 얻음\n",
    "tar_word_to_index = tar_tokenizer.word_index # 요약 단어 집합에서 단어 -> 정수를 얻음\n",
    "tar_index_to_word = tar_tokenizer.index_word # 요약 단어 집합에서 정수 -> 단어를 얻음"
   ]
  },
  {
   "cell_type": "code",
   "execution_count": 103,
   "id": "compound-powder",
   "metadata": {},
   "outputs": [],
   "source": [
    "# 인코더 설계\n",
    "encoder_model = Model(inputs=encoder_inputs, outputs=[encoder_outputs, state_h, state_c])\n",
    "\n",
    "# 이전 시점의 상태들을 저장하는 텐서\n",
    "decoder_state_input_h = Input(shape=(hidden_size,))\n",
    "decoder_state_input_c = Input(shape=(hidden_size,))\n",
    "\n",
    "dec_emb2 = dec_emb_layer(decoder_inputs)\n",
    "# 문장의 다음 단어를 예측하기 위해서 초기 상태(initial_state)를 이전 시점의 상태로 사용. 이는 뒤의 함수 decode_sequence()에 구현\n",
    "# 훈련 과정에서와 달리 LSTM의 리턴하는 은닉 상태와 셀 상태인 state_h와 state_c를 버리지 않음.\n",
    "decoder_outputs2, state_h2, state_c2 = decoder_lstm(dec_emb2, initial_state=[decoder_state_input_h, decoder_state_input_c])"
   ]
  },
  {
   "cell_type": "code",
   "execution_count": 110,
   "id": "photographic-folder",
   "metadata": {},
   "outputs": [],
   "source": [
    "# 어텐션 함수\n",
    "decoder_hidden_state_input = Input(shape=(text_max_len, hidden_size))\n",
    "attn_out_inf, attn_states_inf = attn_layer([decoder_hidden_state_input, decoder_outputs2])\n",
    "decoder_inf_concat = Concatenate(axis=-1, name='concat')([decoder_outputs2, attn_out_inf])\n",
    "\n",
    "# 디코더의 출력층\n",
    "decoder_outputs2 = decoder_softmax_layer(decoder_inf_concat) \n",
    "\n",
    "# 최종 디코더 모델\n",
    "decoder_model = Model(\n",
    "    [decoder_inputs] + [decoder_hidden_state_input,decoder_state_input_h, decoder_state_input_c],\n",
    "    [decoder_outputs2] + [state_h2, state_c2])"
   ]
  },
  {
   "cell_type": "code",
   "execution_count": 98,
   "id": "hired-string",
   "metadata": {},
   "outputs": [],
   "source": [
    "def decode_sequence(input_seq):\n",
    "    # 입력으로부터 인코더의 상태를 얻음\n",
    "    e_out, e_h, e_c = encoder_model.predict(input_seq)\n",
    "\n",
    "     # <SOS>에 해당하는 토큰 생성\n",
    "    target_seq = np.zeros((1,1))\n",
    "    target_seq[0, 0] = tar_word_to_index['sostoken']\n",
    "\n",
    "    stop_condition = False\n",
    "    decoded_sentence = ''\n",
    "    while not stop_condition: # stop_condition이 True가 될 때까지 루프 반복\n",
    "\n",
    "        output_tokens, h, c = decoder_model.predict([target_seq] + [e_out, e_h, e_c])\n",
    "        sampled_token_index = np.argmax(output_tokens[0, -1, :])\n",
    "        sampled_token = tar_index_to_word[sampled_token_index]\n",
    "\n",
    "        if(sampled_token!='eostoken'):\n",
    "            decoded_sentence += ' '+sampled_token\n",
    "\n",
    "        #  <eos>에 도달하거나 최대 길이를 넘으면 중단.\n",
    "        if (sampled_token == 'eostoken'  or len(decoded_sentence.split()) >= (summary_max_len-1)):\n",
    "            stop_condition = True\n",
    "\n",
    "        # 길이가 1인 타겟 시퀀스를 업데이트\n",
    "        target_seq = np.zeros((1,1))\n",
    "        target_seq[0, 0] = sampled_token_index\n",
    "\n",
    "        # 상태를 업데이트 합니다.\n",
    "        e_h, e_c = h, c\n",
    "\n",
    "    return decoded_sentence"
   ]
  },
  {
   "cell_type": "markdown",
   "id": "recorded-exhibit",
   "metadata": {},
   "source": [
    "Step 4. 실제 결과와 요약문 비교하기 (추상적 요약)"
   ]
  },
  {
   "cell_type": "code",
   "execution_count": 99,
   "id": "positive-knight",
   "metadata": {},
   "outputs": [],
   "source": [
    "# 원문의 정수 시퀀스를 텍스트 시퀀스로 변환\n",
    "def seq2text(input_seq):\n",
    "    temp=''\n",
    "    for i in input_seq:\n",
    "        if(i!=0):\n",
    "            temp = temp + src_index_to_word[i]+' '\n",
    "    return temp\n",
    "\n",
    "# 요약문의 정수 시퀀스를 텍스트 시퀀스로 변환\n",
    "def seq2summary(input_seq):\n",
    "    temp=''\n",
    "    for i in input_seq:\n",
    "        if((i!=0 and i!=tar_word_to_index['sostoken']) and i!=tar_word_to_index['eostoken']):\n",
    "            temp = temp + tar_index_to_word[i] + ' '\n",
    "    return temp"
   ]
  },
  {
   "cell_type": "code",
   "execution_count": 111,
   "id": "artistic-philadelphia",
   "metadata": {},
   "outputs": [
    {
     "name": "stdout",
     "output_type": "stream",
     "text": [
      "원문 : cash strapped jet airways has temporarily suspended its services to and gold members travelling in economy class the revised policy will come into effect from december 1 the move comes weeks after travel food services the firm that operates the at mumbai airport discontinued the facility for jet airways passengers due to non payment of dues \n",
      "실제 요약 : cash jet airways withdraws economy access \n",
      "예측 요약 :  sachin maratha sachin sachin mamata sachin pnb pnb\n",
      "\n",
      "\n",
      "원문 : teacher ratio in 2016 17 was 27 students for every teacher in comparison with the 2015 16 figure which stood at 24 students per teacher the centre's all india survey on higher education has revealed the data also showed the number of college teachers dropped by 15 000 in one year while student enrolment increased by over 70 000 \n",
      "실제 요약 : maha teacher to 27 students per teacher \n",
      "예측 요약 :  21 21 21 21 balloon awareness mayor scientists\n",
      "\n",
      "\n",
      "원문 : the us is planning to establish an arab nato force to counter iran's military expansion in the region a spokesperson for the us national security council said the proposed security and political alliance known as the middle east strategic alliance will of the us saudi arabia the uae qatar kuwait bahrain egypt and jordan \n",
      "실제 요약 : us plans to to counter iran \n",
      "예측 요약 :  quarterly portal portal person response concerns response terrorism\n",
      "\n",
      "\n",
      "원문 : bjp mp mahajan on monday claimed that the farmers who were protesting in maharashtra were being by maoists adding that it is the maharashtra government's responsibility to sort out their problems the mp said i respect these farmers but what has me the most is that these farmers are holding communist flags \n",
      "실제 요약 : protesting farmers being by maoists bjp mp \n",
      "예측 요약 :  centre maratha sues unique unique journo's british independent\n",
      "\n",
      "\n",
      "원문 : new zealand's former captain and australia's james who both play for the gujarat lions trolled each other on twitter tweeted about how he was of the time he his off during an australia new zealand odi replied with a tweet that read i don't remember playing against you \n",
      "실제 요약 : gujarat troll each other \n",
      "예측 요약 :  terrorism minors gene gene gene gene gene stuck\n",
      "\n",
      "\n",
      "원문 : reacting to reports of cash in some states former finance minister p chidambaram said that the of demonetisation has come back to the government rbi he said rbi's statement is if rbi sufficient cash it must explain why there is a cash shortage he further asked why atms are still being 17 months after demonetisation \n",
      "실제 요약 : of demonetisation is back to govt chidambaram \n",
      "예측 요약 :  than weight patanjali spin spin retail official official\n",
      "\n",
      "\n",
      "원문 : central security agencies have raised concerns over the 000 crore takeover by a russian consortium led by citing of its port to pakistan and nearby defence assets reports suggested however an spokesperson said all are available notably it is mandatory to take security clearance from the home ministry for any foreign investment \n",
      "실제 요약 : 000 cr oil merger raises security concerns \n",
      "예측 요약 :  activist portal volcano venture ã¢ââ¹100 flyover musk woman'\n",
      "\n",
      "\n",
      "원문 : china's alibaba has developed a smart screen called smart touch to help blind people with shopping and payments on their phones the screen which costs 0 to produce has three sensor enabled small buttons on each side for actions like or smart touch can also perform functions like answering calls listening to texts and so on \n",
      "실제 요약 : alibaba builds smart screen to help blind people shop \n",
      "예측 요약 :  terrorism dangerous cricketer kick ben young junior junior\n",
      "\n",
      "\n",
      "원문 : the uttarakhand government on sunday refuted reports that it issued any order for charges on the use of helicopters during rescue operations in the state it added that when the helicopters are not being used for disaster relief and rescue operations they can be by travellers for a charge of ã¢ââ¹2 500 plus gst \n",
      "실제 요약 : reports of charge for helicopter services fake u'khand govt \n",
      "예측 요약 :  targeting targeting nehra poland elderly possible possible elderly\n",
      "\n",
      "\n",
      "원문 : police has registered an fir against an unknown person for allegedly molesting 17 year old actress zaira wasim on board an air vistara flight the case was registered under section ipc and protection of children from sexual offences pocso act the ministry of civil aviation sought details from air vistara while the national commission for women demanded a probe \n",
      "실제 요약 : mumbai police files fir in molestation case \n",
      "예측 요약 :  21 rule macron malala suresh sachin jayalalithaa's jodhpur\n",
      "\n",
      "\n",
      "원문 : the gold train on its maiden journey from tokyo on may 1 the 10 car train 34 passengers in 17 with prices reaching up to 000 around ã¢ââ¹5 5 lakh per person operated by the east japan railway it features a five star a menu devised by a starred chef and dining and observatory cars \n",
      "실제 요약 : in pictures japan's luxury cruise train \n",
      "예측 요약 :  21 21 imprisonment material ali ali sachin bribery\n",
      "\n",
      "\n",
      "원문 : air india union indian commercial association has told dgca its post flight rule on alcoholic tests safety of innocent flying passengers as these should be conducted before flights the rules require pilots and crew of flights from india to undergo pre flight alcohol tests while those of flights from outside india to undergo post flight tests \n",
      "실제 요약 : post flight test lives air india pilots \n",
      "예측 요약 :  we're spin spin spin mamata mamata vr mamata\n",
      "\n",
      "\n",
      "원문 : air india is better as a full service airline with product than its competitors and will to position itself above low cost carriers chairman and managing director rajiv bansal said amid attempts to improve air india's on time performance and increase the market share bansal further said the airline plans to invest in technological \n",
      "실제 요약 : air india better with product \n",
      "예측 요약 :  teen coffee spin spin spin carrying carrying parrikar\n",
      "\n",
      "\n",
      "원문 : the telangana pradesh congress committee has submitted a complaint to telangana chief electoral officer rajat kumar claiming electronic voting machines may have been manipulated in the state it said evm machines showing trends which are far away from ground however trs mp k claimed the losing party always alleges evm tampering and the claim is absolutely false \n",
      "실제 요약 : congress moves ec alleges evm tampering in telangana \n",
      "예측 요약 :  targeting patani maratha sachin sachin elderly mexico alphabet\n",
      "\n",
      "\n",
      "원문 : russian entrepreneur has announced plans for an initial coin offering of the world's first digital currency aimed at jewish communities across the globe the which comes from the word has been created to simplify payments within jewish communities said however the cryptocurrency can be bought by anyone \n",
      "실제 요약 : russian launches cryptocurrency only for \n",
      "예측 요약 :  actually pro bedi hindu spin healthcare draw draw\n",
      "\n",
      "\n",
      "원문 : co founder and newly appointed non executive board chairman nandan nilekani on friday said mr murthy is the father of corporate governance in india his statement comes after infosys' board in a six page note blamed co founder narayana murthy for ex ceo vishal decision to quit nilekani added i will ensure murthy has healthy relationship with the company \n",
      "실제 요약 : murthy the father of in india nilekani \n",
      "예측 요약 :  dal scene volcano fc fc thackeray terrorism boxing\n",
      "\n",
      "\n",
      "원문 : portugal captain cristiano ronaldo has left spanish club real madrid after nine years joining italian side juventus in a reported million crore four year deal the five time ballon d'or winner scored goals in matches for the spanish team winning two la liga titles and four champions league he also became real madrid's all time record during his tenure \n",
      "실제 요약 : ronaldo leaves real madrid after 9 years joins juventus \n",
      "예측 요약 :  teen barack gene champs demands carrying carrying carrying\n",
      "\n",
      "\n",
      "원문 : former indian cricketer vvs laxman compared jasprit bumrah to former pakistani pacer wasim saying that the that the indian pacer him of laxman said was the bowler i have faced because of the amount of he had and the control he had over those \n",
      "실제 요약 : bumrah almost me of laxman \n",
      "예측 요약 :  terrorism dhinakaran gene gene gene gene junior gene\n",
      "\n",
      "\n",
      "원문 : the supreme court has restrained former bcci head n and shah from attending the board's special general meeting which is scheduled for july 26 the bench passing the order headed by justice dipak misra said that the special general meeting shall be attended only by the office of the state cricket \n",
      "실제 요약 : sc shah from attending bcci \n",
      "예측 요약 :  quarterly spin spin older mamata info info vr\n",
      "\n",
      "\n",
      "원문 : mukesh ambani led reliance industries on thursday announced its fixed line broadband service which is based on to the home technology under the technology cable is installed from a central point to individual residences directly to provide high speed internet access ambani said it offers hundreds of even per second of data speeds \n",
      "실제 요약 : what is technology on which is based \n",
      "예측 요약 :  terrorism trudeau crackdown activist terrorism terrorism carrying parrikar\n",
      "\n",
      "\n",
      "원문 : following delhi chief minister arvind kejriwal's allegations of evm tampering in the recent polls bjp has said he is trying to the people with such baseless allegations notably the election commission had earlier advised aap to on why it could not perform well in the recent punjab polls instead of blaming the evms \n",
      "실제 요약 : kejriwal misleading people with allegations bjp \n",
      "예측 요약 :  than observed patanjali study 130 rumour daily retail\n",
      "\n",
      "\n",
      "원문 : cm manohar lal khattar on thursday announced that around 44 000 tube well connections pending since 1 january 2014 will be issued demand notices by 31 march 2019 the tube wells will be issued to the farmers by the next six months khattar further said that a target has been set to issue 50 000 new solar energy connections \n",
      "실제 요약 : haryana farmers to get 44 000 pending well \n",
      "예측 요약 :  patani maratha sachin sachin info journo's life daily\n",
      "\n",
      "\n",
      "원문 : pakistan has welcomed turkish president recep tayyip suggestion of having a dialogue to resolve the kashmir issue pakistan has always welcomed the statements and aimed at addressing the human rights issues it said notably ahead of his india visit erdogan had said turkey could be involved in a dialogue to permanently solve the kashmir issue \n",
      "실제 요약 : pak welcomes offer for kashmir talks \n",
      "예측 요약 :  h'wood institute coffee spin didnã¢âât didnã¢âât identify article\n",
      "\n",
      "\n",
      "원문 : the gorkha morcha has given the centre 10 days to intervene in the ongoing agitation for the separate state of gorkhaland failing which it threatened to the protests an indefinite shutdown is going on for the last 47 days the centre can't just sit when the hills are burning leaders said \n",
      "실제 요약 : gorkhaland protestors give centre 10 days to \n",
      "예측 요약 :  objects spin spin spin mamata mamata mamata mamata\n",
      "\n",
      "\n",
      "원문 : former recipients of the arjuna award including ex india hockey captain ashok kumar and former indian skipper suresh mishra claim that the honour has been and made cheap the dignity has to be maintained why do you need to give arjuna every year is it necessary we are now throwing the awards away kumar said \n",
      "실제 요약 : award made former award winners \n",
      "예측 요약 :  terrorism minors nazi gene gene gene fifty stuck\n",
      "\n",
      "\n",
      "원문 : while addressing a rally in gujarat's prime minister narendra modi on sunday claimed that suspended congress leader mani shankar held secret meetings with pakistan's high commissioner why are people who previously held high posts in military intelligence establishment of pakistan writing that we should help make ahmed patel the cm pm modi further asked \n",
      "실제 요약 : held secret meetings with pak envoy pm modi \n",
      "예측 요약 :  dismissed art strongest observed 130 diljit diljit evacuated\n",
      "\n",
      "\n",
      "원문 : russian spokesperson dmitry peskov has said that the country daily cyber attacks from the territory of the us but does not make accusations that they are by the white house or us intelligence agencies notably us have repeatedly accused russian hackers of meddling into the last year's presidential election and donald trump to power \n",
      "실제 요약 : us based hackers attack us every day russia \n",
      "예측 요약 :  quarterly portal portal martyrs martyrs concerns concerns response\n",
      "\n",
      "\n",
      "원문 : actor and honorary airways pilot john is donating his boeing to the historical aircraft restoration society in australia the boeing was originally part of fleet but was converted to private use later with double beds dining rooms and leather said he hoped the plane would fly well into the future \n",
      "실제 요약 : actor and honorary pilot john donates his plane \n",
      "예측 요약 :  russian dangerous buy one one one draw draw\n",
      "\n",
      "\n",
      "원문 : ganesh hegde will priyanka chopra and nick jonas' sangeet ceremony as per reports priyanka who will be performing at her sangeet ceremony will be wearing an outfit designed by abu sandeep khosla reports suggested nick will reportedly perform on priyanka's songs the mehendi and sangeet ceremony will take place on november 29 and 30 according to reports \n",
      "실제 요약 : ganesh to priyanka's sangeet reports \n",
      "예측 요약 :  enters car stuck inventor icbm storm bill shortage\n",
      "\n",
      "\n",
      "원문 : pakistan's military has said that new and guard posts along its 2 500 kilometre border with afghanistan will help prevent militant attacks in both countries this comes after the us accused pakistan of not preventing attacks in afghanistan from within its territory however afghanistan has objected to the fence claiming it would divide families and tribes mainly the ethnic \n",
      "실제 요약 : along afghanistan border will reduce attacks pakistan \n",
      "예측 요약 :  patani maratha sachin sachin fake young near sacked\n",
      "\n",
      "\n",
      "원문 : actress sunny leone and husband daniel have posed nude for a campaign that aims to create awareness against the use of animal skin in fashion accessories the title reads ink not be comfortable in your own skin and let animals keep notably sunny leone was named person of the year in 2016 \n",
      "실제 요약 : sunny leone husband nude for \n",
      "예측 요약 :  terrorism dhinakaran mind engaged shortage shortage shortage terrorism\n",
      "\n",
      "\n",
      "원문 : jailed rjd chief lalu prasad yadav is behaving abnormal and suffering from depression institute of medical sciences director rk shrivastava said depression is sometimes caused by illness and change of environment there is not anything major he added yadav jailed after being convicted in the fodder scam is currently admitted at the in ranchi \n",
      "실제 요약 : lalu under depression hospital \n",
      "예측 요약 :  maratha sachin respect maratha spin journo's article article\n",
      "\n",
      "\n",
      "원문 : relatives of passengers on board the missing flight have demanded malaysia to accept a private us firm's offer to search for the aircraft malaysian authorities are currently in talks with the company that wants payment only if the aircraft is found malaysia suspended the search for the aircraft after no concrete about the location were found \n",
      "실제 요약 : families demand malaysia to accept private search for \n",
      "예측 요약 :  hospitals imprisonment wimbledon perfect monsoon jailed wimbledon this\n",
      "\n",
      "\n",
      "원문 : storm ockhi is likely to gradually from sunday and is expected to travel north towards mumbai gujarat in the next 48 hours the india meteorological department has said the storm hit the lakshadweep islands on saturday after causing heavy rains and storms in tamil nadu and kerala reportedly claiming over 12 lives in the states so far \n",
      "실제 요약 : cyclone ockhi likely to from today met dept \n",
      "예측 요약 :  21 21 imprisonment spin only only captaincy scientists\n",
      "\n",
      "\n",
      "원문 : iit kharagpur professor drowned to death while trying to save his four year old son from in a mine filled with in west bengal's kharagpur on sunday the son reportedly fell into the water while clicking a selfie on his father's phone the child was recovered alive by the locals but the professor couldn't be saved the police said \n",
      "실제 요약 : kharagpur professor drowns while trying to save his son \n",
      "예측 요약 :  teen detects detects neutral neutral migrant carrying article\n",
      "\n",
      "\n",
      "원문 : the central government is planning to increase the speed limit on highways and up to 120 kilometres per hour across india currently all national highways in the country have a speed limit of 80 kilometres per hour except the yamuna expressway that has a 100 kilometres per hour speed limit \n",
      "실제 요약 : govt plans to increase speed limit on highways \n",
      "예측 요약 :  quarterly sachin spanish sachin sachin pathan life exams\n",
      "\n",
      "\n",
      "원문 : the punjab government has declared a state mourning tomorrow in view of the train accident in amritsar all offices and educational institutions will remain closed on saturday at least 50 people died and several others have been injured as a train ran over them during dussehra celebrations near a railway track on friday \n",
      "실제 요약 : state in punjab tomorrow over amritsar train accident \n",
      "예측 요약 :  21 diljit wimbledon unique journo's awareness diamond scientists\n",
      "\n",
      "\n",
      "원문 : mumbai based mohammad shaikh set the longest open sea swimming record by covering 8 kilometres in a span of four hours and four minutes shaikh who in goa's open had a tumour in his which his lower body completely paralysed shaikh will apply for the record to be included in the guinness world records \n",
      "실제 요약 : mumbai based sets open sea record \n",
      "예측 요약 :  teen detects 21 balloon imprisonment upcoming this mlas\n",
      "\n",
      "\n",
      "원문 : president pranab mukherjee on tuesday said the blast in st is a reminder that terrorism must be with and he also his condolences to russia saying please accept my condolences for the loss of innocent lives in the blast we pray for the early recovery of all those injured in the attacks \n",
      "실제 요약 : terrorism must be with president mukherjee \n",
      "예측 요약 :  than private coffee must married retail receives article\n",
      "\n",
      "\n",
      "원문 : the los angeles county confirmed on friday that 41 year old park singer died by hanging the said a half empty bottle of alcohol was found in the room but no drugs were reportedly with drug and alcohol at various times during his life no suicide note was found at the site \n",
      "실제 요약 : confirms park singer died by hanging \n",
      "예측 요약 :  teen detects 21 match imprisonment macron evms evms\n",
      "\n",
      "\n",
      "원문 : switzerland's richest man and pharmaceutical has been fined over ã¢ââ¹2 crore for driving at a speed of 88 km per hour in a 50 zone in december 2016 near geneva the fine for the yacht race america's cup former winner was on the basis of his wealth which is estimated at over ã¢ââ¹1 lakh crore \n",
      "실제 요약 : richest man fined over ã¢ââ¹2 crore for speeding \n",
      "예측 요약 :  teen varanasi actually jan monsoon carrying carrying carrying\n",
      "\n",
      "\n",
      "원문 : former sri lankan captain kumar in an episode of what the revealed muralitharan would wake him up to watch cartoons when they were during tours adding that muralitharan loved watching tv said that the spin legend would keep on telling him what is happening on it and would not let him sleep \n",
      "실제 요약 : would me up to watch \n",
      "예측 요약 :  terrorism hijab nazi ips spin shortage shortage terrorism\n",
      "\n",
      "\n",
      "원문 : the uttarakhand high court on friday issued a notice to river ganga which was declared as a living entity in march the court has sought a reply from the river on a pil stating that the government has proposed to construct a garbage dump spread over 10 acre land that has ganga flowing on two of its sides \n",
      "실제 요약 : ganga river gets notice from uttarakhand hc \n",
      "예측 요약 :  21 diljit wimbledon unique there spanish spanish near\n",
      "\n",
      "\n",
      "원문 : china's artificial intelligence ai startup has become the world's most valuable ai startup after raising 600 million mainly from alibaba the round which valued the startup at over 3 billion also saw participation from singapore's temasek and retailer com founded in 2014 develops face recognition technology that can be applied to payments and picture analysis \n",
      "실제 요약 : china's becomes most valuable ai startup \n",
      "예측 요약 :  assembly dismissal draw frozen accepts organises industrial announces\n",
      "\n",
      "\n",
      "원문 : google maps on wednesday launched a new messaging feature that will let users chat with businesses within the app users can ask questions and place orders with businesses they connect with that have enabled the feature on their profile the feature was available to a few users in select countries last year and is now rolling out worldwide \n",
      "실제 요약 : google maps launches feature to let users message businesses \n",
      "예측 요약 :  increased martyrs broadcast terrorism activist terrorism terrorism terrorism\n",
      "\n",
      "\n",
      "원문 : state owned russian television channel russia 1 photoshopped a smile onto north korean leader kim jong un's face in a recent broadcast of his meeting with russian foreign minister sergei however the photograph released by russia's foreign ministry shows kim jong un meanwhile the host said the image was not altered \n",
      "실제 요약 : russian tv channel onto kim jong face \n",
      "예측 요약 :  teen portal volcano older ã¢ââ¹100 cag seeking ã¢ââ¹100\n",
      "\n",
      "\n",
      "원문 : mumbai based startup which helps sellers manage orders from multiple platforms has raised ã¢ââ¹3 19 crore from investors including freecharge co founder kunal shah and online funding platform the startup raised the funds in two in december 2016 and january 2017 founded by nitin in 2011 is also backed by one97 mobility fund and ventures \n",
      "실제 요약 : co founder kunal shah backs startup \n",
      "예측 요약 :  juventus dangerous champs champs champs draw draw draw\n",
      "\n",
      "\n",
      "원문 : a 23 year old army jawan was booked after he allegedly raped and a minor girl in andhra pradesh's after promising to marry her the family reportedly refused to accept the victim's proposal for marriage and offered her money to the pregnancy the accused jawan who hailed from and was posted in kolkata is currently absconding \n",
      "실제 요약 : army jawan booked for raping minor in andhra \n",
      "예측 요약 :  teen akshay akshay maratha evms malala evms this\n",
      "\n",
      "\n",
      "원문 : the body of former lok sabha speaker chatterjee was in the flag of kolkata based football club of which he was a member for about 50 years his family rejected a proposal from a few cpi m leaders to his remains in the party's flag chatterjee was expelled from the cpi m in 2008 \n",
      "실제 요약 : body in flag of football club \n",
      "예측 요약 :  spin spin spin spin spin vr vr quarterly\n",
      "\n",
      "\n",
      "원문 : china on tuesday us president donald trump on the visit of north korean leader kim jong un to beijing this week the white house has said we see this development as further evidence that our campaign of maximum pressure is creating the appropriate atmosphere for dialogue with north korea the white house added \n",
      "실제 요약 : china us on kim jong visit white house \n",
      "예측 요약 :  1984 magazine harassment verma portal shortage shortage shortage\n",
      "\n",
      "\n"
     ]
    }
   ],
   "source": [
    "for i in range(50, 100):\n",
    "    print(\"원문 :\", seq2text(encoder_input_test[i]))\n",
    "    print(\"실제 요약 :\", seq2summary(decoder_input_test[i]))\n",
    "    print(\"예측 요약 :\", decode_sequence(encoder_input_test[i].reshape(1, text_max_len)))\n",
    "    print(\"\\n\")"
   ]
  },
  {
   "cell_type": "code",
   "execution_count": null,
   "id": "romantic-pressure",
   "metadata": {},
   "outputs": [],
   "source": []
  },
  {
   "cell_type": "markdown",
   "id": "frozen-bracket",
   "metadata": {},
   "source": [
    "Step 5. Summa을 이용해서 추출적 요약해보기"
   ]
  },
  {
   "cell_type": "code",
   "execution_count": 112,
   "id": "beautiful-harassment",
   "metadata": {},
   "outputs": [],
   "source": [
    "import requests\n",
    "from summa.summarizer import summarize"
   ]
  },
  {
   "cell_type": "code",
   "execution_count": 113,
   "id": "renewable-stupid",
   "metadata": {},
   "outputs": [
    {
     "name": "stdout",
     "output_type": "stream",
     "text": [
      "363\n",
      "Suman Kumari has become the first Hindu woman to have been appointed as a civil judge in Pakistan after passing an examination for induction of judicial officers. Kumari, who hails from Qambar-Shahdadkot, will serve in her native district. \"She has opted for a challenging profession...I am sure she will go places through hard work and honesty,\" her father said.\n"
     ]
    }
   ],
   "source": [
    "text = data['Text'][278]\n",
    "print(len(text))\n",
    "print(text)"
   ]
  },
  {
   "cell_type": "code",
   "execution_count": 114,
   "id": "parallel-mortality",
   "metadata": {},
   "outputs": [
    {
     "name": "stdout",
     "output_type": "stream",
     "text": [
      "Suman Kumari has become the first Hindu woman to have been appointed as a civil judge in Pakistan after passing an examination for induction of judicial officers. Kumari, who hails from Qambar-Shahdadkot, will serve in her native district. \"She has opted for a challenging profession...I am sure she will go places through hard work and honesty,\" her father said.. This is a sample sentence.\n"
     ]
    }
   ],
   "source": [
    "# text_: 추출적 요약이 적용되는 예시 문장\n",
    "text_ = 'Product arrived labeled as Jumbo Salted Peanuts...the peanuts were actually small sized unsalted. \\\n",
    "Not sure if this was an error or if the vendor intended to represent the product as \"Jumbo\".'\n",
    "\n",
    "# 기존 문장인 text에 마침표와 임의의 문장 추가\n",
    "text_new = text + '. This is a sample sentence.'\n",
    "print(text_new)"
   ]
  },
  {
   "cell_type": "code",
   "execution_count": 115,
   "id": "metric-veteran",
   "metadata": {},
   "outputs": [
    {
     "name": "stdout",
     "output_type": "stream",
     "text": [
      "Summary:\n",
      "Suman Kumari has become the first Hindu woman to have been appointed as a civil judge in Pakistan after passing an examination for induction of judicial officers.\n",
      "Kumari, who hails from Qambar-Shahdadkot, will serve in her native district.\n",
      "Summary:\n",
      "Product arrived labeled as Jumbo Salted Peanuts...the peanuts were actually small sized unsalted.\n",
      "Summary:\n",
      "Suman Kumari has become the first Hindu woman to have been appointed as a civil judge in Pakistan after passing an examination for induction of judicial officers.\n",
      "Kumari, who hails from Qambar-Shahdadkot, will serve in her native district.\n",
      "\"She has opted for a challenging profession...I am sure she will go places through hard work and honesty,\" her father said..\n"
     ]
    }
   ],
   "source": [
    "print('Summary:')\n",
    "print(summarize(text, ratio=0.8)) # 출력 X\n",
    "\n",
    "print('Summary:')\n",
    "print(summarize(text_, ratio=0.8)) # 출력되는 예시\n",
    "\n",
    "print('Summary:')\n",
    "print(summarize(text_new, ratio=0.8)) # 기존 문장 + 마침표 + 임의 문장 --> 출력 된다!!"
   ]
  },
  {
   "cell_type": "code",
   "execution_count": null,
   "id": "decent-flexibility",
   "metadata": {},
   "outputs": [],
   "source": []
  },
  {
   "cell_type": "code",
   "execution_count": null,
   "id": "multiple-syria",
   "metadata": {},
   "outputs": [],
   "source": []
  },
  {
   "cell_type": "code",
   "execution_count": null,
   "id": "bibliographic-pittsburgh",
   "metadata": {},
   "outputs": [],
   "source": []
  }
 ],
 "metadata": {
  "kernelspec": {
   "display_name": "Python 3",
   "language": "python",
   "name": "python3"
  },
  "language_info": {
   "codemirror_mode": {
    "name": "ipython",
    "version": 3
   },
   "file_extension": ".py",
   "mimetype": "text/x-python",
   "name": "python",
   "nbconvert_exporter": "python",
   "pygments_lexer": "ipython3",
   "version": "3.7.9"
  }
 },
 "nbformat": 4,
 "nbformat_minor": 5
}
