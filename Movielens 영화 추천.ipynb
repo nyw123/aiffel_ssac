{
 "cells": [
  {
   "cell_type": "markdown",
   "id": "polished-kazakhstan",
   "metadata": {},
   "source": [
    "# 1) 데이터 준비와 전처리"
   ]
  },
  {
   "cell_type": "code",
   "execution_count": 2,
   "id": "recognized-concert",
   "metadata": {},
   "outputs": [
    {
     "data": {
      "text/html": [
       "<div>\n",
       "<style scoped>\n",
       "    .dataframe tbody tr th:only-of-type {\n",
       "        vertical-align: middle;\n",
       "    }\n",
       "\n",
       "    .dataframe tbody tr th {\n",
       "        vertical-align: top;\n",
       "    }\n",
       "\n",
       "    .dataframe thead th {\n",
       "        text-align: right;\n",
       "    }\n",
       "</style>\n",
       "<table border=\"1\" class=\"dataframe\">\n",
       "  <thead>\n",
       "    <tr style=\"text-align: right;\">\n",
       "      <th></th>\n",
       "      <th>user_id</th>\n",
       "      <th>movie_id</th>\n",
       "      <th>rating</th>\n",
       "      <th>timestamp</th>\n",
       "    </tr>\n",
       "  </thead>\n",
       "  <tbody>\n",
       "    <tr>\n",
       "      <th>0</th>\n",
       "      <td>1</td>\n",
       "      <td>1193</td>\n",
       "      <td>5</td>\n",
       "      <td>978300760</td>\n",
       "    </tr>\n",
       "    <tr>\n",
       "      <th>1</th>\n",
       "      <td>1</td>\n",
       "      <td>661</td>\n",
       "      <td>3</td>\n",
       "      <td>978302109</td>\n",
       "    </tr>\n",
       "    <tr>\n",
       "      <th>2</th>\n",
       "      <td>1</td>\n",
       "      <td>914</td>\n",
       "      <td>3</td>\n",
       "      <td>978301968</td>\n",
       "    </tr>\n",
       "    <tr>\n",
       "      <th>3</th>\n",
       "      <td>1</td>\n",
       "      <td>3408</td>\n",
       "      <td>4</td>\n",
       "      <td>978300275</td>\n",
       "    </tr>\n",
       "    <tr>\n",
       "      <th>4</th>\n",
       "      <td>1</td>\n",
       "      <td>2355</td>\n",
       "      <td>5</td>\n",
       "      <td>978824291</td>\n",
       "    </tr>\n",
       "  </tbody>\n",
       "</table>\n",
       "</div>"
      ],
      "text/plain": [
       "   user_id  movie_id  rating  timestamp\n",
       "0        1      1193       5  978300760\n",
       "1        1       661       3  978302109\n",
       "2        1       914       3  978301968\n",
       "3        1      3408       4  978300275\n",
       "4        1      2355       5  978824291"
      ]
     },
     "execution_count": 2,
     "metadata": {},
     "output_type": "execute_result"
    }
   ],
   "source": [
    "import os\n",
    "import pandas as pd\n",
    "rating_file_path=os.getenv('HOME') + '/aiffel/recommendata_iu/data/ml-1m/ratings.dat'\n",
    "ratings_cols = ['user_id', 'moviehttps://8888-w23htc31avwr1yl2mf4pspevv.c2.prod.connect.ainize.ai/notebooks/aiffel/recommendata_iu/Movielens%20%EC%98%81%ED%99%94%20%EC%B6%94%EC%B2%9C.ipynb#_id', 'rating', 'timestamp']\n",
    "ratings = pd.read_csv(rating_file_path, sep='::', names=ratings_cols, engine='python', encoding = \"ISO-8859-1\")\n",
    "orginal_data_size = len(ratings)\n",
    "ratings.head()"
   ]
  },
  {
   "cell_type": "code",
   "execution_count": 3,
   "id": "sublime-metallic",
   "metadata": {},
   "outputs": [
    {
     "name": "stdout",
     "output_type": "stream",
     "text": [
      "orginal_data_size: 1000209, filtered_data_size: 836478\n",
      "Ratio of Remaining Data is 83.63%\n"
     ]
    }
   ],
   "source": [
    "# 3점 이상만 남깁니다.\n",
    "ratings = ratings[ratings['rating']>=3]\n",
    "filtered_data_size = len(ratings)\n",
    "\n",
    "print(f'orginal_data_size: {orginal_data_size}, filtered_data_size: {filtered_data_size}')\n",
    "print(f'Ratio of Remaining Data is {filtered_data_size / orginal_data_size:.2%}')"
   ]
  },
  {
   "cell_type": "code",
   "execution_count": 5,
   "id": "hazardous-asian",
   "metadata": {},
   "outputs": [
    {
     "data": {
      "text/plain": [
       "0          5\n",
       "1          3\n",
       "2          3\n",
       "3          4\n",
       "4          5\n",
       "          ..\n",
       "1000203    3\n",
       "1000205    5\n",
       "1000206    5\n",
       "1000207    4\n",
       "1000208    4\n",
       "Name: count, Length: 836478, dtype: int64"
      ]
     },
     "execution_count": 5,
     "metadata": {},
     "output_type": "execute_result"
    }
   ],
   "source": [
    "# rating 컬럼의 이름을 count로 바꿉니다.\n",
    "ratings.rename(columns={'rating':'count'}, inplace=True)\n",
    "ratings['count']"
   ]
  },
  {
   "cell_type": "code",
   "execution_count": 6,
   "id": "immune-verification",
   "metadata": {},
   "outputs": [
    {
     "data": {
      "text/html": [
       "<div>\n",
       "<style scoped>\n",
       "    .dataframe tbody tr th:only-of-type {\n",
       "        vertical-align: middle;\n",
       "    }\n",
       "\n",
       "    .dataframe tbody tr th {\n",
       "        vertical-align: top;\n",
       "    }\n",
       "\n",
       "    .dataframe thead th {\n",
       "        text-align: right;\n",
       "    }\n",
       "</style>\n",
       "<table border=\"1\" class=\"dataframe\">\n",
       "  <thead>\n",
       "    <tr style=\"text-align: right;\">\n",
       "      <th></th>\n",
       "      <th>movie_id</th>\n",
       "      <th>title</th>\n",
       "      <th>genre</th>\n",
       "    </tr>\n",
       "  </thead>\n",
       "  <tbody>\n",
       "    <tr>\n",
       "      <th>0</th>\n",
       "      <td>1</td>\n",
       "      <td>Toy Story (1995)</td>\n",
       "      <td>Animation|Children's|Comedy</td>\n",
       "    </tr>\n",
       "    <tr>\n",
       "      <th>1</th>\n",
       "      <td>2</td>\n",
       "      <td>Jumanji (1995)</td>\n",
       "      <td>Adventure|Children's|Fantasy</td>\n",
       "    </tr>\n",
       "    <tr>\n",
       "      <th>2</th>\n",
       "      <td>3</td>\n",
       "      <td>Grumpier Old Men (1995)</td>\n",
       "      <td>Comedy|Romance</td>\n",
       "    </tr>\n",
       "    <tr>\n",
       "      <th>3</th>\n",
       "      <td>4</td>\n",
       "      <td>Waiting to Exhale (1995)</td>\n",
       "      <td>Comedy|Drama</td>\n",
       "    </tr>\n",
       "    <tr>\n",
       "      <th>4</th>\n",
       "      <td>5</td>\n",
       "      <td>Father of the Bride Part II (1995)</td>\n",
       "      <td>Comedy</td>\n",
       "    </tr>\n",
       "  </tbody>\n",
       "</table>\n",
       "</div>"
      ],
      "text/plain": [
       "   movie_id                               title                         genre\n",
       "0         1                    Toy Story (1995)   Animation|Children's|Comedy\n",
       "1         2                      Jumanji (1995)  Adventure|Children's|Fantasy\n",
       "2         3             Grumpier Old Men (1995)                Comedy|Romance\n",
       "3         4            Waiting to Exhale (1995)                  Comedy|Drama\n",
       "4         5  Father of the Bride Part II (1995)                        Comedy"
      ]
     },
     "execution_count": 6,
     "metadata": {},
     "output_type": "execute_result"
    }
   ],
   "source": [
    "# 영화 제목을 보기 위해 메타 데이터를 읽어옵니다.\n",
    "movie_file_path=os.getenv('HOME') + '/aiffel/recommendata_iu/data/ml-1m/movies.dat'\n",
    "cols = ['movie_id', 'title', 'genre'] \n",
    "movies = pd.read_csv(movie_file_path, sep='::', names=cols, engine='python', encoding='ISO-8859-1')\n",
    "movies.head()"
   ]
  },
  {
   "cell_type": "markdown",
   "id": "romance-brief",
   "metadata": {},
   "source": [
    "사용하지 않는 컬럼 저장 후 데이터 프레임에서 삭제"
   ]
  },
  {
   "cell_type": "code",
   "execution_count": 10,
   "id": "fundamental-present",
   "metadata": {},
   "outputs": [],
   "source": [
    "\n",
    "# timestamp 따로 저장, ratings에서 삭제\n",
    "timestamp = ratings['timestamp']\n",
    "del ratings['timestamp']\n",
    "\n",
    "# genre 따로 저장, movies에서 삭제\n",
    "genre = movies['genre']\n",
    "del movies['genre']"
   ]
  },
  {
   "cell_type": "markdown",
   "id": "finnish-discipline",
   "metadata": {},
   "source": [
    "# 2) 분석해 봅시다.\n",
    "\n",
    "- ratings에 있는 유니크한 영화 개수\n",
    "- ratings에 있는 유니크한 사용자 수\n",
    "- 가장 인기 있는 영화 30개(인기순)"
   ]
  },
  {
   "cell_type": "code",
   "execution_count": 11,
   "id": "removable-portugal",
   "metadata": {},
   "outputs": [
    {
     "name": "stdout",
     "output_type": "stream",
     "text": [
      "Quiz Show (1994)\n",
      "300\n"
     ]
    }
   ],
   "source": [
    "\n",
    "# movie_id를 가지고 영화 제목 알아내기\n",
    "# 영화 제목으로 movie_id 찾기\n",
    "\n",
    "idx_to_movie = {}\n",
    "movie_to_idx = {}\n",
    "\n",
    "for i in range(movies.shape[0]):\n",
    "    idx_to_movie[movies['movie_id'][i]] = movies['title'][i]\n",
    "    movie_to_idx[movies['title'][i]] = movies['movie_id'][i]\n",
    "\n",
    "print(idx_to_movie[300])\n",
    "print(movie_to_idx['Quiz Show (1994)'])"
   ]
  },
  {
   "cell_type": "code",
   "execution_count": 12,
   "id": "focal-honolulu",
   "metadata": {},
   "outputs": [
    {
     "data": {
      "text/html": [
       "<div>\n",
       "<style scoped>\n",
       "    .dataframe tbody tr th:only-of-type {\n",
       "        vertical-align: middle;\n",
       "    }\n",
       "\n",
       "    .dataframe tbody tr th {\n",
       "        vertical-align: top;\n",
       "    }\n",
       "\n",
       "    .dataframe thead th {\n",
       "        text-align: right;\n",
       "    }\n",
       "</style>\n",
       "<table border=\"1\" class=\"dataframe\">\n",
       "  <thead>\n",
       "    <tr style=\"text-align: right;\">\n",
       "      <th></th>\n",
       "      <th>movie_id</th>\n",
       "      <th>title</th>\n",
       "    </tr>\n",
       "  </thead>\n",
       "  <tbody>\n",
       "    <tr>\n",
       "      <th>297</th>\n",
       "      <td>300</td>\n",
       "      <td>Quiz Show (1994)</td>\n",
       "    </tr>\n",
       "  </tbody>\n",
       "</table>\n",
       "</div>"
      ],
      "text/plain": [
       "     movie_id             title\n",
       "297       300  Quiz Show (1994)"
      ]
     },
     "execution_count": 12,
     "metadata": {},
     "output_type": "execute_result"
    }
   ],
   "source": [
    "\n",
    "# movie_id == 300 확인. 일치!\n",
    "\n",
    "movies[movies['movie_id']==300]"
   ]
  },
  {
   "cell_type": "code",
   "execution_count": 13,
   "id": "passive-tumor",
   "metadata": {},
   "outputs": [
    {
     "data": {
      "text/html": [
       "<div>\n",
       "<style scoped>\n",
       "    .dataframe tbody tr th:only-of-type {\n",
       "        vertical-align: middle;\n",
       "    }\n",
       "\n",
       "    .dataframe tbody tr th {\n",
       "        vertical-align: top;\n",
       "    }\n",
       "\n",
       "    .dataframe thead th {\n",
       "        text-align: right;\n",
       "    }\n",
       "</style>\n",
       "<table border=\"1\" class=\"dataframe\">\n",
       "  <thead>\n",
       "    <tr style=\"text-align: right;\">\n",
       "      <th></th>\n",
       "      <th>movie_id</th>\n",
       "      <th>title</th>\n",
       "    </tr>\n",
       "  </thead>\n",
       "  <tbody>\n",
       "    <tr>\n",
       "      <th>297</th>\n",
       "      <td>300</td>\n",
       "      <td>Quiz Show (1994)</td>\n",
       "    </tr>\n",
       "  </tbody>\n",
       "</table>\n",
       "</div>"
      ],
      "text/plain": [
       "     movie_id             title\n",
       "297       300  Quiz Show (1994)"
      ]
     },
     "execution_count": 13,
     "metadata": {},
     "output_type": "execute_result"
    }
   ],
   "source": [
    "# title == 'Quiz Show (1994)' 확인. 일치!\n",
    "\n",
    "movies[movies['title']=='Quiz Show (1994)']"
   ]
  },
  {
   "cell_type": "code",
   "execution_count": 14,
   "id": "developed-drive",
   "metadata": {},
   "outputs": [
    {
     "name": "stdout",
     "output_type": "stream",
     "text": [
      "유니크한 영화 개수는 : 3628 개\n",
      "유니크한 사용자 수는 : 6039 명\n"
     ]
    }
   ],
   "source": [
    "# ratings에 있는 유니크한 영화 개수\n",
    "print('유니크한 영화 개수는 :', ratings['movie_id'].nunique(), '개')\n",
    "\n",
    "# rating에 있는 유니크한 사용자 수\n",
    "print('유니크한 사용자 수는 :', ratings['user_id'].nunique(), '명')"
   ]
  },
  {
   "cell_type": "code",
   "execution_count": 15,
   "id": "artistic-guyana",
   "metadata": {},
   "outputs": [
    {
     "name": "stdout",
     "output_type": "stream",
     "text": [
      "가장 인기있는 1순위 영화는: American Beauty (1999)\n",
      "가장 인기있는 2순위 영화는: Star Wars: Episode IV - A New Hope (1977)\n",
      "가장 인기있는 3순위 영화는: Star Wars: Episode V - The Empire Strikes Back (1980)\n",
      "가장 인기있는 4순위 영화는: Star Wars: Episode VI - Return of the Jedi (1983)\n",
      "가장 인기있는 5순위 영화는: Back to the Future (1985)\n",
      "가장 인기있는 6순위 영화는: Saving Private Ryan (1998)\n",
      "가장 인기있는 7순위 영화는: Silence of the Lambs, The (1991)\n",
      "가장 인기있는 8순위 영화는: Raiders of the Lost Ark (1981)\n",
      "가장 인기있는 9순위 영화는: Sixth Sense, The (1999)\n",
      "가장 인기있는 10순위 영화는: Terminator 2: Judgment Day (1991)\n",
      "가장 인기있는 11순위 영화는: Matrix, The (1999)\n",
      "가장 인기있는 12순위 영화는: Fargo (1996)\n",
      "가장 인기있는 13순위 영화는: Princess Bride, The (1987)\n",
      "가장 인기있는 14순위 영화는: Jurassic Park (1993)\n",
      "가장 인기있는 15순위 영화는: Godfather, The (1972)\n",
      "가장 인기있는 16순위 영화는: Schindler's List (1993)\n",
      "가장 인기있는 17순위 영화는: Men in Black (1997)\n",
      "가장 인기있는 18순위 영화는: Shakespeare in Love (1998)\n",
      "가장 인기있는 19순위 영화는: Shawshank Redemption, The (1994)\n",
      "가장 인기있는 20순위 영화는: L.A. Confidential (1997)\n",
      "가장 인기있는 21순위 영화는: Braveheart (1995)\n",
      "가장 인기있는 22순위 영화는: E.T. the Extra-Terrestrial (1982)\n",
      "가장 인기있는 23순위 영화는: Groundhog Day (1993)\n",
      "가장 인기있는 24순위 영화는: Ghostbusters (1984)\n",
      "가장 인기있는 25순위 영화는: Being John Malkovich (1999)\n",
      "가장 인기있는 26순위 영화는: Terminator, The (1984)\n",
      "가장 인기있는 27순위 영화는: Forrest Gump (1994)\n",
      "가장 인기있는 28순위 영화는: Pulp Fiction (1994)\n",
      "가장 인기있는 29순위 영화는: Toy Story (1995)\n",
      "가장 인기있는 30순위 영화는: Alien (1979)\n"
     ]
    }
   ],
   "source": [
    "\n",
    "# ratings 데이터 프레임에서 하나의 movie_id에 얼마나 많은 user_id가 있는지 합계 구한뒤\n",
    "# 내림차순으로 정렬해서 30개만 보여주기\n",
    "\n",
    "grouped = ratings['user_id'].groupby(ratings['movie_id']).sum()\n",
    "top_30_movies_id = grouped.sort_values(ascending=False)[:30]\n",
    "for i in range(len(top_30_movies_id)):\n",
    "    print('가장 인기있는 {}순위 영화는: {}'.format(i+1, idx_to_movie[top_30_movies_id.index[i]]))"
   ]
  },
  {
   "cell_type": "code",
   "execution_count": 16,
   "id": "parallel-organic",
   "metadata": {},
   "outputs": [
    {
     "data": {
      "text/html": [
       "<div>\n",
       "<style scoped>\n",
       "    .dataframe tbody tr th:only-of-type {\n",
       "        vertical-align: middle;\n",
       "    }\n",
       "\n",
       "    .dataframe tbody tr th {\n",
       "        vertical-align: top;\n",
       "    }\n",
       "\n",
       "    .dataframe thead th {\n",
       "        text-align: right;\n",
       "    }\n",
       "</style>\n",
       "<table border=\"1\" class=\"dataframe\">\n",
       "  <thead>\n",
       "    <tr style=\"text-align: right;\">\n",
       "      <th></th>\n",
       "      <th>user_id</th>\n",
       "      <th>movie_id</th>\n",
       "      <th>count</th>\n",
       "    </tr>\n",
       "  </thead>\n",
       "  <tbody>\n",
       "    <tr>\n",
       "      <th>0</th>\n",
       "      <td>1</td>\n",
       "      <td>1193</td>\n",
       "      <td>5</td>\n",
       "    </tr>\n",
       "    <tr>\n",
       "      <th>1</th>\n",
       "      <td>2339</td>\n",
       "      <td>1952</td>\n",
       "      <td>5</td>\n",
       "    </tr>\n",
       "    <tr>\n",
       "      <th>2</th>\n",
       "      <td>4671</td>\n",
       "      <td>1210</td>\n",
       "      <td>5</td>\n",
       "    </tr>\n",
       "    <tr>\n",
       "      <th>3</th>\n",
       "      <td>2340</td>\n",
       "      <td>715</td>\n",
       "      <td>5</td>\n",
       "    </tr>\n",
       "    <tr>\n",
       "      <th>4</th>\n",
       "      <td>2340</td>\n",
       "      <td>2987</td>\n",
       "      <td>5</td>\n",
       "    </tr>\n",
       "    <tr>\n",
       "      <th>5</th>\n",
       "      <td>4671</td>\n",
       "      <td>380</td>\n",
       "      <td>5</td>\n",
       "    </tr>\n",
       "    <tr>\n",
       "      <th>6</th>\n",
       "      <td>1293</td>\n",
       "      <td>524</td>\n",
       "      <td>5</td>\n",
       "    </tr>\n",
       "    <tr>\n",
       "      <th>7</th>\n",
       "      <td>1293</td>\n",
       "      <td>527</td>\n",
       "      <td>5</td>\n",
       "    </tr>\n",
       "    <tr>\n",
       "      <th>8</th>\n",
       "      <td>2339</td>\n",
       "      <td>3929</td>\n",
       "      <td>5</td>\n",
       "    </tr>\n",
       "    <tr>\n",
       "      <th>9</th>\n",
       "      <td>2339</td>\n",
       "      <td>3922</td>\n",
       "      <td>5</td>\n",
       "    </tr>\n",
       "  </tbody>\n",
       "</table>\n",
       "</div>"
      ],
      "text/plain": [
       "   user_id  movie_id  count\n",
       "0        1      1193      5\n",
       "1     2339      1952      5\n",
       "2     4671      1210      5\n",
       "3     2340       715      5\n",
       "4     2340      2987      5\n",
       "5     4671       380      5\n",
       "6     1293       524      5\n",
       "7     1293       527      5\n",
       "8     2339      3929      5\n",
       "9     2339      3922      5"
      ]
     },
     "execution_count": 16,
     "metadata": {},
     "output_type": "execute_result"
    }
   ],
   "source": [
    "# 평점 기준으로 내림차순\n",
    "\n",
    "ratings.sort_values(by=['count'], axis=0, ascending=False, inplace=True)\n",
    "ratings.reset_index(drop=True, inplace=True)\n",
    "ratings.head(10)"
   ]
  },
  {
   "cell_type": "code",
   "execution_count": 17,
   "id": "tight-martin",
   "metadata": {},
   "outputs": [
    {
     "name": "stdout",
     "output_type": "stream",
     "text": [
      "가장 평점이 높은 영화 1순위는 : One Flew Over the Cuckoo's Nest (1975)\n",
      "가장 평점이 높은 영화 2순위는 : Midnight Cowboy (1969)\n",
      "가장 평점이 높은 영화 3순위는 : Star Wars: Episode VI - Return of the Jedi (1983)\n",
      "가장 평점이 높은 영화 4순위는 : Horseman on the Roof, The (Hussard sur le toit, Le) (1995)\n",
      "가장 평점이 높은 영화 5순위는 : Who Framed Roger Rabbit? (1988)\n",
      "가장 평점이 높은 영화 6순위는 : True Lies (1994)\n",
      "가장 평점이 높은 영화 7순위는 : Rudy (1993)\n",
      "가장 평점이 높은 영화 8순위는 : Schindler's List (1993)\n",
      "가장 평점이 높은 영화 9순위는 : Bank Dick, The (1940)\n",
      "가장 평점이 높은 영화 10순위는 : Bikini Beach (1964)\n",
      "가장 평점이 높은 영화 11순위는 : Beach Party (1963)\n",
      "가장 평점이 높은 영화 12순위는 : Fish Called Wanda, A (1988)\n",
      "가장 평점이 높은 영화 13순위는 : Best in Show (2000)\n",
      "가장 평점이 높은 영화 14순위는 : Phantom of the Opera, The (1943)\n",
      "가장 평점이 높은 영화 15순위는 : Duck Soup (1933)\n",
      "가장 평점이 높은 영화 16순위는 : Being John Malkovich (1999)\n",
      "가장 평점이 높은 영화 17순위는 : Dirty Dancing (1987)\n",
      "가장 평점이 높은 영화 18순위는 : Godfather: Part II, The (1974)\n",
      "가장 평점이 높은 영화 19순위는 : Sleepless in Seattle (1993)\n",
      "가장 평점이 높은 영화 20순위는 : Toy Story (1995)\n",
      "가장 평점이 높은 영화 21순위는 : Lethal Weapon 4 (1998)\n",
      "가장 평점이 높은 영화 22순위는 : Lady Vanishes, The (1938)\n",
      "가장 평점이 높은 영화 23순위는 : Purple Rose of Cairo, The (1985)\n",
      "가장 평점이 높은 영화 24순위는 : Matrix, The (1999)\n",
      "가장 평점이 높은 영화 25순위는 : Groundhog Day (1993)\n",
      "가장 평점이 높은 영화 26순위는 : Schindler's List (1993)\n",
      "가장 평점이 높은 영화 27순위는 : Down by Law (1986)\n",
      "가장 평점이 높은 영화 28순위는 : Held Up (2000)\n",
      "가장 평점이 높은 영화 29순위는 : Forrest Gump (1994)\n",
      "가장 평점이 높은 영화 30순위는 : For Your Eyes Only (1981)\n"
     ]
    }
   ],
   "source": [
    "# 평점이 높은 영화 30개\n",
    "\n",
    "for i in range(30):\n",
    "    print('가장 평점이 높은 영화 {}순위는 : {}'.format(i+1, movies[movies['movie_id'] == ratings.loc[i,'movie_id']].iloc[0,1]))"
   ]
  },
  {
   "cell_type": "markdown",
   "id": "following-cradle",
   "metadata": {},
   "source": [
    "# 3) 내가 선호하는 영화를 5가지 골라서 ratings에 추가해 줍시다."
   ]
  },
  {
   "cell_type": "code",
   "execution_count": 18,
   "id": "incoming-dodge",
   "metadata": {},
   "outputs": [
    {
     "name": "stdout",
     "output_type": "stream",
     "text": [
      "Star Wars: Episode IV - A New Hope (1977)\n",
      "Star Trek: Generations (1994)\n",
      "Star Wars: Episode V - The Empire Strikes Back (1980)\n",
      "Star Wars: Episode VI - Return of the Jedi (1983)\n",
      "Star Trek: First Contact (1996)\n",
      "Star Trek: The Motion Picture (1979)\n",
      "Star Trek VI: The Undiscovered Country (1991)\n",
      "Star Trek V: The Final Frontier (1989)\n",
      "Star Trek: The Wrath of Khan (1982)\n",
      "Star Trek III: The Search for Spock (1984)\n",
      "Star Trek IV: The Voyage Home (1986)\n",
      "Star Trek: Insurrection (1998)\n",
      "Star Wars: Episode I - The Phantom Menace (1999)\n"
     ]
    }
   ],
   "source": [
    "# Star Wars, Star Trek 영화 찾기\n",
    "\n",
    "for i in range(movies.shape[0]):\n",
    "    if movies.iloc[i,1][:9] == 'Star Wars':\n",
    "        print(movies.iloc[i,1])\n",
    "    elif movies.iloc[i,1][:9] == 'Star Trek':\n",
    "        print(movies.iloc[i,1])"
   ]
  },
  {
   "cell_type": "code",
   "execution_count": 19,
   "id": "advanced-baseball",
   "metadata": {},
   "outputs": [
    {
     "name": "stdout",
     "output_type": "stream",
     "text": [
      "[260, 329, 1196, 1210, 2393]\n"
     ]
    }
   ],
   "source": [
    "# 선호하는 영화 5개 리스트\n",
    "\n",
    "my_favorite_title = ['Star Wars: Episode IV - A New Hope (1977)', \n",
    "               'Star Wars: Episode V - The Empire Strikes Back (1980)', \n",
    "               'Star Wars: Episode VI - Return of the Jedi (1983)',\n",
    "              'Star Trek: Generations (1994)',\n",
    "              'Star Trek: Insurrection (1998)']\n",
    "\n",
    "# 선호하는 영화 movie_id 리스트 생성\n",
    "my_favorite_id = []\n",
    "for i in range(movies.shape[0]):\n",
    "    if movies.iloc[i,1] in my_favorite_title:\n",
    "        my_favorite_id.append(movies.iloc[i,0])\n",
    "\n",
    "print(my_favorite_id)"
   ]
  },
  {
   "cell_type": "code",
   "execution_count": 20,
   "id": "interim-omaha",
   "metadata": {},
   "outputs": [
    {
     "name": "stdout",
     "output_type": "stream",
     "text": [
      "6040\n"
     ]
    }
   ],
   "source": [
    "# 내 user_id = 기존 최대값 +1 = 6041\n",
    "\n",
    "print(ratings['user_id'].max()) # 6040"
   ]
  },
  {
   "cell_type": "code",
   "execution_count": 21,
   "id": "detailed-election",
   "metadata": {},
   "outputs": [
    {
     "name": "stdout",
     "output_type": "stream",
     "text": [
      "추가!\n"
     ]
    },
    {
     "data": {
      "text/html": [
       "<div>\n",
       "<style scoped>\n",
       "    .dataframe tbody tr th:only-of-type {\n",
       "        vertical-align: middle;\n",
       "    }\n",
       "\n",
       "    .dataframe tbody tr th {\n",
       "        vertical-align: top;\n",
       "    }\n",
       "\n",
       "    .dataframe thead th {\n",
       "        text-align: right;\n",
       "    }\n",
       "</style>\n",
       "<table border=\"1\" class=\"dataframe\">\n",
       "  <thead>\n",
       "    <tr style=\"text-align: right;\">\n",
       "      <th></th>\n",
       "      <th>user_id</th>\n",
       "      <th>movie_id</th>\n",
       "      <th>count</th>\n",
       "    </tr>\n",
       "  </thead>\n",
       "  <tbody>\n",
       "    <tr>\n",
       "      <th>0</th>\n",
       "      <td>6041</td>\n",
       "      <td>260</td>\n",
       "      <td>5</td>\n",
       "    </tr>\n",
       "    <tr>\n",
       "      <th>1</th>\n",
       "      <td>6041</td>\n",
       "      <td>329</td>\n",
       "      <td>5</td>\n",
       "    </tr>\n",
       "    <tr>\n",
       "      <th>2</th>\n",
       "      <td>6041</td>\n",
       "      <td>1196</td>\n",
       "      <td>5</td>\n",
       "    </tr>\n",
       "    <tr>\n",
       "      <th>3</th>\n",
       "      <td>6041</td>\n",
       "      <td>1210</td>\n",
       "      <td>5</td>\n",
       "    </tr>\n",
       "    <tr>\n",
       "      <th>4</th>\n",
       "      <td>6041</td>\n",
       "      <td>2393</td>\n",
       "      <td>5</td>\n",
       "    </tr>\n",
       "  </tbody>\n",
       "</table>\n",
       "</div>"
      ],
      "text/plain": [
       "   user_id  movie_id  count\n",
       "0     6041       260      5\n",
       "1     6041       329      5\n",
       "2     6041      1196      5\n",
       "3     6041      1210      5\n",
       "4     6041      2393      5"
      ]
     },
     "execution_count": 21,
     "metadata": {},
     "output_type": "execute_result"
    }
   ],
   "source": [
    "# user_id == 6041가 위 영화를 5번 봤다고 가정\n",
    "\n",
    "my_playlist = pd.DataFrame({'user_id':[6041]*5, 'movie_id':my_favorite_id, 'count' : [5]*5 })\n",
    "\n",
    "if not ratings.isin({'user_id':[6041]})['user_id'].any():\n",
    "    ratings = ratings.append(my_playlist)\n",
    "    print('추가!')\n",
    "ratings[ratings['user_id'] == 6041]"
   ]
  },
  {
   "cell_type": "code",
   "execution_count": 22,
   "id": "acknowledged-tomato",
   "metadata": {},
   "outputs": [
    {
     "data": {
      "text/html": [
       "<div>\n",
       "<style scoped>\n",
       "    .dataframe tbody tr th:only-of-type {\n",
       "        vertical-align: middle;\n",
       "    }\n",
       "\n",
       "    .dataframe tbody tr th {\n",
       "        vertical-align: top;\n",
       "    }\n",
       "\n",
       "    .dataframe thead th {\n",
       "        text-align: right;\n",
       "    }\n",
       "</style>\n",
       "<table border=\"1\" class=\"dataframe\">\n",
       "  <thead>\n",
       "    <tr style=\"text-align: right;\">\n",
       "      <th></th>\n",
       "      <th>user_id</th>\n",
       "      <th>movie_id</th>\n",
       "      <th>count</th>\n",
       "    </tr>\n",
       "  </thead>\n",
       "  <tbody>\n",
       "    <tr>\n",
       "      <th>836473</th>\n",
       "      <td>4194</td>\n",
       "      <td>661</td>\n",
       "      <td>3</td>\n",
       "    </tr>\n",
       "    <tr>\n",
       "      <th>836474</th>\n",
       "      <td>1727</td>\n",
       "      <td>2581</td>\n",
       "      <td>3</td>\n",
       "    </tr>\n",
       "    <tr>\n",
       "      <th>836475</th>\n",
       "      <td>1727</td>\n",
       "      <td>174</td>\n",
       "      <td>3</td>\n",
       "    </tr>\n",
       "    <tr>\n",
       "      <th>836476</th>\n",
       "      <td>4194</td>\n",
       "      <td>1885</td>\n",
       "      <td>3</td>\n",
       "    </tr>\n",
       "    <tr>\n",
       "      <th>836477</th>\n",
       "      <td>3080</td>\n",
       "      <td>3536</td>\n",
       "      <td>3</td>\n",
       "    </tr>\n",
       "    <tr>\n",
       "      <th>836478</th>\n",
       "      <td>6041</td>\n",
       "      <td>260</td>\n",
       "      <td>5</td>\n",
       "    </tr>\n",
       "    <tr>\n",
       "      <th>836479</th>\n",
       "      <td>6041</td>\n",
       "      <td>329</td>\n",
       "      <td>5</td>\n",
       "    </tr>\n",
       "    <tr>\n",
       "      <th>836480</th>\n",
       "      <td>6041</td>\n",
       "      <td>1196</td>\n",
       "      <td>5</td>\n",
       "    </tr>\n",
       "    <tr>\n",
       "      <th>836481</th>\n",
       "      <td>6041</td>\n",
       "      <td>1210</td>\n",
       "      <td>5</td>\n",
       "    </tr>\n",
       "    <tr>\n",
       "      <th>836482</th>\n",
       "      <td>6041</td>\n",
       "      <td>2393</td>\n",
       "      <td>5</td>\n",
       "    </tr>\n",
       "  </tbody>\n",
       "</table>\n",
       "</div>"
      ],
      "text/plain": [
       "        user_id  movie_id  count\n",
       "836473     4194       661      3\n",
       "836474     1727      2581      3\n",
       "836475     1727       174      3\n",
       "836476     4194      1885      3\n",
       "836477     3080      3536      3\n",
       "836478     6041       260      5\n",
       "836479     6041       329      5\n",
       "836480     6041      1196      5\n",
       "836481     6041      1210      5\n",
       "836482     6041      2393      5"
      ]
     },
     "execution_count": 22,
     "metadata": {},
     "output_type": "execute_result"
    }
   ],
   "source": [
    "ratings.reset_index(drop=False, inplace=True) # 인덱스 번호 초기화\n",
    "ratings.drop('index', axis=1, inplace=True) # 'index' 컬럼 삭제\n",
    "ratings.tail(10)"
   ]
  },
  {
   "cell_type": "markdown",
   "id": "critical-patient",
   "metadata": {},
   "source": [
    "# 4) CSR matrix를 직접 만들어 봅시다."
   ]
  },
  {
   "cell_type": "code",
   "execution_count": 23,
   "id": "legislative-evening",
   "metadata": {},
   "outputs": [
    {
     "data": {
      "text/plain": [
       "<6042x3953 sparse matrix of type '<class 'numpy.longlong'>'\n",
       "\twith 836483 stored elements in Compressed Sparse Row format>"
      ]
     },
     "execution_count": 23,
     "metadata": {},
     "output_type": "execute_result"
    }
   ],
   "source": [
    "# 실습 위에 설명보고 이해해서 만들어보기\n",
    "from scipy.sparse import csr_matrix\n",
    "\n",
    "num_user = ratings['user_id'].nunique()\n",
    "num_movie = ratings['movie_id'].nunique()\n",
    "# csr_data = csr_matrix((ratings['count'], (ratings.user_id, ratings.movie_id)), shape= (num_user, num_movie))\n",
    "csr_data = csr_matrix((ratings['count'], (ratings.user_id, ratings.movie_id)))\n",
    "csr_data"
   ]
  },
  {
   "cell_type": "code",
   "execution_count": 24,
   "id": "behavioral-repeat",
   "metadata": {
    "scrolled": true
   },
   "outputs": [
    {
     "name": "stdout",
     "output_type": "stream",
     "text": [
      "6040\n",
      "3628\n",
      "(6042, 3953)\n"
     ]
    }
   ],
   "source": [
    "# 수치 확인\n",
    "\n",
    "print(num_user)\n",
    "print(num_movie)\n",
    "print(csr_data.shape)"
   ]
  },
  {
   "cell_type": "code",
   "execution_count": null,
   "id": "intelligent-multiple",
   "metadata": {},
   "outputs": [],
   "source": []
  },
  {
   "cell_type": "markdown",
   "id": "periodic-interstate",
   "metadata": {},
   "source": [
    "# 5) als_model = AlternatingLeastSquares 모델을 직접 구성하여 훈련시켜 봅시다."
   ]
  },
  {
   "cell_type": "code",
   "execution_count": 25,
   "id": "retired-assumption",
   "metadata": {},
   "outputs": [],
   "source": [
    "from implicit.als import AlternatingLeastSquares\n",
    "import os\n",
    "import numpy as np"
   ]
  },
  {
   "cell_type": "code",
   "execution_count": 26,
   "id": "coastal-hollow",
   "metadata": {},
   "outputs": [
    {
     "name": "stderr",
     "output_type": "stream",
     "text": [
      "WARNING:root:OpenBLAS detected. Its highly recommend to set the environment variable 'export OPENBLAS_NUM_THREADS=1' to disable its internal multithreading\n"
     ]
    }
   ],
   "source": [
    "als_model = AlternatingLeastSquares(factors=100, regularization=0.01, use_gpu=False, iterations=15, dtype=np.float32)"
   ]
  },
  {
   "cell_type": "code",
   "execution_count": 27,
   "id": "military-liver",
   "metadata": {},
   "outputs": [
    {
     "data": {
      "text/plain": [
       "<3953x6042 sparse matrix of type '<class 'numpy.longlong'>'\n",
       "\twith 836483 stored elements in Compressed Sparse Column format>"
      ]
     },
     "execution_count": 27,
     "metadata": {},
     "output_type": "execute_result"
    }
   ],
   "source": [
    "# als 모델은 input으로 (item X user 꼴의 matrix를 받기 때문에 Transpose해줍니다.)\n",
    "csr_data_transpose = csr_data.T\n",
    "csr_data_transpose"
   ]
  },
  {
   "cell_type": "code",
   "execution_count": 28,
   "id": "humanitarian-probe",
   "metadata": {},
   "outputs": [
    {
     "data": {
      "application/vnd.jupyter.widget-view+json": {
       "model_id": "a3db471d98124dfb95ee86e1462a76ac",
       "version_major": 2,
       "version_minor": 0
      },
      "text/plain": [
       "  0%|          | 0/15 [00:00<?, ?it/s]"
      ]
     },
     "metadata": {},
     "output_type": "display_data"
    }
   ],
   "source": [
    "# 모델 훈련\n",
    "als_model.fit(csr_data_transpose)"
   ]
  },
  {
   "cell_type": "markdown",
   "id": "caroline-spider",
   "metadata": {},
   "source": [
    "# 6) 내가 선호하는 5가지 영화 중 하나와 그 외의 영화 하나를 골라 훈련된 모델이 예측한 나의 선호도를 파악해 보세요."
   ]
  },
  {
   "cell_type": "code",
   "execution_count": 29,
   "id": "perceived-north",
   "metadata": {},
   "outputs": [
    {
     "name": "stdout",
     "output_type": "stream",
     "text": [
      "슝=3\n"
     ]
    }
   ],
   "source": [
    "nyw, Star_Wars_4 = 6041, movie_to_idx['Star Wars: Episode IV - A New Hope (1977)']\n",
    "nyw_vector, Star_Wars_4_vector = als_model.user_factors[nyw], als_model.item_factors[Star_Wars_4]\n",
    "\n",
    "print('슝=3')"
   ]
  },
  {
   "cell_type": "code",
   "execution_count": 30,
   "id": "colored-recall",
   "metadata": {},
   "outputs": [
    {
     "data": {
      "text/plain": [
       "array([ 3.92936319e-01, -4.93862540e-01,  1.59450337e-01, -4.91313368e-01,\n",
       "       -1.23987639e+00, -1.35395095e-01,  3.43875945e-01, -1.08716272e-01,\n",
       "        4.17734206e-01,  3.80462289e-01, -5.58708251e-01, -6.88120186e-01,\n",
       "        8.31876099e-02,  7.96296746e-02,  2.39274934e-01,  6.37536407e-01,\n",
       "        5.64568520e-01,  9.89042938e-01, -4.41847920e-01,  7.48536214e-02,\n",
       "        2.36556903e-01, -1.53343961e-01,  4.41697799e-02, -3.14266421e-02,\n",
       "        1.05689816e-01,  4.93726760e-01,  9.11196411e-01, -1.51914759e-02,\n",
       "       -5.06038487e-01, -4.01105732e-03,  9.25880432e-01,  4.48496610e-01,\n",
       "        3.05600166e-01,  4.95758057e-01,  2.78200120e-01,  7.12572455e-01,\n",
       "       -1.15028471e-01, -6.26353025e-01, -2.48325095e-01, -2.02178881e-02,\n",
       "       -6.54517412e-01,  1.03380537e+00, -7.14733779e-01, -3.14839810e-01,\n",
       "        2.38932595e-01,  1.48278937e-01,  3.80049080e-01, -1.64261442e-02,\n",
       "       -5.72166622e-01,  7.36343041e-02, -1.44916109e-03, -1.09171212e-01,\n",
       "        2.91117281e-01,  6.66128337e-01, -8.97716224e-01, -3.78668875e-01,\n",
       "       -3.88625801e-01,  4.17964673e-03,  4.11253721e-01,  1.30114436e+00,\n",
       "       -5.66702962e-01,  1.09163868e+00,  5.08721471e-01, -6.57995284e-01,\n",
       "       -1.46405742e-01, -6.68899477e-01, -3.57349485e-01, -1.52398258e-01,\n",
       "        2.31218666e-01,  3.82353187e-01, -1.62540770e+00,  2.93723583e-01,\n",
       "       -9.47613299e-01,  3.49301636e-01,  8.84046257e-01, -3.11161160e-01,\n",
       "        2.32075706e-01, -6.14607036e-01,  5.44206321e-01, -4.98814940e-01,\n",
       "       -2.44271547e-01, -1.72634289e-01,  5.88623844e-02, -3.96232307e-02,\n",
       "        9.04595554e-01, -2.26220191e-01,  5.83410203e-01, -9.81403053e-01,\n",
       "        1.12375446e-01, -8.72195721e-01, -1.39837354e-01,  1.77884459e-01,\n",
       "       -1.58117205e-01,  2.67324090e-01, -1.52091348e+00,  7.15308905e-01,\n",
       "        3.72429222e-01,  7.59483427e-02, -4.77018625e-01,  8.74512196e-01],\n",
       "      dtype=float32)"
      ]
     },
     "execution_count": 30,
     "metadata": {},
     "output_type": "execute_result"
    }
   ],
   "source": [
    "nyw_vector"
   ]
  },
  {
   "cell_type": "code",
   "execution_count": 31,
   "id": "laughing-terry",
   "metadata": {},
   "outputs": [
    {
     "data": {
      "text/plain": [
       "array([ 0.01702679, -0.00045239,  0.03366721, -0.00420426, -0.0154751 ,\n",
       "        0.01016093,  0.02869704, -0.00425661,  0.01646632, -0.01660776,\n",
       "       -0.00628854, -0.00989012,  0.02392793, -0.00570932,  0.02780126,\n",
       "        0.02555878,  0.01794959,  0.00967549, -0.02011838, -0.00789974,\n",
       "        0.00746596,  0.01749115,  0.01793362, -0.01934217, -0.00682482,\n",
       "        0.03584178,  0.00813533,  0.02742983, -0.00541453, -0.00506686,\n",
       "        0.00216666,  0.02197314,  0.01829243,  0.03233269, -0.00273057,\n",
       "        0.02440031, -0.01476694, -0.02663204, -0.01613159,  0.00936791,\n",
       "       -0.01892746,  0.03278667,  0.00821151,  0.00029012,  0.03216586,\n",
       "        0.02433718,  0.02625886,  0.00592758, -0.01846278,  0.02586852,\n",
       "        0.00404573,  0.00806586,  0.03748239,  0.02174141, -0.00884002,\n",
       "        0.00342112, -0.00978357, -0.00011902,  0.00421543,  0.01897224,\n",
       "       -0.03258067,  0.03130841,  0.02362351, -0.00721357,  0.01013486,\n",
       "       -0.03362592,  0.0173692 , -0.00139307,  0.04666349,  0.02696267,\n",
       "       -0.03766355,  0.00485484,  0.0030281 ,  0.01278143,  0.03314209,\n",
       "        0.00767344,  0.00484379, -0.01685057,  0.01490507, -0.00087198,\n",
       "       -0.00098119, -0.02157155,  0.01084534, -0.00532524,  0.01511809,\n",
       "       -0.00202503,  0.02453718, -0.01380944,  0.01884602, -0.00593777,\n",
       "       -0.03300721,  0.00361699, -0.0085871 ,  0.01317293, -0.02688387,\n",
       "        0.05366712,  0.01841264,  0.0044215 , -0.00013605,  0.02782728],\n",
       "      dtype=float32)"
      ]
     },
     "execution_count": 31,
     "metadata": {},
     "output_type": "execute_result"
    }
   ],
   "source": [
    "Star_Wars_4_vector"
   ]
  },
  {
   "cell_type": "code",
   "execution_count": 32,
   "id": "appreciated-installation",
   "metadata": {},
   "outputs": [
    {
     "data": {
      "text/plain": [
       "0.73252517"
      ]
     },
     "execution_count": 32,
     "metadata": {},
     "output_type": "execute_result"
    }
   ],
   "source": [
    "# nyw, Star_Wars_4_vector 내적하는 코드\n",
    "np.dot(nyw_vector, Star_Wars_4_vector)"
   ]
  },
  {
   "cell_type": "code",
   "execution_count": null,
   "id": "acting-newspaper",
   "metadata": {},
   "outputs": [],
   "source": []
  },
  {
   "cell_type": "markdown",
   "id": "greenhouse-slovenia",
   "metadata": {},
   "source": [
    "# 7) 내가 좋아하는 영화와 비슷한 영화를 추천받아 봅시다.\n",
    "- AlternatingLeastSquares 클래스에 구현되어 있는 similar_items 메서드를 통하여 비슷한 영화 찾기"
   ]
  },
  {
   "cell_type": "code",
   "execution_count": 33,
   "id": "applicable-indianapolis",
   "metadata": {},
   "outputs": [],
   "source": [
    "def get_similar_movie(movie_name: str):\n",
    "    movie_id = movie_to_idx[movie_name]\n",
    "    similar_movie = als_model.similar_items(movie_id)\n",
    "    similar_movie = [idx_to_movie[i[0]] for i in similar_movie] # 위에서 정의한 idx_to_movie를 이용해 movie_id값을 이용해 제목 추출\n",
    "    return similar_movie"
   ]
  },
  {
   "cell_type": "code",
   "execution_count": 34,
   "id": "abroad-taxation",
   "metadata": {},
   "outputs": [
    {
     "data": {
      "text/plain": [
       "[\"Bug's Life, A (1998)\",\n",
       " 'Toy Story 2 (1999)',\n",
       " 'Toy Story (1995)',\n",
       " 'Aladdin (1992)',\n",
       " 'Dinosaur (2000)',\n",
       " 'Antz (1998)',\n",
       " 'Iron Giant, The (1999)',\n",
       " 'Beauty and the Beast (1991)',\n",
       " 'Prince of Egypt, The (1998)',\n",
       " 'Shakespeare in Love (1998)']"
      ]
     },
     "execution_count": 34,
     "metadata": {},
     "output_type": "execute_result"
    }
   ],
   "source": [
    "get_similar_movie('Bug\\'s Life, A (1998)') # 애니메이션들이 많이 추천되었다."
   ]
  },
  {
   "cell_type": "markdown",
   "id": "british-cheat",
   "metadata": {},
   "source": [
    "# 8) 내가 가장 좋아할 만한 영화들을 추천받아 봅시다."
   ]
  },
  {
   "cell_type": "code",
   "execution_count": 35,
   "id": "alien-venue",
   "metadata": {},
   "outputs": [
    {
     "data": {
      "text/plain": [
       "[(2628, 0.5709095),\n",
       " (1356, 0.51579714),\n",
       " (1198, 0.48574233),\n",
       " (1372, 0.4504221),\n",
       " (1376, 0.41937506),\n",
       " (1197, 0.35596725),\n",
       " (1374, 0.34633598),\n",
       " (1375, 0.3435961),\n",
       " (1373, 0.3207959),\n",
       " (1371, 0.2910999),\n",
       " (1242, 0.24075991),\n",
       " (316, 0.23876092),\n",
       " (1291, 0.2036824),\n",
       " (2571, 0.20140573),\n",
       " (1240, 0.19993992),\n",
       " (2858, 0.19898367),\n",
       " (1214, 0.19002584),\n",
       " (1200, 0.18570688),\n",
       " (1270, 0.17663658),\n",
       " (912, 0.15806514)]"
      ]
     },
     "execution_count": 35,
     "metadata": {},
     "output_type": "execute_result"
    }
   ],
   "source": [
    "user = 6041\n",
    "# recommend에서는 user*item CSR Matrix를 받습니다.\n",
    "movie_recommended = als_model.recommend(user, csr_data, N=20, filter_already_liked_items=True)\n",
    "movie_recommended"
   ]
  },
  {
   "cell_type": "code",
   "execution_count": 36,
   "id": "expired-turning",
   "metadata": {},
   "outputs": [
    {
     "data": {
      "text/plain": [
       "['Star Wars: Episode I - The Phantom Menace (1999)',\n",
       " 'Star Trek: First Contact (1996)',\n",
       " 'Raiders of the Lost Ark (1981)',\n",
       " 'Star Trek VI: The Undiscovered Country (1991)',\n",
       " 'Star Trek IV: The Voyage Home (1986)',\n",
       " 'Princess Bride, The (1987)',\n",
       " 'Star Trek: The Wrath of Khan (1982)',\n",
       " 'Star Trek III: The Search for Spock (1984)',\n",
       " 'Star Trek V: The Final Frontier (1989)',\n",
       " 'Star Trek: The Motion Picture (1979)',\n",
       " 'Glory (1989)',\n",
       " 'Stargate (1994)',\n",
       " 'Indiana Jones and the Last Crusade (1989)',\n",
       " 'Matrix, The (1999)',\n",
       " 'Terminator, The (1984)',\n",
       " 'American Beauty (1999)',\n",
       " 'Alien (1979)',\n",
       " 'Aliens (1986)',\n",
       " 'Back to the Future (1985)',\n",
       " 'Casablanca (1942)']"
      ]
     },
     "execution_count": 36,
     "metadata": {},
     "output_type": "execute_result"
    }
   ],
   "source": [
    "rec_list = [idx_to_movie[i[0]] for i in movie_recommended]\n",
    "rec_list"
   ]
  },
  {
   "cell_type": "markdown",
   "id": "british-aaron",
   "metadata": {},
   "source": [
    "# 스타워즈 시리즈, 스타트랙 시리즈 들이 추천되었다"
   ]
  },
  {
   "cell_type": "code",
   "execution_count": null,
   "id": "surprised-barcelona",
   "metadata": {},
   "outputs": [],
   "source": []
  }
 ],
 "metadata": {
  "kernelspec": {
   "display_name": "Python 3",
   "language": "python",
   "name": "python3"
  },
  "language_info": {
   "codemirror_mode": {
    "name": "ipython",
    "version": 3
   },
   "file_extension": ".py",
   "mimetype": "text/x-python",
   "name": "python",
   "nbconvert_exporter": "python",
   "pygments_lexer": "ipython3",
   "version": "3.7.9"
  }
 },
 "nbformat": 4,
 "nbformat_minor": 5
}
